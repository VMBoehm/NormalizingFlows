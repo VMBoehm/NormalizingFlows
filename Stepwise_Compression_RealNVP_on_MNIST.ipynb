{
  "nbformat": 4,
  "nbformat_minor": 0,
  "metadata": {
    "colab": {
      "name": "Stepwise_Compression_RealNVP_on_MNIST.ipynb",
      "provenance": [],
      "collapsed_sections": [],
      "include_colab_link": true
    },
    "kernelspec": {
      "name": "python3",
      "display_name": "Python 3"
    },
    "accelerator": "GPU"
  },
  "cells": [
    {
      "cell_type": "markdown",
      "metadata": {
        "id": "view-in-github",
        "colab_type": "text"
      },
      "source": [
        "<a href=\"https://colab.research.google.com/github/VMBoehm/NormalizingFlows/blob/master/Stepwise_Compression_RealNVP_on_MNIST.ipynb\" target=\"_parent\"><img src=\"https://colab.research.google.com/assets/colab-badge.svg\" alt=\"Open In Colab\"/></a>"
      ]
    },
    {
      "cell_type": "markdown",
      "metadata": {
        "id": "c9W1pCtHrxpj",
        "colab_type": "text"
      },
      "source": [
        "# Normalizing flow with dimensionality reduction\n",
        "### stepwise dimensionality reduction\n",
        "\n",
        "\n",
        "\n",
        "\n"
      ]
    },
    {
      "cell_type": "code",
      "metadata": {
        "id": "D-Fe5G8m1FTC",
        "colab_type": "code",
        "outputId": "d761a7cd-8220-464a-926a-c8d518a793e0",
        "colab": {
          "base_uri": "https://localhost:8080/",
          "height": 34
        }
      },
      "source": [
        "%pylab inline"
      ],
      "execution_count": 0,
      "outputs": [
        {
          "output_type": "stream",
          "text": [
            "Populating the interactive namespace from numpy and matplotlib\n"
          ],
          "name": "stdout"
        }
      ]
    },
    {
      "cell_type": "code",
      "metadata": {
        "id": "cvKJzuU8CIeN",
        "colab_type": "code",
        "outputId": "0b992f4e-173f-4727-801b-c068e447e0ff",
        "colab": {
          "base_uri": "https://localhost:8080/",
          "height": 50
        }
      },
      "source": [
        "! pip install -q https://github.com/dfm/corner.py/archive/master.zip\n",
        "import corner"
      ],
      "execution_count": 0,
      "outputs": [
        {
          "output_type": "stream",
          "text": [
            "\u001b[K     - 11.0MB 1.0MB/s\n",
            "\u001b[?25h  Building wheel for corner (setup.py) ... \u001b[?25l\u001b[?25hdone\n"
          ],
          "name": "stdout"
        }
      ]
    },
    {
      "cell_type": "code",
      "metadata": {
        "id": "-AEYmOsH1FTI",
        "colab_type": "code",
        "colab": {}
      },
      "source": [
        "import tensorflow as tf\n",
        "import tensorflow_probability as tfp\n",
        "import tensorflow_hub as hub\n",
        "import tensorflow_datasets as dts\n",
        "tfd = tfp.distributions\n",
        "tfb = tfp.bijectors\n",
        "from tensorflow.contrib.distributions import softplus_inverse"
      ],
      "execution_count": 0,
      "outputs": []
    },
    {
      "cell_type": "code",
      "metadata": {
        "id": "0bIIfd2ztGdP",
        "colab_type": "code",
        "outputId": "a13e8c9b-2555-4d93-f6ec-bb396b3cb589",
        "colab": {
          "base_uri": "https://localhost:8080/",
          "height": 138
        }
      },
      "source": [
        "import os\n",
        "\n",
        "from google.colab import drive\n",
        "\n",
        "ROOT = \"/content/gdrive\"\n",
        "drive.mount(ROOT, force_remount=True)\n",
        "\n",
        "PROJ = \"My Drive/NormalizingFlow\" \n",
        "PROJECT_PATH = os.path.join(ROOT, PROJ)\n",
        "print(PROJECT_PATH)\n",
        "if not os.path.isdir(PROJECT_PATH):\n",
        "  os.makedirs(PROJECT_PATH)\n",
        "\n",
        "module_dir= os.path.join(PROJECT_PATH, 'module/')\n"
      ],
      "execution_count": 0,
      "outputs": [
        {
          "output_type": "stream",
          "text": [
            "Go to this URL in a browser: https://accounts.google.com/o/oauth2/auth?client_id=947318989803-6bn6qk8qdgf4n4g3pfee6491hc0brc4i.apps.googleusercontent.com&redirect_uri=urn%3Aietf%3Awg%3Aoauth%3A2.0%3Aoob&scope=email%20https%3A%2F%2Fwww.googleapis.com%2Fauth%2Fdocs.test%20https%3A%2F%2Fwww.googleapis.com%2Fauth%2Fdrive%20https%3A%2F%2Fwww.googleapis.com%2Fauth%2Fdrive.photos.readonly%20https%3A%2F%2Fwww.googleapis.com%2Fauth%2Fpeopleapi.readonly&response_type=code\n",
            "\n",
            "Enter your authorization code:\n",
            "··········\n",
            "Mounted at /content/gdrive\n",
            "/content/gdrive/My Drive/NormalizingFlow\n"
          ],
          "name": "stdout"
        }
      ]
    },
    {
      "cell_type": "code",
      "metadata": {
        "id": "8puPFE90P0aD",
        "colab_type": "code",
        "colab": {}
      },
      "source": [
        "nvp_func_path    = os.path.join(module_dir, 'nvp1/')\n",
        "if not os.path.isdir(nvp_func_path):\n",
        "  os.makedirs(nvp_func_path)\n",
        "  \n",
        "plot_path        = os.path.join(PROJECT_PATH, '/plots')\n",
        "\n",
        "if not os.path.isdir(plot_path):\n",
        "  os.makedirs(plot_path)"
      ],
      "execution_count": 0,
      "outputs": []
    },
    {
      "cell_type": "code",
      "metadata": {
        "id": "nFzYYSxY1FTL",
        "colab_type": "code",
        "outputId": "b74a826c-bd0e-4de0-bd54-190ab336ee00",
        "colab": {
          "base_uri": "https://localhost:8080/",
          "height": 50
        }
      },
      "source": [
        "#mnist = tf.keras.datasets.fashion_mnist\n",
        "mnist = tf.keras.datasets.mnist\n",
        "\n",
        "(x_train, y_train),(x_test, y_test) = mnist.load_data()\n",
        "x_train = (x_train/256.).reshape((-1,28*28))\n",
        "x_test  = (x_test/256.).reshape((-1,28*28))"
      ],
      "execution_count": 0,
      "outputs": [
        {
          "output_type": "stream",
          "text": [
            "Downloading data from https://storage.googleapis.com/tensorflow/tf-keras-datasets/mnist.npz\n",
            "11493376/11490434 [==============================] - 0s 0us/step\n"
          ],
          "name": "stdout"
        }
      ]
    },
    {
      "cell_type": "code",
      "metadata": {
        "id": "VxW4haIn4Y9f",
        "colab_type": "code",
        "colab": {}
      },
      "source": [
        ""
      ],
      "execution_count": 0,
      "outputs": []
    },
    {
      "cell_type": "code",
      "metadata": {
        "id": "l2WctSLasG53",
        "colab_type": "code",
        "outputId": "19a5bb18-1932-4288-fd4f-20fb149edc1b",
        "colab": {
          "base_uri": "https://localhost:8080/",
          "height": 269
        }
      },
      "source": [
        "_= hist(x_test.flatten(),bins=100)"
      ],
      "execution_count": 0,
      "outputs": [
        {
          "output_type": "display_data",
          "data": {
            "image/png": "[encoded data removed]",
            "text/plain": [
              "<Figure size 432x288 with 1 Axes>"
            ]
          },
          "metadata": {
            "tags": []
          }
        }
      ]
    },
    {
      "cell_type": "code",
      "metadata": {
        "id": "rU81qVGapFWL",
        "colab_type": "code",
        "outputId": "e349e087-d801-4dc3-85ea-08196b1ac715",
        "colab": {
          "base_uri": "https://localhost:8080/",
          "height": 265
        }
      },
      "source": [
        "imshow(x_train[2].reshape((28,28)))\n",
        "axis('off')\n",
        "show()"
      ],
      "execution_count": 0,
      "outputs": [
        {
          "output_type": "display_data",
          "data": {
            "image/png": "[encoded data removed]",
            "text/plain": [
              "<Figure size 432x288 with 1 Axes>"
            ]
          },
          "metadata": {
            "tags": []
          }
        }
      ]
    },
    {
      "cell_type": "markdown",
      "metadata": {
        "id": "MfzXFgwW1Xko",
        "colab_type": "text"
      },
      "source": [
        "define different data transforms"
      ]
    },
    {
      "cell_type": "code",
      "metadata": {
        "id": "WKWek6AE0afY",
        "colab_type": "code",
        "colab": {}
      },
      "source": [
        "from scipy.ndimage import gaussian_filter\n",
        "from sklearn.decomposition import PCA\n",
        "\n",
        "class data_trafo():\n",
        "  \n",
        "  def __init__(self, types, params):\n",
        "    \n",
        "    self.types = types\n",
        "    self.params= params\n",
        "    \n",
        "  def __call__(self,x):\n",
        "    \n",
        "    if 'dequantize':\n",
        "      x = x + np.random.rand(*x.shape)/256.0\n",
        "    \n",
        "    if 'smooth' in self.types:\n",
        "      for ii in range(len(x)):\n",
        "        # overwrites, but that's ok, because we dont need the inverse\n",
        "        x[ii]=gaussian_filter(x[ii].reshape((-1,28,28)), sigma=self.params['sigma']).flatten()    \n",
        "    \n",
        "    if 'mask' in self.types:\n",
        "      try:\n",
        "         x=x[:,self.mask]\n",
        "      except:\n",
        "        x, mask   = self.mask_data(x)\n",
        "        self.mask = mask\n",
        "          \n",
        "    if 'shift_rescale' in self.types:\n",
        "      x-=0.5\n",
        "      x*=10\n",
        "  \n",
        "    if 'pca' in self.types:\n",
        "      try:\n",
        "        self.dec\n",
        "      except:\n",
        "        pca      = PCA(n_components=self.params['n_comp'])\n",
        "        self.dec = pca.fit(x)\n",
        "      x        = self.dec.transform(x)\n",
        "      \n",
        "      \n",
        "    if 'logit_transform' in self.types:\n",
        "      x = self.rescale(x,self.params['alpha'])\n",
        "    \n",
        "  \n",
        "    if 'box_cox' in self.types:\n",
        "      x, mean, mini = self.box_cox(x,self.params['lambda'])\n",
        "      try:\n",
        "        self.mini\n",
        "      except:\n",
        "        self.mini=mini\n",
        "      try:\n",
        "        self.mean\n",
        "      except:\n",
        "        self.mean=mean\n",
        "      \n",
        "    return x\n",
        "  \n",
        "  def inverse(self,y):\n",
        "    \n",
        "    if 'box_cox' in self.types:\n",
        "      y = self.inverse_box_cox(y,self.mean, self.mini, self.params['lambda'])\n",
        "    \n",
        "    if 'logit_transform' in self.types:\n",
        "      y = self.inverse_rescale(y,self.params['alpha'])\n",
        "    \n",
        "    if 'pca' in self.types:\n",
        "      y = self.dec.inverse_transform(y)\n",
        "      \n",
        "    if 'shift_rescale' in self.types:\n",
        "      y/=10\n",
        "      y+=0.5   \n",
        "    \n",
        "    if 'mask' in self.types:\n",
        "      y = self.inverse_mask(y)\n",
        "           \n",
        "    return y\n",
        "  \n",
        "  \n",
        "  def mask_data(self,x):\n",
        "    st_dev = x.std(axis=0)\n",
        "    mask   = np.where(st_dev>5e-2)[0]\n",
        "    y      = x[:,mask]\n",
        "    return y, mask\n",
        "  \n",
        "  def inverse_mask(self,y):\n",
        "    x = np.zeros((len(y),28*28))\n",
        "    x[:,self.mask] = y\n",
        "    return x\n",
        "  \n",
        "  \n",
        "  def logit(self,x):\n",
        "    return log(x/(1.-x))\n",
        "  \n",
        "  def inverse_logit(self,y):\n",
        "    #=sigmoid\n",
        "    return exp(y)/(exp(y)+1)\n",
        "    \n",
        "    \n",
        "  def rescale(self,x,alpha):\n",
        "    return self.logit((alpha+(1.-2.*alpha)*x))\n",
        "  \n",
        "  def inverse_rescale(self,y,alpha):\n",
        "    return (((self.inverse_logit(y)-alpha)/(1.-2.*alpha)))\n",
        "  \n",
        "  \n",
        "  def box_cox(self,x,l):\n",
        "    minimum = np.amin(x)\n",
        "    x = x-minimum*1.1\n",
        "    x = (x**l-1.)/l\n",
        "    mean = np.expand_dims(x.mean(),0)\n",
        "    x-=mean\n",
        "    return x, mean, minimum\n",
        "  \n",
        "  def inverse_box_cox(self,y,mean, minimum,l):\n",
        "    y+=mean\n",
        "    y = y*l+1.\n",
        "    y = y**(1/l)\n",
        "    y+=minimum*1.1\n",
        "    return y\n",
        "  "
      ],
      "execution_count": 0,
      "outputs": []
    },
    {
      "cell_type": "code",
      "metadata": {
        "id": "Poj3LnnhQMpA",
        "colab_type": "code",
        "colab": {}
      },
      "source": [
        "dt           = data_trafo(['dequantize','logit_transform'],{'sigma':1., 'lambda':1.4, 'n_comp':400, 'alpha':1e-6})\n",
        "x_train_prep = dt(x_train)"
      ],
      "execution_count": 0,
      "outputs": []
    },
    {
      "cell_type": "code",
      "metadata": {
        "id": "JQqf1ft-otcJ",
        "colab_type": "code",
        "colab": {}
      },
      "source": [
        "x_test_prep = dt(x_test)"
      ],
      "execution_count": 0,
      "outputs": []
    },
    {
      "cell_type": "code",
      "metadata": {
        "id": "wZJ0YafLjhbv",
        "colab_type": "code",
        "outputId": "057764e4-17a6-49a0-975f-66273710e896",
        "colab": {
          "base_uri": "https://localhost:8080/",
          "height": 269
        }
      },
      "source": [
        "_= hist(x_test_prep.flatten(),bins=100, log=True)"
      ],
      "execution_count": 0,
      "outputs": [
        {
          "output_type": "display_data",
          "data": {
            "image/png": "[encoded data removed]",
            "text/plain": [
              "<Figure size 432x288 with 1 Axes>"
            ]
          },
          "metadata": {
            "tags": []
          }
        }
      ]
    },
    {
      "cell_type": "code",
      "metadata": {
        "id": "v6Ab0mS5kojC",
        "colab_type": "code",
        "outputId": "7a02890b-0690-48c1-8679-ee112923abe0",
        "colab": {
          "base_uri": "https://localhost:8080/",
          "height": 34
        }
      },
      "source": [
        "import keras \n",
        "from keras.preprocessing.image import ImageDataGenerator"
      ],
      "execution_count": 0,
      "outputs": [
        {
          "output_type": "stream",
          "text": [
            "Using TensorFlow backend.\n"
          ],
          "name": "stderr"
        }
      ]
    },
    {
      "cell_type": "code",
      "metadata": {
        "id": "KXJVV0fxlLOa",
        "colab_type": "code",
        "colab": {}
      },
      "source": [
        "datagen = ImageDataGenerator(rotation_range=10)\n",
        "datagen.fit(x_train_prep.reshape(-1,28,28,1))"
      ],
      "execution_count": 0,
      "outputs": []
    },
    {
      "cell_type": "code",
      "metadata": {
        "id": "pLVzDgh1mMCx",
        "colab_type": "code",
        "colab": {}
      },
      "source": [
        ""
      ],
      "execution_count": 0,
      "outputs": []
    },
    {
      "cell_type": "code",
      "metadata": {
        "id": "W1ChabrJwt6b",
        "colab_type": "code",
        "outputId": "5719c451-2aa8-4685-f90b-0b9c4e4ea742",
        "colab": {
          "base_uri": "https://localhost:8080/",
          "height": 34
        }
      },
      "source": [
        "data_dim    = x_train_prep.shape[-1]\n",
        "batch_size  = 64\n",
        "nvp_depth   = 10\n",
        "nvp_dim     = 100\n",
        "dim_red     = data_dim-nvp_dim\n",
        "print(dim_red)"
      ],
      "execution_count": 0,
      "outputs": [
        {
          "output_type": "stream",
          "text": [
            "684\n"
          ],
          "name": "stdout"
        }
      ]
    },
    {
      "cell_type": "code",
      "metadata": {
        "id": "UOHf6lxTmtdx",
        "colab_type": "code",
        "colab": {}
      },
      "source": [
        "my_gen  = datagen.flow(x_train_prep.reshape(-1,28,28,1), batch_size=batch_size)"
      ],
      "execution_count": 0,
      "outputs": []
    },
    {
      "cell_type": "code",
      "metadata": {
        "id": "O_wJw7roP12e",
        "colab_type": "code",
        "colab": {}
      },
      "source": [
        "indices = np.arange(data_dim-dim_red)"
      ],
      "execution_count": 0,
      "outputs": []
    },
    {
      "cell_type": "markdown",
      "metadata": {
        "id": "sEwJwJ-0EbFj",
        "colab_type": "text"
      },
      "source": [
        "getting checkerboard permutations"
      ]
    },
    {
      "cell_type": "code",
      "metadata": {
        "id": "ivQ2xb9PDvr2",
        "colab_type": "code",
        "outputId": "b8af71da-8c7c-4089-b4dc-5dbf0aaeedf2",
        "colab": {
          "base_uri": "https://localhost:8080/",
          "height": 50
        }
      },
      "source": [
        "#get checkerboard\n",
        "a = np.arange(0,data_dim,2)\n",
        "b = np.arange(1,data_dim+1,2)\n",
        "\n",
        "alternating_permutation = np.append(a,b)\n",
        "print(alternating_permutation.shape)\n",
        "\n",
        "#permute first and second half\n",
        "a = np.arange(0,data_dim//2)\n",
        "b = np.arange(data_dim//2,data_dim)\n",
        "swapping_permutation = np.append(b,a)\n",
        "print(swapping_permutation.shape)\n",
        "\n",
        "np.random.seed(10101)\n",
        "\n",
        "random_permutations = [np.random.permutation(np.arange(data_dim)) for ii in range(30)]\n",
        "\n",
        "permutations = []\n",
        "permutations.append(alternating_permutation)\n",
        "for ii in range(len(random_permutations)):\n",
        "  permutations.append(swapping_permutation)\n",
        "  #permutations.append(random_permutations[ii])"
      ],
      "execution_count": 0,
      "outputs": [
        {
          "output_type": "stream",
          "text": [
            "(784,)\n",
            "(784,)\n"
          ],
          "name": "stdout"
        }
      ]
    },
    {
      "cell_type": "code",
      "metadata": {
        "colab_type": "code",
        "id": "yvTEYw44O_5q",
        "outputId": "165569cd-beb1-4010-d8f8-cf725dbc44ee",
        "colab": {
          "base_uri": "https://localhost:8080/",
          "height": 134
        }
      },
      "source": [
        "tf.reset_default_graph()\n",
        "\n",
        "\n",
        "lr            = tf.placeholder_with_default(0.01,shape=[])\n",
        "\n",
        "optimizer     = tf.train.AdamOptimizer(learning_rate=lr)\n",
        "\n",
        "sigma         = tf.placeholder_with_default(0.1,shape=[])\n",
        "\n",
        "\n",
        "\n",
        "\n",
        "def get_prior():\n",
        "    return tfd.MultivariateNormalDiag(tf.zeros([data_dim]), scale_identity_multiplier=1.0, name ='prior')\n",
        "\n",
        "prior             = get_prior()\n",
        "\n",
        "x_tr              = tf.placeholder(shape=[None,data_dim], dtype=tf.float32)\n",
        "\n",
        "\n",
        "\n",
        "### ----------- NVP ----------- ###\n",
        "\n",
        "def init_once(x, name):\n",
        "  return tf.get_variable(name, initializer=x, trainable=False)\n",
        "\n",
        "\n",
        "nvp_size      = [[1024, 1024] for ii in range(nvp_depth)]\n",
        "\n",
        "\n",
        "class DimRed(tfb.Bijector):\n",
        "  def __init__(self, input_dim, output_dim, batch_size,validate_args=False, name=\"dim_red\"):\n",
        "    super(DimRed, self).__init__(\n",
        "        is_constant_jacobian=True,\n",
        "        validate_args=validate_args,\n",
        "        forward_min_event_ndims=output_dim,\n",
        "        inverse_min_event_ndims=output_dim,\n",
        "        name=name)\n",
        "    print(input_dim,output_dim)\n",
        "    self.is_injective = False\n",
        "    self.indices      = tf.constant(np.arange(input_dim),dtype=tf.int32)\n",
        "    self.shape        = tf.constant([output_dim,batch_size, 1])\n",
        "\n",
        "  def _forward(self, x):\n",
        "    return x\n",
        "\n",
        "  def _inverse(self, y):    \n",
        "    updates       = tf.gather(y,self.indices,axis=-1)\n",
        "    updates       = tf.expand_dims(tf.transpose(updates),-1)\n",
        "    y_comp        = tf.scatter_nd(tf.expand_dims(self.indices,-1), updates, self.shape)\n",
        "    y_comp        = tf.squeeze(tf.transpose(y_comp))\n",
        "    return y_comp\n",
        "\n",
        "  def _inverse_log_det_jacobian(self, y):\n",
        "    return tf.constant(0., y.dtype)\n",
        "\n",
        "  def _forward_log_det_jacobian(self, x):\n",
        "    return tf.constant(0., x.dtype)\n",
        "\n",
        " \n",
        "\n",
        "def get_nvp():\n",
        "  chain         = []\n",
        "  perms         = [tfb.Permute(permutation=init_once(permutations[ii],name=\"permutation%d\"%ii)) for ii in range(nvp_depth)]\n",
        "  masked_frac   = 0.5\n",
        "  \n",
        "  \n",
        "  current_dim = nvp_dim\n",
        "  for i,s in enumerate(nvp_size):\n",
        "    if i%2==0:\n",
        "      chain.append(DimRed(input_dim=current_dim, output_dim=data_dim, batch_size=batch_size,name='red_dim%d'%i))\n",
        "      current_dim = min(2*current_dim,data_dim)\n",
        "    if i==0:\n",
        "      chain.append(perms[i])\n",
        "    mask_part   = np.int32(np.floor(data_dim*masked_frac))\n",
        "    chain.append(tfb.RealNVP(num_masked=mask_part,shift_and_log_scale_fn=tfb.real_nvp_default_template(hidden_layers=s,name='nvp%d'%i,shift_only=True)))\n",
        "    chain.append(perms[i])\n",
        "                 \n",
        "  return tfb.Chain(chain,name='nvp_chain')\n",
        "\n",
        "\n",
        "\n",
        "def nvp_module_spec():\n",
        "    x_sample     = tf.placeholder(tf.float32, shape=[None,data_dim])\n",
        "    u_sample     = tf.placeholder(tf.float32, shape=[None,data_dim])\n",
        "\n",
        "    nvp_         = get_nvp()\n",
        "   \n",
        "    bwd_pass     = nvp_.inverse(x_sample)\n",
        "    fwd_pass     = nvp_.forward(u_sample)\n",
        "    \n",
        "\n",
        "    hub.add_signature(inputs={'x_sample':x_sample,'u_sample':u_sample},outputs={'fwd_pass': fwd_pass, 'bwd_pass': bwd_pass})\n",
        "\n",
        "nvp_spec  = hub.create_module_spec(nvp_module_spec)\n",
        "\n",
        "nvp_funcs = hub.Module(nvp_spec, name='nvp_funcs',trainable=True)\n",
        "\n",
        "bwd_pass  = nvp_funcs({'x_sample':x_tr,'u_sample':np.zeros((batch_size,data_dim))},as_dict=True)['bwd_pass']\n",
        "fwd_pass  = nvp_funcs({'x_sample':np.zeros((batch_size,data_dim)), 'u_sample':bwd_pass},as_dict=True)['fwd_pass']\n",
        "\n",
        "likelihood = tfd.MultivariateNormalDiag(loc=fwd_pass, scale_identity_multiplier=sigma)\n",
        "\n",
        "loss       = - tf.reduce_mean(likelihood.log_prob(x_tr))\n",
        "\n",
        "opt_op_nvp = optimizer.minimize(loss)\n",
        "\n",
        "# # ---------------------------end train nvp ----------------- #\n",
        "\n",
        "#comment train nvp above section above and uncomment this for loading the trained module\n",
        "\n",
        "#nvp_funcs     = hub.Module(nvp_func_path, trainable=False)"
      ],
      "execution_count": 0,
      "outputs": [
        {
          "output_type": "stream",
          "text": [
            "100 784\n",
            "200 784\n",
            "400 784\n",
            "784 784\n",
            "784 784\n",
            "INFO:tensorflow:Saver not created because there are no variables in the graph to restore\n",
            "INFO:tensorflow:Saver not created because there are no variables in the graph to restore\n"
          ],
          "name": "stdout"
        }
      ]
    },
    {
      "cell_type": "code",
      "metadata": {
        "id": "Soh1tnGH1FTW",
        "colab_type": "code",
        "colab": {}
      },
      "source": [
        "sess = tf.Session()\n",
        "sess.run(tf.global_variables_initializer())"
      ],
      "execution_count": 0,
      "outputs": []
    },
    {
      "cell_type": "markdown",
      "metadata": {
        "id": "U0xZ_4ActOw9",
        "colab_type": "text"
      },
      "source": [
        "**Training of the NVP**"
      ]
    },
    {
      "cell_type": "code",
      "metadata": {
        "id": "ggPmR0fs8qEM",
        "colab_type": "code",
        "colab": {}
      },
      "source": [
        "nvp_loss = []\n",
        "nvp_sigma= []\n",
        "nepoch = 0"
      ],
      "execution_count": 0,
      "outputs": []
    },
    {
      "cell_type": "code",
      "metadata": {
        "id": "ERmZCW6yBqUR",
        "colab_type": "code",
        "outputId": "6ffb1984-b9ad-4cdc-c8b4-2f290b1083d2",
        "colab": {
          "base_uri": "https://localhost:8080/",
          "height": 34
        }
      },
      "source": [
        "ii     = 0\n",
        "\n",
        "learning_rate = 1e-4\n",
        "\n",
        "#train the nvp\n",
        "while nepoch<400:\n",
        "  x = my_gen.next()\n",
        "  if len(x)==batch_size:\n",
        "    if (ii+1)*batch_size>len(x_train_prep): \n",
        "      ii=0\n",
        "      nepoch+=1\n",
        "      print('starting epoch', nepoch)\n",
        "    if nepoch>20:\n",
        "      learning_rate=1e-4\n",
        "    if nepoch>20:\n",
        "      learning_rate=1e-5\n",
        "    x_truth = x.reshape(-1,28*28)\n",
        "    _, ll,s = sess.run([opt_op_nvp,loss,sigma], feed_dict={x_tr: x_truth, lr: learning_rate})\n",
        "    nvp_loss+=[ll]\n",
        "    nvp_sigma+=[s]\n",
        "    if ii%100==0:\n",
        "      print(ll, s)\n",
        "  ii+=1"
      ],
      "execution_count": 0,
      "outputs": [
        {
          "output_type": "stream",
          "text": [
            "1472557.2 0.1\n"
          ],
          "name": "stdout"
        }
      ]
    },
    {
      "cell_type": "code",
      "metadata": {
        "id": "t_EkOiNsLlcr",
        "colab_type": "code",
        "colab": {}
      },
      "source": [
        "ll =[]\n",
        "for ii in range(len(x_test_prep)//batch_size):\n",
        "  ll.append(sess.run([loss], feed_dict={x_tr:x_test_prep[ii*batch_size:(ii+1)*batch_size]}))\n",
        "print(mean(ll))\n",
        "\n",
        "ll =[]\n",
        "for ii in range(len(x_train_prep)//batch_size):\n",
        "  ll.append(sess.run([loss], feed_dict={x_tr:x_train_prep[ii*batch_size:(ii+1)*batch_size]}))\n",
        "print(mean(ll))"
      ],
      "execution_count": 0,
      "outputs": []
    },
    {
      "cell_type": "code",
      "metadata": {
        "id": "OfiG5_nbyTbV",
        "colab_type": "code",
        "outputId": "710bd21a-71d1-4fbb-8542-1b3634e1ceb5",
        "colab": {
          "base_uri": "https://localhost:8080/",
          "height": 286
        }
      },
      "source": [
        "plt.figure()\n",
        "semilogy(nvp_loss[::],label='nvp loss')\n",
        "legend()"
      ],
      "execution_count": 0,
      "outputs": [
        {
          "output_type": "execute_result",
          "data": {
            "text/plain": [
              "<matplotlib.legend.Legend at 0x7f065b287828>"
            ]
          },
          "metadata": {
            "tags": []
          },
          "execution_count": 31
        },
        {
          "output_type": "display_data",
          "data": {
            "image/png": "[encoded data removed]",
            "text/plain": [
              "<Figure size 432x288 with 1 Axes>"
            ]
          },
          "metadata": {
            "tags": []
          }
        }
      ]
    },
    {
      "cell_type": "code",
      "metadata": {
        "id": "kWl5SQOzp_Kd",
        "colab_type": "code",
        "outputId": "01c4d51f-db59-4158-b2ca-af7747508fdf",
        "colab": {
          "base_uri": "https://localhost:8080/",
          "height": 1000
        }
      },
      "source": [
        "x_input = x_test_prep[:batch_size,:]\n",
        "\n",
        "encode  = sess.run(bwd_pass, feed_dict={x_tr: x_input})\n",
        "decode  = sess.run(fwd_pass, feed_dict={x_tr: x_input})\n",
        "\n",
        "for index in range(5):\n",
        "\n",
        "  x_input = dt.inverse(x_input)\n",
        "  imshow(x_input[index].reshape((28,28)))\n",
        "  axis('off')\n",
        "  colorbar()\n",
        "  show()\n",
        "\n",
        "  decode = dt.inverse(decode)\n",
        "  imshow(decode[index].reshape((28,28)))\n",
        "  axis('off')\n",
        "  colorbar()\n",
        "  show()       \n",
        "\n",
        "  imshow((decode[index]-x_input[index]).reshape((28,28)))\n",
        "  colorbar()\n",
        "  show()"
      ],
      "execution_count": 0,
      "outputs": [
        {
          "output_type": "display_data",
          "data": {
            "image/png": "[encoded data removed]",
            "text/plain": [
              "<Figure size 432x288 with 2 Axes>"
            ]
          },
          "metadata": {
            "tags": []
          }
        },
        {
          "output_type": "display_data",
          "data": {
            "image/png": "[encoded data removed]",
            "text/plain": [
              "<Figure size 432x288 with 2 Axes>"
            ]
          },
          "metadata": {
            "tags": []
          }
        },
        {
          "output_type": "display_data",
          "data": {
            "image/png": "[encoded data removed]",
            "text/plain": [
              "<Figure size 432x288 with 2 Axes>"
            ]
          },
          "metadata": {
            "tags": []
          }
        },
        {
          "output_type": "display_data",
          "data": {
            "image/png": "[encoded data removed]",
            "text/plain": [
              "<Figure size 432x288 with 2 Axes>"
            ]
          },
          "metadata": {
            "tags": []
          }
        },
        {
          "output_type": "display_data",
          "data": {
            "image/png": "[encoded data removed]",
            "text/plain": [
              "<Figure size 432x288 with 2 Axes>"
            ]
          },
          "metadata": {
            "tags": []
          }
        },
        {
          "output_type": "display_data",
          "data": {
            "image/png": "[encoded data removed]",
            "text/plain": [
              "<Figure size 432x288 with 2 Axes>"
            ]
          },
          "metadata": {
            "tags": []
          }
        },
        {
          "output_type": "display_data",
          "data": {
            "image/png": "[encoded data removed]",
            "text/plain": [
              "<Figure size 432x288 with 2 Axes>"
            ]
          },
          "metadata": {
            "tags": []
          }
        },
        {
          "output_type": "display_data",
          "data": {
            "image/png": "[encoded data removed]",
            "text/plain": [
              "<Figure size 432x288 with 2 Axes>"
            ]
          },
          "metadata": {
            "tags": []
          }
        },
        {
          "output_type": "display_data",
          "data": {
            "image/png": "[encoded data removed]",
            "text/plain": [
              "<Figure size 432x288 with 2 Axes>"
            ]
          },
          "metadata": {
            "tags": []
          }
        },
        {
          "output_type": "display_data",
          "data": {
            "image/png": "[encoded data removed]",
            "text/plain": [
              "<Figure size 432x288 with 2 Axes>"
            ]
          },
          "metadata": {
            "tags": []
          }
        },
        {
          "output_type": "display_data",
          "data": {
            "image/png": "[encoded data removed]",
            "text/plain": [
              "<Figure size 432x288 with 2 Axes>"
            ]
          },
          "metadata": {
            "tags": []
          }
        },
        {
          "output_type": "display_data",
          "data": {
            "image/png": "[encoded data removed]",
            "text/plain": [
              "<Figure size 432x288 with 2 Axes>"
            ]
          },
          "metadata": {
            "tags": []
          }
        },
        {
          "output_type": "display_data",
          "data": {
            "image/png": "[encoded data removed]",
            "text/plain": [
              "<Figure size 432x288 with 2 Axes>"
            ]
          },
          "metadata": {
            "tags": []
          }
        },
        {
          "output_type": "display_data",
          "data": {
            "image/png": "[encoded data removed]",
            "text/plain": [
              "<Figure size 432x288 with 2 Axes>"
            ]
          },
          "metadata": {
            "tags": []
          }
        },
        {
          "output_type": "display_data",
          "data": {
            "image/png": "[encoded data removed]",
            "text/plain": [
              "<Figure size 432x288 with 2 Axes>"
            ]
          },
          "metadata": {
            "tags": []
          }
        }
      ]
    },
    {
      "cell_type": "code",
      "metadata": {
        "id": "YWmT0AjAeOKs",
        "colab_type": "code",
        "colab": {}
      },
      "source": [
        "\n",
        "prior_sample = sess.run(prior.sample(batch_size))\n",
        "samples_nvp  = sess.run(nvp_funcs({'x_sample':x_truth,'u_sample':prior_sample},as_dict=True)['fwd_pass'])\n",
        "\n",
        "data_space  = dt.inverse(samples_nvp)\n",
        "print(data_space.shape)\n",
        "\n",
        "figure(figsize=(5,5))\n",
        "suptitle('nvp samples')\n",
        "for i in range(16):\n",
        "    subplot(4,4,i+1)\n",
        "    imshow(np.reshape(data_space[i],(28,28)),cmap='gray',vmin=0,vmax=1); #colorbar()\n",
        "    axis('off')"
      ],
      "execution_count": 0,
      "outputs": []
    },
    {
      "cell_type": "code",
      "metadata": {
        "id": "Cz7H4D7wBysy",
        "colab_type": "code",
        "colab": {}
      },
      "source": [
        "num = 20#len(x_test_prep)//batch_size\n",
        "latent_space = np.zeros((num*batch_size,nvp_dim))\n",
        "for ii in range(num):\n",
        "  latent_space[ii*batch_size:(ii+1)*batch_size,:]=sess.run(nvp_funcs({'x_sample':x_test_prep[ii*batch_size:(ii+1)*batch_size],'u_sample':np.zeros((batch_size,nvp_dim))},as_dict=True)['bwd_pass'])\n"
      ],
      "execution_count": 0,
      "outputs": []
    },
    {
      "cell_type": "code",
      "metadata": {
        "id": "ggbMpLNNBzid",
        "colab_type": "code",
        "colab": {}
      },
      "source": [
        "plt.scatter(latent_space[:,0],latent_space[:,1])"
      ],
      "execution_count": 0,
      "outputs": []
    },
    {
      "cell_type": "code",
      "metadata": {
        "id": "TYtuOw8uB-aO",
        "colab_type": "code",
        "colab": {}
      },
      "source": [
        "nvp_funcs.export(nvp_func_path,sess)"
      ],
      "execution_count": 0,
      "outputs": []
    }
  ]
}