{
  "nbformat": 4,
  "nbformat_minor": 0,
  "metadata": {
    "colab": {
      "name": "RealNVP_on_fashion-MNIST.ipynb",
      "version": "0.3.2",
      "provenance": [],
      "collapsed_sections": [],
      "include_colab_link": true
    },
    "kernelspec": {
      "name": "python3",
      "display_name": "Python 3"
    },
    "accelerator": "GPU"
  },
  "cells": [
    {
      "cell_type": "markdown",
      "metadata": {
        "id": "view-in-github",
        "colab_type": "text"
      },
      "source": [
        "<a href=\"https://colab.research.google.com/github/VMBoehm/NormalizingFlows/blob/master/RealNVP_on_fashion_MNIST.ipynb\" target=\"_parent\"><img src=\"https://colab.research.google.com/assets/colab-badge.svg\" alt=\"Open In Colab\"/></a>"
      ]
    },
    {
      "cell_type": "markdown",
      "metadata": {
        "id": "c9W1pCtHrxpj",
        "colab_type": "text"
      },
      "source": [
        "**Fitting a RealNVP on Fashion-MNIST**\n",
        "\n",
        "\n"
      ]
    },
    {
      "cell_type": "code",
      "metadata": {
        "id": "D-Fe5G8m1FTC",
        "colab_type": "code",
        "outputId": "459b66fa-cc6a-4be8-9a91-d76ce632aae9",
        "colab": {
          "base_uri": "https://localhost:8080/",
          "height": 34
        }
      },
      "source": [
        "%pylab inline"
      ],
      "execution_count": 46,
      "outputs": [
        {
          "output_type": "stream",
          "text": [
            "Populating the interactive namespace from numpy and matplotlib\n"
          ],
          "name": "stdout"
        }
      ]
    },
    {
      "cell_type": "code",
      "metadata": {
        "id": "cvKJzuU8CIeN",
        "colab_type": "code",
        "outputId": "776cb014-b43a-4b25-bd45-4e7695ab5aee",
        "colab": {
          "base_uri": "https://localhost:8080/",
          "height": 50
        }
      },
      "source": [
        "! pip install -q https://github.com/dfm/corner.py/archive/master.zip\n",
        "import corner"
      ],
      "execution_count": 47,
      "outputs": [
        {
          "output_type": "stream",
          "text": [
            "\u001b[K     / 11.0MB 874kB/s\n",
            "\u001b[?25h  Building wheel for corner (setup.py) ... \u001b[?25l\u001b[?25hdone\n"
          ],
          "name": "stdout"
        }
      ]
    },
    {
      "cell_type": "code",
      "metadata": {
        "id": "-AEYmOsH1FTI",
        "colab_type": "code",
        "colab": {}
      },
      "source": [
        "import tensorflow as tf\n",
        "import tensorflow_probability as tfp\n",
        "import tensorflow_hub as hub\n",
        "import tensorflow_datasets as dts\n",
        "tfd = tfp.distributions\n",
        "tfb = tfp.bijectors\n",
        "from tensorflow.contrib.distributions import softplus_inverse"
      ],
      "execution_count": 0,
      "outputs": []
    },
    {
      "cell_type": "code",
      "metadata": {
        "id": "0bIIfd2ztGdP",
        "colab_type": "code",
        "outputId": "bc150526-63e0-4719-d262-c5e6f2ace52c",
        "colab": {
          "base_uri": "https://localhost:8080/",
          "height": 50
        }
      },
      "source": [
        "import os\n",
        "\n",
        "from google.colab import drive\n",
        "\n",
        "ROOT = \"/content/gdrive\"\n",
        "drive.mount(ROOT, force_remount=True)\n",
        "\n",
        "PROJ = \"My Drive/NormalizingFlow\" \n",
        "PROJECT_PATH = os.path.join(ROOT, PROJ)\n",
        "print(PROJECT_PATH)\n",
        "if not os.path.isdir(PROJECT_PATH):\n",
        "  os.makedirs(PROJECT_PATH)\n",
        "\n",
        "module_dir= os.path.join(PROJECT_PATH, 'module/')\n"
      ],
      "execution_count": 49,
      "outputs": [
        {
          "output_type": "stream",
          "text": [
            "Mounted at /content/gdrive\n",
            "/content/gdrive/My Drive/NormalizingFlow\n"
          ],
          "name": "stdout"
        }
      ]
    },
    {
      "cell_type": "code",
      "metadata": {
        "id": "8puPFE90P0aD",
        "colab_type": "code",
        "colab": {}
      },
      "source": [
        "nvp_func_path    = os.path.join(module_dir, 'nvp1/')\n",
        "if not os.path.isdir(nvp_func_path):\n",
        "  os.makedirs(nvp_func_path)\n",
        "  \n",
        "plot_path        = os.path.join(PROJECT_PATH, '/plots')\n",
        "\n",
        "if not os.path.isdir(plot_path):\n",
        "  os.makedirs(plot_path)"
      ],
      "execution_count": 0,
      "outputs": []
    },
    {
      "cell_type": "code",
      "metadata": {
        "id": "nFzYYSxY1FTL",
        "colab_type": "code",
        "colab": {}
      },
      "source": [
        "mnist = tf.keras.datasets.fashion_mnist\n",
        "#mnist = tf.keras.datasets.mnist\n",
        "\n",
        "(x_train, y_train),(x_test, y_test) = mnist.load_data()\n",
        "x_train = (x_train/255.).reshape((-1,28*28))\n",
        "x_test  = (x_test/255.).reshape((-1,28*28))"
      ],
      "execution_count": 0,
      "outputs": []
    },
    {
      "cell_type": "code",
      "metadata": {
        "id": "VxW4haIn4Y9f",
        "colab_type": "code",
        "colab": {}
      },
      "source": [
        ""
      ],
      "execution_count": 0,
      "outputs": []
    },
    {
      "cell_type": "code",
      "metadata": {
        "id": "l2WctSLasG53",
        "colab_type": "code",
        "colab": {
          "base_uri": "https://localhost:8080/",
          "height": 269
        },
        "outputId": "25087ded-912c-4793-b51a-d115c2b85191"
      },
      "source": [
        "_= hist(x_test.flatten(),bins=100)"
      ],
      "execution_count": 52,
      "outputs": [
        {
          "output_type": "display_data",
          "data": {
            "image/png": "[encoded data removed]",
            "text/plain": [
              "<Figure size 432x288 with 1 Axes>"
            ]
          },
          "metadata": {
            "tags": []
          }
        }
      ]
    },
    {
      "cell_type": "code",
      "metadata": {
        "id": "rU81qVGapFWL",
        "colab_type": "code",
        "colab": {
          "base_uri": "https://localhost:8080/",
          "height": 265
        },
        "outputId": "a451783c-327f-4858-aa53-b54afcf15a1c"
      },
      "source": [
        "imshow(x_train[2].reshape((28,28)))\n",
        "axis('off')\n",
        "show()"
      ],
      "execution_count": 53,
      "outputs": [
        {
          "output_type": "display_data",
          "data": {
            "image/png": "[encoded data removed]",
            "text/plain": [
              "<Figure size 432x288 with 1 Axes>"
            ]
          },
          "metadata": {
            "tags": []
          }
        }
      ]
    },
    {
      "cell_type": "markdown",
      "metadata": {
        "id": "MfzXFgwW1Xko",
        "colab_type": "text"
      },
      "source": [
        "define different data transforms"
      ]
    },
    {
      "cell_type": "code",
      "metadata": {
        "id": "WKWek6AE0afY",
        "colab_type": "code",
        "colab": {}
      },
      "source": [
        "from scipy.ndimage import gaussian_filter\n",
        "from sklearn.decomposition import PCA\n",
        "\n",
        "class data_trafo():\n",
        "  \n",
        "  def __init__(self, types, params):\n",
        "    \n",
        "    self.types = types\n",
        "    self.params= params\n",
        "    \n",
        "  def __call__(self,x):\n",
        "    \n",
        "    if 'smooth' in self.types:\n",
        "      for ii in range(len(x)):\n",
        "        # overwrites, but that's ok, because we dont need the inverse\n",
        "        x[ii]=gaussian_filter(x[ii].reshape((-1,28,28)), sigma=self.params['sigma']).flatten()           \n",
        "    \n",
        "    if 'mask' in self.types:\n",
        "      try:\n",
        "         x=x[:,self.mask]\n",
        "      except:\n",
        "        x, mask   = self.mask_data(x)\n",
        "        self.mask = mask\n",
        "          \n",
        "    if 'shift_rescale' in self.types:\n",
        "      x-=0.5\n",
        "      x*=10\n",
        "  \n",
        "    if 'pca' in self.types:\n",
        "      try:\n",
        "        self.dec\n",
        "      except:\n",
        "        pca      = PCA(n_components=self.params['n_comp'])\n",
        "        self.dec = pca.fit(x)\n",
        "      x        = self.dec.transform(x)\n",
        "      \n",
        "      \n",
        "    if 'logit_transform' in self.types:\n",
        "      x, maximum = self.rescale(x,self.params['alpha'])\n",
        "      try:\n",
        "        self.max\n",
        "      except:\n",
        "        self.max = maximum\n",
        "    \n",
        "  \n",
        "    if 'box_cox' in self.types:\n",
        "      x, mean, mini = self.box_cox(x,self.params['lambda'])\n",
        "      try:\n",
        "        self.mini\n",
        "      except:\n",
        "        self.mini=mini\n",
        "      try:\n",
        "        self.mean\n",
        "      except:\n",
        "        self.mean=mean\n",
        "      \n",
        "    return x\n",
        "  \n",
        "  def inverse(self,y):\n",
        "    \n",
        "    if 'box_cox' in self.types:\n",
        "      y = self.inverse_box_cox(y,self.mean, self.mini, self.params['lambda'])\n",
        "    \n",
        "    if 'logit_transform' in self.types:\n",
        "      y = self.inverse_rescale(y,self.params['alpha'],self.max)\n",
        "    \n",
        "    if 'pca' in self.types:\n",
        "      y = self.dec.inverse_transform(y)\n",
        "      \n",
        "    if 'shift_rescale' in self.types:\n",
        "      y/=10\n",
        "      y+=0.5   \n",
        "    \n",
        "    if 'mask' in self.types:\n",
        "      y = self.inverse_mask(y)\n",
        "           \n",
        "    return y\n",
        "  \n",
        "  \n",
        "  def mask_data(self,x):\n",
        "    st_dev = x.std(axis=0)\n",
        "    mask   = np.where(st_dev>5e-2)[0]\n",
        "    y      = x[:,mask]\n",
        "    return y, mask\n",
        "  \n",
        "  def inverse_mask(self,y):\n",
        "    x = np.zeros((len(y),28*28))\n",
        "    x[:,self.mask] = y\n",
        "    return x\n",
        "  \n",
        "  \n",
        "  def logit(self,x):\n",
        "    return log(x/(1.-x))\n",
        "  \n",
        "  def inverse_logit(self,y):\n",
        "    return exp(y)/(exp(y)+1)\n",
        "    \n",
        "    \n",
        "  def rescale(self,x,alpha):\n",
        "    maximum = amax(x)*1.1\n",
        "    return self.logit((alpha+(1.-alpha)*(x/maximum))), maximum\n",
        "  \n",
        "  def inverse_rescale(self,y,alpha,maximum):\n",
        "    return (((self.inverse_logit(y)-alpha)/(1.-alpha)))*maximum\n",
        "  \n",
        "  \n",
        "  def box_cox(self,x,l):\n",
        "    minimum = np.amin(x)\n",
        "    x = x-minimum*1.1\n",
        "    x = (x**l-1.)/l\n",
        "    mean = np.expand_dims(x.mean(),0)\n",
        "    x-=mean\n",
        "    return x, mean, minimum\n",
        "  \n",
        "  def inverse_box_cox(self,y,mean, minimum,l):\n",
        "    y+=mean\n",
        "    y = y*l+1.\n",
        "    y = y**(1/l)\n",
        "    y+=minimum*1.1\n",
        "    return y\n",
        "  "
      ],
      "execution_count": 0,
      "outputs": []
    },
    {
      "cell_type": "code",
      "metadata": {
        "id": "Poj3LnnhQMpA",
        "colab_type": "code",
        "colab": {}
      },
      "source": [
        "dt           = data_trafo(['logit_transform','mask'],{'sigma':1., 'lambda':1.4, 'n_comp':400, 'alpha':0.01})\n",
        "x_train_prep = dt(x_train)"
      ],
      "execution_count": 0,
      "outputs": []
    },
    {
      "cell_type": "code",
      "metadata": {
        "id": "JQqf1ft-otcJ",
        "colab_type": "code",
        "colab": {}
      },
      "source": [
        "x_test_prep = dt(x_test)"
      ],
      "execution_count": 0,
      "outputs": []
    },
    {
      "cell_type": "code",
      "metadata": {
        "id": "E7_MB9ysQRjh",
        "colab_type": "code",
        "colab": {
          "base_uri": "https://localhost:8080/",
          "height": 265
        },
        "outputId": "948940fc-0d8f-4316-8110-9241d13b27c7"
      },
      "source": [
        "imshow(x_train[2].reshape((28,28)))\n",
        "axis('off')\n",
        "show()"
      ],
      "execution_count": 57,
      "outputs": [
        {
          "output_type": "display_data",
          "data": {
            "image/png": "[encoded data removed]",
            "text/plain": [
              "<Figure size 432x288 with 1 Axes>"
            ]
          },
          "metadata": {
            "tags": []
          }
        }
      ]
    },
    {
      "cell_type": "code",
      "metadata": {
        "id": "21ipGzlipdmC",
        "colab_type": "code",
        "colab": {}
      },
      "source": [
        ""
      ],
      "execution_count": 0,
      "outputs": []
    },
    {
      "cell_type": "code",
      "metadata": {
        "id": "wZJ0YafLjhbv",
        "colab_type": "code",
        "colab": {
          "base_uri": "https://localhost:8080/",
          "height": 269
        },
        "outputId": "01d97066-cf21-4ae9-d730-bfcf718846f6"
      },
      "source": [
        "_= hist(x_test_prep.flatten(),bins=100, log=True)"
      ],
      "execution_count": 58,
      "outputs": [
        {
          "output_type": "display_data",
          "data": {
            "image/png": "[encoded data removed]",
            "text/plain": [
              "<Figure size 432x288 with 1 Axes>"
            ]
          },
          "metadata": {
            "tags": []
          }
        }
      ]
    },
    {
      "cell_type": "code",
      "metadata": {
        "id": "W1ChabrJwt6b",
        "colab_type": "code",
        "outputId": "6f996fa6-fc42-4aae-84a5-bceca92a0d51",
        "colab": {
          "base_uri": "https://localhost:8080/",
          "height": 34
        }
      },
      "source": [
        "data_dim    = x_train_prep.shape[-1]\n",
        "print(data_dim)\n",
        "batch_size  = 32\n",
        "nvp_depth   = 6"
      ],
      "execution_count": 59,
      "outputs": [
        {
          "output_type": "stream",
          "text": [
            "736\n"
          ],
          "name": "stdout"
        }
      ]
    },
    {
      "cell_type": "markdown",
      "metadata": {
        "id": "sEwJwJ-0EbFj",
        "colab_type": "text"
      },
      "source": [
        "getting checkerboard permutations"
      ]
    },
    {
      "cell_type": "code",
      "metadata": {
        "id": "ivQ2xb9PDvr2",
        "colab_type": "code",
        "outputId": "26588add-e7b4-4dba-b1d6-ea004c12078b",
        "colab": {
          "base_uri": "https://localhost:8080/",
          "height": 50
        }
      },
      "source": [
        "#get checkerboard\n",
        "a = np.arange(0,data_dim+1,2)\n",
        "b = np.arange(1,data_dim-1,2)\n",
        "\n",
        "alternating_permutation = np.append(a,b)\n",
        "print(alternating_permutation.shape)\n",
        "\n",
        "#permute first and second half\n",
        "a = np.arange(0,data_dim//2)\n",
        "b = np.arange(data_dim//2,data_dim)\n",
        "swapping_permutation = np.append(b,a)\n",
        "print(swapping_permutation.shape)\n",
        "\n",
        "np.random.seed(10101)\n",
        "\n",
        "random_permutations = [np.random.permutation(np.arange(data_dim)) for ii in range(30)]\n",
        "\n",
        "permutations = []\n",
        "#permutations.append(alternating_permutation)\n",
        "for ii in range(len(random_permutations)):\n",
        "  permutations.append(swapping_permutation)\n",
        "  permutations.append(random_permutations[ii])"
      ],
      "execution_count": 60,
      "outputs": [
        {
          "output_type": "stream",
          "text": [
            "(736,)\n",
            "(736,)\n"
          ],
          "name": "stdout"
        }
      ]
    },
    {
      "cell_type": "code",
      "metadata": {
        "colab_type": "code",
        "id": "yvTEYw44O_5q",
        "outputId": "42994e88-616a-4bbe-d8ee-d0f15406b381",
        "colab": {
          "base_uri": "https://localhost:8080/",
          "height": 235
        }
      },
      "source": [
        "tf.reset_default_graph()\n",
        "\n",
        "\n",
        "lr            = tf.placeholder_with_default(0.001,shape=[])\n",
        "\n",
        "optimizer     = tf.train.AdamOptimizer(learning_rate=lr)\n",
        "\n",
        "\n",
        "def get_prior():\n",
        "    return tfd.MultivariateNormalDiag(tf.zeros([data_dim]), scale_identity_multiplier=1.0, name ='prior')\n",
        "\n",
        "\n",
        "x_tr              = tf.placeholder(shape=[batch_size,data_dim], dtype=tf.float32)\n",
        "\n",
        "\n",
        "### ----------- NVP ----------- ###\n",
        "\n",
        "def init_once(x, name):\n",
        "  return tf.get_variable(name, initializer=x, trainable=False)\n",
        "\n",
        "\n",
        "nvp_size      = [[512, 512] for ii in range(nvp_depth)]\n",
        "\n",
        "\n",
        "def get_nvp():\n",
        "  \n",
        "  base_dis = get_prior()\n",
        "  \n",
        "  chain    = []\n",
        "  \n",
        "  perms         = [tfb.Permute(permutation=init_once(permutations[ii],name=\"permutation%d\"%ii)) for ii in range(nvp_depth)]\n",
        "  \n",
        "\n",
        "  masked_frac   = 0.5\n",
        "  for i,s in enumerate(nvp_size):\n",
        "    mask_part = np.int32(np.floor(data_dim*masked_frac))\n",
        "    print(mask_part)\n",
        "#     if i==0:\n",
        "#       chain.append(perms[i])\n",
        "    if ii>3:\n",
        "      chain.append(tfb.RealNVP(num_masked=mask_part,shift_and_log_scale_fn=tfb.real_nvp_default_template(hidden_layers=s,name='nvp%d'%i, shift_only=True)))\n",
        "    else:\n",
        "      chain.append(tfb.RealNVP(num_masked=mask_part,shift_and_log_scale_fn=tfb.real_nvp_default_template(hidden_layers=s,name='nvp%d'%i)))\n",
        "    chain.append(perms[i])\n",
        "#     if masked_frac<0.9:\n",
        "#       masked_frac*=1.01\n",
        "\n",
        "  nvp = tfd.TransformedDistribution(distribution=base_dis,bijector=tfb.Chain(chain),name='mynvp')\n",
        "                 \n",
        "  return nvp\n",
        "\n",
        "\n",
        "def nvp_module_spec():\n",
        "    x_sample     = tf.placeholder(tf.float32, shape=[None,data_dim])\n",
        "    sample_size  = tf.placeholder(tf.int32, shape=[])\n",
        "    u_sample     = tf.placeholder(tf.float32, shape=[None,data_dim])\n",
        "    nvp_         = get_nvp()\n",
        "    log_prob     = nvp_.log_prob(x_sample)\n",
        "    nvp_sample   = nvp_.sample(sample_size)\n",
        "    nvp_fwd_pass = nvp_.bijector.forward(u_sample)\n",
        "    nvp_bwd_pass = nvp_.bijector.inverse(x_sample)\n",
        "    hub.add_signature(inputs={'x_sample':x_sample,'sample_size':sample_size, 'u_sample':u_sample},outputs={'log_prob':log_prob, 'sample':nvp_sample, 'fwd_pass': nvp_fwd_pass, 'bwd_pass': nvp_bwd_pass})\n",
        "\n",
        "nvp_spec  = hub.create_module_spec(nvp_module_spec)\n",
        "\n",
        "nvp_funcs = hub.Module(nvp_spec, name='nvp_funcs',trainable=True)\n",
        "\n",
        "\n",
        "nvp       = get_nvp()\n",
        "loss      = -tf.reduce_mean(nvp_funcs({'x_sample':x_tr,'sample_size':1, 'u_sample':np.zeros((1,data_dim))},as_dict=True)['log_prob'])\n",
        "\n",
        "opt_op_nvp= optimizer.minimize(loss)\n",
        "\n",
        "# # ---------------------------end train nvp ----------------- #\n",
        "\n",
        "#comment train nvp above section above and uncomment this for loading the trained module\n",
        "\n",
        "#nvp_funcs     = hub.Module(nvp_func_path, trainable=False)"
      ],
      "execution_count": 61,
      "outputs": [
        {
          "output_type": "stream",
          "text": [
            "368\n",
            "368\n",
            "368\n",
            "368\n",
            "368\n",
            "368\n",
            "368\n",
            "368\n",
            "368\n",
            "368\n",
            "368\n",
            "368\n",
            "INFO:tensorflow:Saver not created because there are no variables in the graph to restore\n"
          ],
          "name": "stdout"
        }
      ]
    },
    {
      "cell_type": "code",
      "metadata": {
        "id": "Soh1tnGH1FTW",
        "colab_type": "code",
        "colab": {}
      },
      "source": [
        "sess = tf.Session()\n",
        "sess.run(tf.global_variables_initializer())"
      ],
      "execution_count": 0,
      "outputs": []
    },
    {
      "cell_type": "markdown",
      "metadata": {
        "id": "U0xZ_4ActOw9",
        "colab_type": "text"
      },
      "source": [
        "**Training of the NVP**"
      ]
    },
    {
      "cell_type": "code",
      "metadata": {
        "id": "ggPmR0fs8qEM",
        "colab_type": "code",
        "colab": {}
      },
      "source": [
        "nvp_loss = []"
      ],
      "execution_count": 0,
      "outputs": []
    },
    {
      "cell_type": "code",
      "metadata": {
        "id": "ERmZCW6yBqUR",
        "colab_type": "code",
        "outputId": "d1aa97f5-e0b0-4634-f60a-136af7b667fd",
        "colab": {
          "base_uri": "https://localhost:8080/",
          "height": 1000
        }
      },
      "source": [
        "ii     = 0\n",
        "nepoch = 0\n",
        "learning_rate = 1e-4\n",
        "\n",
        "#train the nvp\n",
        "while nepoch<30:\n",
        "  if (ii+1)*batch_size>len(x_train_prep): \n",
        "    np.random.shuffle(x_train_prep)\n",
        "    ii=0\n",
        "    nepoch+=1\n",
        "    print('starting epoch', nepoch)\n",
        "  if nepoch>5:\n",
        "    learning_rate=1e-5\n",
        "  if nepoch>10:\n",
        "    learning_rate=1e-6\n",
        "  x_truth = x_train_prep[batch_size*ii:batch_size*(ii+1)]\n",
        "  sess.run([loss], feed_dict={x_tr: x_truth, lr: learning_rate})\n",
        "  _, ll = sess.run([opt_op_nvp,loss], feed_dict={x_tr: x_truth, lr: learning_rate})\n",
        "  nvp_loss+=[ll]\n",
        "  if ii%100==0:\n",
        "    print(ll)\n",
        "  ii+=1"
      ],
      "execution_count": 68,
      "outputs": [
        {
          "output_type": "stream",
          "text": [
            "787.2539\n",
            "792.0172\n",
            "823.17786\n",
            "791.9811\n",
            "793.08813\n",
            "791.6748\n",
            "803.19714\n",
            "794.9314\n",
            "802.8434\n",
            "775.60925\n",
            "783.4474\n",
            "789.02515\n",
            "827.21985\n",
            "810.30554\n",
            "839.53735\n",
            "774.8318\n",
            "815.0807\n",
            "796.75684\n",
            "806.42194\n",
            "starting epoch 1\n",
            "780.4891\n",
            "813.77246\n",
            "782.8101\n",
            "794.98254\n",
            "789.87537\n",
            "768.94525\n",
            "775.61096\n",
            "777.1007\n",
            "778.2565\n",
            "800.2427\n",
            "768.05664\n",
            "803.9082\n",
            "785.3176\n",
            "768.4098\n",
            "784.91376\n",
            "803.40375\n",
            "787.2036\n",
            "802.2513\n",
            "846.7301\n",
            "starting epoch 2\n",
            "778.3681\n",
            "764.1326\n",
            "761.8417\n",
            "797.50977\n",
            "764.66113\n",
            "792.9691\n",
            "794.99713\n",
            "804.0281\n",
            "791.25146\n",
            "810.5571\n",
            "787.3844\n",
            "777.47876\n",
            "789.2335\n",
            "793.7181\n",
            "779.2909\n",
            "783.50867\n",
            "804.999\n",
            "786.2754\n",
            "763.3588\n",
            "starting epoch 3\n",
            "779.5159\n",
            "820.00323\n",
            "797.51855\n",
            "773.75793\n",
            "775.7594\n",
            "785.5254\n",
            "767.3782\n",
            "781.2566\n",
            "789.481\n",
            "805.2794\n",
            "760.49945\n",
            "799.088\n",
            "765.99274\n",
            "783.5482\n",
            "818.3958\n",
            "807.73126\n",
            "821.133\n",
            "772.141\n",
            "787.3391\n",
            "starting epoch 4\n",
            "787.9118\n",
            "784.68304\n",
            "771.6185\n",
            "780.677\n",
            "773.1328\n",
            "804.86804\n",
            "766.0198\n",
            "777.41266\n",
            "780.38245\n",
            "787.7572\n",
            "792.1737\n",
            "777.7197\n",
            "783.8561\n",
            "776.13824\n",
            "789.6333\n",
            "798.7979\n",
            "780.6177\n",
            "769.9614\n",
            "763.463\n",
            "starting epoch 5\n",
            "784.6372\n",
            "772.43164\n",
            "761.31714\n",
            "786.001\n",
            "783.2897\n",
            "783.66754\n",
            "792.01794\n",
            "763.4911\n",
            "787.4528\n",
            "765.6978\n",
            "777.81995\n",
            "770.70123\n",
            "782.3893\n",
            "773.446\n",
            "773.59265\n",
            "769.37506\n",
            "777.12665\n",
            "782.11615\n",
            "778.33167\n",
            "starting epoch 6\n",
            "776.77124\n",
            "764.92267\n",
            "761.7223\n",
            "774.3502\n",
            "763.4874\n",
            "755.10803\n",
            "765.064\n",
            "796.89514\n",
            "754.6746\n",
            "777.01843\n",
            "789.6382\n",
            "782.3367\n",
            "747.27686\n",
            "774.5718\n",
            "755.40955\n",
            "774.77106\n",
            "753.4524\n",
            "756.51404\n",
            "765.82825\n",
            "starting epoch 7\n",
            "770.72644\n",
            "769.55945\n",
            "772.71185\n",
            "779.0703\n",
            "764.8669\n",
            "797.1842\n",
            "782.8358\n",
            "768.1056\n",
            "754.55475\n",
            "769.0011\n",
            "783.1373\n",
            "761.3993\n",
            "772.2741\n",
            "779.4138\n",
            "781.27313\n",
            "777.4292\n",
            "776.54926\n",
            "758.464\n",
            "751.21124\n",
            "starting epoch 8\n",
            "763.7974\n",
            "776.2473\n",
            "762.519\n",
            "769.35266\n",
            "785.733\n",
            "762.8611\n",
            "762.8856\n",
            "769.77606\n",
            "763.4751\n",
            "783.7259\n",
            "783.58716\n",
            "780.822\n",
            "776.8552\n",
            "768.1306\n",
            "779.751\n",
            "764.87036\n",
            "773.70795\n",
            "789.6143\n",
            "757.819\n",
            "starting epoch 9\n",
            "759.71216\n",
            "759.0365\n",
            "757.2776\n",
            "778.43665\n",
            "763.0713\n",
            "775.7514\n",
            "765.14746\n",
            "770.0375\n",
            "767.0389\n",
            "776.0634\n",
            "771.7661\n",
            "753.9772\n",
            "755.3447\n",
            "790.08105\n",
            "766.0541\n",
            "787.05334\n",
            "794.24695\n",
            "782.5239\n",
            "770.4702\n",
            "starting epoch 10\n",
            "785.53723\n",
            "774.8375\n",
            "754.9706\n",
            "784.9514\n",
            "764.02563\n",
            "774.9637\n",
            "766.3101\n",
            "768.71106\n",
            "776.61426\n",
            "774.4303\n",
            "768.789\n",
            "780.2944\n",
            "775.00867\n",
            "755.579\n",
            "761.943\n",
            "765.67725\n",
            "769.0518\n",
            "770.40576\n",
            "748.2496\n",
            "starting epoch 11\n",
            "774.9425\n",
            "751.90894\n",
            "775.4514\n",
            "776.86487\n",
            "749.33563\n",
            "778.89777\n",
            "760.6749\n",
            "759.9342\n",
            "772.46136\n",
            "791.3397\n",
            "764.0985\n",
            "750.7471\n",
            "775.2622\n",
            "744.65515\n",
            "764.4059\n",
            "778.5089\n",
            "741.3959\n",
            "756.1157\n",
            "769.5078\n",
            "starting epoch 12\n",
            "774.307\n",
            "766.5676\n",
            "768.8492\n",
            "757.7113\n",
            "754.30505\n",
            "779.6133\n",
            "780.17395\n",
            "744.90076\n",
            "789.4497\n",
            "765.3525\n",
            "766.39417\n",
            "770.0272\n",
            "759.35626\n",
            "784.68835\n",
            "782.9596\n",
            "767.97253\n",
            "772.16724\n",
            "779.3463\n",
            "762.65576\n",
            "starting epoch 13\n",
            "789.67505\n",
            "759.97186\n",
            "787.9356\n",
            "774.85474\n",
            "774.9905\n",
            "780.9148\n",
            "759.2048\n",
            "763.6199\n",
            "748.2366\n",
            "754.6606\n",
            "790.78015\n",
            "799.82684\n",
            "762.4464\n",
            "752.2525\n",
            "750.749\n",
            "747.8084\n",
            "755.46045\n",
            "781.84595\n",
            "756.2649\n",
            "starting epoch 14\n",
            "762.2982\n",
            "758.8307\n",
            "765.7534\n",
            "761.45123\n",
            "779.84424\n",
            "754.17645\n",
            "790.01434\n",
            "743.2326\n",
            "770.2015\n",
            "779.89075\n",
            "777.98303\n",
            "747.459\n",
            "748.24146\n",
            "792.7126\n",
            "763.5248\n",
            "759.4807\n",
            "750.07056\n",
            "759.6569\n",
            "777.37756\n",
            "starting epoch 15\n",
            "766.3309\n",
            "789.7649\n",
            "775.1192\n",
            "749.0166\n",
            "767.48584\n",
            "779.3758\n",
            "766.68396\n",
            "787.655\n",
            "784.0471\n",
            "778.9391\n",
            "760.4353\n",
            "760.43933\n",
            "780.40674\n",
            "770.5858\n",
            "754.8886\n",
            "758.2363\n",
            "757.14954\n",
            "754.2849\n",
            "776.02734\n",
            "starting epoch 16\n",
            "755.3125\n",
            "768.2341\n",
            "758.29663\n",
            "777.1903\n",
            "775.2077\n",
            "759.7106\n",
            "747.145\n",
            "764.82446\n",
            "794.0419\n",
            "771.6482\n",
            "776.0443\n",
            "775.67346\n",
            "759.1489\n",
            "801.0017\n",
            "812.25586\n",
            "775.9662\n",
            "762.0642\n",
            "760.9447\n",
            "782.66077\n",
            "starting epoch 17\n",
            "770.3179\n",
            "763.0038\n",
            "757.00226\n",
            "755.6138\n",
            "744.5421\n",
            "766.4254\n",
            "758.71045\n",
            "754.22534\n",
            "777.9571\n",
            "784.35596\n",
            "765.1923\n",
            "774.25183\n",
            "769.9525\n",
            "777.1136\n",
            "760.67993\n",
            "766.0442\n",
            "781.1339\n",
            "765.1617\n",
            "760.8206\n",
            "starting epoch 18\n",
            "752.7584\n",
            "777.4038\n",
            "768.1124\n",
            "782.1041\n",
            "796.1509\n",
            "785.67224\n",
            "778.5357\n",
            "738.7124\n",
            "778.90125\n",
            "773.9774\n",
            "751.1224\n",
            "771.9209\n",
            "784.4385\n",
            "776.74194\n",
            "749.8633\n",
            "772.6902\n",
            "770.4774\n",
            "777.2866\n",
            "763.59875\n",
            "starting epoch 19\n",
            "784.4229\n",
            "759.1467\n",
            "762.12866\n",
            "773.42255\n",
            "790.32983\n",
            "760.9031\n",
            "759.2806\n",
            "768.9127\n",
            "741.45416\n",
            "764.5595\n",
            "787.27637\n",
            "764.4009\n",
            "758.22485\n",
            "780.9425\n",
            "761.5656\n",
            "768.18616\n",
            "759.7952\n",
            "769.8176\n",
            "756.6627\n",
            "starting epoch 20\n",
            "790.4414\n",
            "787.07654\n",
            "771.24304\n",
            "781.7118\n",
            "765.5383\n",
            "792.8235\n",
            "746.45337\n",
            "759.42084\n",
            "768.98267\n",
            "778.29675\n",
            "762.81775\n",
            "808.92773\n",
            "784.68805\n",
            "774.81433\n",
            "776.6471\n",
            "774.2579\n",
            "787.2485\n",
            "770.0873\n",
            "763.83325\n",
            "starting epoch 21\n",
            "778.5551\n",
            "766.1521\n",
            "760.88544\n",
            "744.02954\n",
            "780.6503\n",
            "762.9057\n",
            "749.7605\n",
            "777.44653\n",
            "770.6179\n",
            "775.98334\n",
            "779.52454\n",
            "762.92017\n",
            "783.344\n",
            "751.63104\n",
            "766.5214\n",
            "773.4173\n",
            "754.3623\n",
            "762.6408\n",
            "758.83636\n",
            "starting epoch 22\n",
            "778.19293\n",
            "760.59424\n",
            "772.1604\n",
            "773.6033\n",
            "776.49243\n",
            "775.6416\n",
            "743.2713\n",
            "777.3247\n",
            "781.1156\n",
            "764.8098\n",
            "759.0285\n",
            "765.35535\n",
            "771.4391\n",
            "755.3342\n",
            "779.7123\n",
            "756.9855\n",
            "750.3662\n",
            "763.6221\n",
            "746.34143\n",
            "starting epoch 23\n",
            "775.16626\n",
            "753.64276\n",
            "774.00446\n",
            "762.7483\n",
            "763.3661\n",
            "774.9817\n",
            "776.1289\n",
            "804.2008\n",
            "762.09845\n",
            "776.6227\n",
            "763.83575\n",
            "776.40137\n",
            "774.6416\n",
            "756.1015\n",
            "746.95245\n",
            "795.58545\n",
            "759.7627\n",
            "765.5507\n",
            "777.5973\n",
            "starting epoch 24\n",
            "766.4995\n",
            "766.6325\n",
            "786.8093\n",
            "756.6918\n",
            "747.49475\n",
            "767.38904\n",
            "762.1549\n",
            "768.7833\n",
            "800.9142\n",
            "797.2864\n",
            "775.99036\n",
            "765.0084\n",
            "761.26807\n",
            "769.60803\n",
            "762.1013\n",
            "797.4392\n",
            "798.28503\n",
            "748.65955\n",
            "789.2326\n",
            "starting epoch 25\n",
            "759.67346\n",
            "783.89734\n",
            "741.347\n",
            "756.4093\n",
            "759.6806\n",
            "762.9746\n",
            "750.9176\n",
            "750.422\n",
            "775.0961\n",
            "741.3784\n",
            "764.4744\n",
            "764.2258\n",
            "757.4496\n",
            "755.803\n",
            "770.00146\n",
            "749.5254\n",
            "787.54443\n",
            "783.11743\n",
            "748.01416\n",
            "starting epoch 26\n",
            "760.8602\n",
            "751.6289\n",
            "761.62305\n",
            "755.22095\n",
            "777.4037\n",
            "765.5617\n",
            "774.1095\n",
            "769.2938\n",
            "771.41486\n",
            "755.672\n",
            "749.90295\n",
            "762.599\n",
            "787.9485\n",
            "753.07007\n",
            "763.6122\n",
            "757.33044\n",
            "740.4978\n",
            "781.41956\n",
            "761.5247\n",
            "starting epoch 27\n",
            "751.9614\n",
            "764.93933\n",
            "771.1735\n",
            "746.853\n",
            "743.4291\n",
            "773.0354\n",
            "779.95715\n",
            "782.2333\n",
            "761.9049\n",
            "786.34045\n",
            "778.02484\n",
            "765.02106\n",
            "765.7803\n",
            "764.4918\n",
            "770.11584\n",
            "769.3771\n",
            "739.38885\n",
            "772.15674\n",
            "751.386\n",
            "starting epoch 28\n",
            "781.1996\n",
            "759.225\n",
            "754.35474\n",
            "766.3515\n",
            "768.3044\n",
            "772.81525\n",
            "766.93964\n",
            "762.59827\n",
            "759.12036\n",
            "781.5823\n",
            "757.04407\n",
            "748.7113\n",
            "788.1408\n",
            "767.7499\n",
            "752.7433\n",
            "770.98364\n",
            "749.6613\n",
            "775.06934\n",
            "745.64764\n",
            "starting epoch 29\n",
            "749.61646\n",
            "760.5805\n",
            "771.01135\n",
            "787.87195\n",
            "747.14453\n",
            "766.6791\n",
            "758.0563\n",
            "779.63855\n",
            "775.09717\n",
            "788.36414\n",
            "755.87024\n",
            "790.98083\n",
            "788.07355\n",
            "767.306\n",
            "766.9158\n",
            "765.2333\n",
            "740.42236\n",
            "767.60547\n",
            "783.8075\n",
            "starting epoch 30\n",
            "766.573\n"
          ],
          "name": "stdout"
        }
      ]
    },
    {
      "cell_type": "code",
      "metadata": {
        "id": "bvfbqZJ4RX9x",
        "colab_type": "code",
        "outputId": "4d050968-e31f-4e61-a6f7-f2ae30fc7075",
        "colab": {
          "base_uri": "https://localhost:8080/",
          "height": 286
        }
      },
      "source": [
        "plt.figure()\n",
        "plot(nvp_loss[::],label='nvp loss')\n",
        "legend()"
      ],
      "execution_count": 69,
      "outputs": [
        {
          "output_type": "execute_result",
          "data": {
            "text/plain": [
              "<matplotlib.legend.Legend at 0x7f155cb49f28>"
            ]
          },
          "metadata": {
            "tags": []
          },
          "execution_count": 69
        },
        {
          "output_type": "display_data",
          "data": {
            "image/png": "[encoded data removed]",
            "text/plain": [
              "<Figure size 432x288 with 1 Axes>"
            ]
          },
          "metadata": {
            "tags": []
          }
        }
      ]
    },
    {
      "cell_type": "code",
      "metadata": {
        "id": "YWmT0AjAeOKs",
        "colab_type": "code",
        "outputId": "85e6d20c-9fab-450b-cce5-87cbd9edc777",
        "colab": {
          "base_uri": "https://localhost:8080/",
          "height": 390
        }
      },
      "source": [
        "samples_nvp = sess.run(nvp_funcs({'x_sample':x_truth,'sample_size':16,'u_sample':np.zeros((16, data_dim))},as_dict=True)['sample'])\n",
        "\n",
        "#print(samples_nvp.shape)\n",
        "data_space  = dt.inverse(samples_nvp)\n",
        "print(data_space.shape)\n",
        "\n",
        "figure(figsize=(5,5))\n",
        "suptitle('nvp samples')\n",
        "for i in range(16):\n",
        "    subplot(4,4,i+1)\n",
        "    #test_image       = np.zeros((28*28))\n",
        "    #test_image[mask] = data_space[i]\n",
        "    imshow(np.reshape(data_space[i],(28,28)),cmap='gray',vmin=0,vmax=1); #colorbar()\n",
        "    axis('off')\n",
        "    \n",
        "#plt.savefig(plot_path+'nvp_samples_%s.png'%label, bbox_inches='tight')\n",
        "    \n",
        "# samples_prior = sess.run(prior_sample)\n",
        "# s             = sess.run(sample_mean, feed_dict={prior_samples: samples_prior})\n",
        "\n",
        "# figure(figsize=(5,5))\n",
        "# suptitle('mean likelihood of prior samples')\n",
        "# for i in range(16):\n",
        "#   subplot(4,4,i+1)\n",
        "#   imshow(np.reshape(s[i,:,0],(28,28)),cmap='gray',vmin=0); #colorbar()\n",
        "#   axis('off')\n",
        "# plt.savefig(plot_path+'prior_samples_%s.png'%label, bbox_inches='tight')"
      ],
      "execution_count": 70,
      "outputs": [
        {
          "output_type": "stream",
          "text": [
            "INFO:tensorflow:Saver not created because there are no variables in the graph to restore\n",
            "(16, 784)\n"
          ],
          "name": "stdout"
        },
        {
          "output_type": "display_data",
          "data": {
            "image/png": "[encoded data removed]",
            "text/plain": [
              "<Figure size 360x360 with 16 Axes>"
            ]
          },
          "metadata": {
            "tags": []
          }
        }
      ]
    },
    {
      "cell_type": "code",
      "metadata": {
        "id": "Cz7H4D7wBysy",
        "colab_type": "code",
        "outputId": "715a1d68-5dc1-444a-f05b-4df953f1b574",
        "colab": {
          "base_uri": "https://localhost:8080/",
          "height": 34
        }
      },
      "source": [
        "latent_space = sess.run(nvp_funcs({'x_sample':x_test_prep,'sample_size':20000,'u_sample':np.zeros((1, data_dim))},as_dict=True)['bwd_pass'])\n"
      ],
      "execution_count": 64,
      "outputs": [
        {
          "output_type": "stream",
          "text": [
            "INFO:tensorflow:Saver not created because there are no variables in the graph to restore\n"
          ],
          "name": "stdout"
        }
      ]
    },
    {
      "cell_type": "code",
      "metadata": {
        "id": "ggbMpLNNBzid",
        "colab_type": "code",
        "outputId": "1b2d9455-a4a2-4c49-cdd2-e4b879e10019",
        "colab": {
          "base_uri": "https://localhost:8080/",
          "height": 162
        }
      },
      "source": [
        "# plot contours of the prior\n",
        "#_ = corner.corner(latent_space[:,395:-1])\n",
        "_ = corner.corner(latent_space[:,0:10])"
      ],
      "execution_count": 1,
      "outputs": [
        {
          "output_type": "error",
          "ename": "NameError",
          "evalue": "ignored",
          "traceback": [
            "\u001b[0;31m---------------------------------------------------------------------------\u001b[0m",
            "\u001b[0;31mNameError\u001b[0m                                 Traceback (most recent call last)",
            "\u001b[0;32m<ipython-input-1-7183cfac5ff0>\u001b[0m in \u001b[0;36m<module>\u001b[0;34m()\u001b[0m\n\u001b[0;32m----> 1\u001b[0;31m \u001b[0m_\u001b[0m \u001b[0;34m=\u001b[0m \u001b[0mcorner\u001b[0m\u001b[0;34m.\u001b[0m\u001b[0mcorner\u001b[0m\u001b[0;34m(\u001b[0m\u001b[0mlatent_space\u001b[0m\u001b[0;34m[\u001b[0m\u001b[0;34m:\u001b[0m\u001b[0;34m,\u001b[0m\u001b[0;36m0\u001b[0m\u001b[0;34m:\u001b[0m\u001b[0;36m10\u001b[0m\u001b[0;34m]\u001b[0m\u001b[0;34m)\u001b[0m\u001b[0;34m\u001b[0m\u001b[0;34m\u001b[0m\u001b[0m\n\u001b[0m",
            "\u001b[0;31mNameError\u001b[0m: name 'corner' is not defined"
          ]
        }
      ]
    },
    {
      "cell_type": "code",
      "metadata": {
        "id": "TYtuOw8uB-aO",
        "colab_type": "code",
        "colab": {}
      },
      "source": [
        "nvp_funcs.export(nvp_func_path,sess)"
      ],
      "execution_count": 0,
      "outputs": []
    },
    {
      "cell_type": "code",
      "metadata": {
        "id": "81kwJv2EIAjj",
        "colab_type": "code",
        "colab": {}
      },
      "source": [
        ""
      ],
      "execution_count": 0,
      "outputs": []
    }
  ]
}