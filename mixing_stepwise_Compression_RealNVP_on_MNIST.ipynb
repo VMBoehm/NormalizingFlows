{
  "nbformat": 4,
  "nbformat_minor": 0,
  "metadata": {
    "colab": {
      "name": "mixing_stepwise_Compression_RealNVP_on_MNIST.ipynb",
      "provenance": [],
      "collapsed_sections": [],
      "include_colab_link": true
    },
    "kernelspec": {
      "name": "python3",
      "display_name": "Python 3"
    },
    "accelerator": "GPU"
  },
  "cells": [
    {
      "cell_type": "markdown",
      "metadata": {
        "id": "view-in-github",
        "colab_type": "text"
      },
      "source": [
        "<a href=\"https://colab.research.google.com/github/VMBoehm/NormalizingFlows/blob/master/mixing_stepwise_Compression_RealNVP_on_MNIST.ipynb\" target=\"_parent\"><img src=\"https://colab.research.google.com/assets/colab-badge.svg\" alt=\"Open In Colab\"/></a>"
      ]
    },
    {
      "cell_type": "markdown",
      "metadata": {
        "id": "c9W1pCtHrxpj",
        "colab_type": "text"
      },
      "source": [
        "# Normalizing flow with dimensionality reduction\n",
        "\n",
        "---\n",
        "\n",
        "\n",
        "### orthogonal mixing-compression matrix\n",
        "\n",
        "\n",
        "\n",
        "\n"
      ]
    },
    {
      "cell_type": "code",
      "metadata": {
        "id": "D-Fe5G8m1FTC",
        "colab_type": "code",
        "outputId": "d0d975ae-6613-4314-f7ec-b29d3509fcd1",
        "colab": {
          "base_uri": "https://localhost:8080/",
          "height": 84
        }
      },
      "source": [
        "%pylab inline"
      ],
      "execution_count": 0,
      "outputs": [
        {
          "output_type": "stream",
          "text": [
            "Populating the interactive namespace from numpy and matplotlib\n"
          ],
          "name": "stdout"
        },
        {
          "output_type": "stream",
          "text": [
            "/usr/local/lib/python3.6/dist-packages/IPython/core/magics/pylab.py:161: UserWarning: pylab import has clobbered these variables: ['diff']\n",
            "`%matplotlib` prevents importing * from pylab and numpy\n",
            "  \"\\n`%matplotlib` prevents importing * from pylab and numpy\"\n"
          ],
          "name": "stderr"
        }
      ]
    },
    {
      "cell_type": "code",
      "metadata": {
        "id": "cvKJzuU8CIeN",
        "colab_type": "code",
        "outputId": "9e07dd26-bbac-46f0-d6a0-03ef555f0d02",
        "colab": {
          "base_uri": "https://localhost:8080/",
          "height": 50
        }
      },
      "source": [
        "! pip install -q https://github.com/dfm/corner.py/archive/master.zip\n",
        "import corner"
      ],
      "execution_count": 0,
      "outputs": [
        {
          "output_type": "stream",
          "text": [
            "\u001b[K     |████████████████████████████████| 8.0MB 1.4MB/s \n",
            "\u001b[?25h  Building wheel for corner (setup.py) ... \u001b[?25l\u001b[?25hdone\n"
          ],
          "name": "stdout"
        }
      ]
    },
    {
      "cell_type": "code",
      "metadata": {
        "id": "-AEYmOsH1FTI",
        "colab_type": "code",
        "colab": {}
      },
      "source": [
        "import tensorflow as tf\n",
        "import tensorflow_probability as tfp\n",
        "import tensorflow_hub as hub\n",
        "import tensorflow_datasets as dts\n",
        "tfd = tfp.distributions\n",
        "tfb = tfp.bijectors\n",
        "from tensorflow.contrib.distributions import softplus_inverse"
      ],
      "execution_count": 0,
      "outputs": []
    },
    {
      "cell_type": "code",
      "metadata": {
        "id": "0bIIfd2ztGdP",
        "colab_type": "code",
        "outputId": "fa78fda7-197d-4279-e519-1660c37c9fee",
        "colab": {
          "base_uri": "https://localhost:8080/",
          "height": 346
        }
      },
      "source": [
        "import os\n",
        "\n",
        "from google.colab import drive\n",
        "\n",
        "ROOT = \"/content/gdrive\"\n",
        "drive.mount(ROOT, force_remount=True)\n",
        "\n",
        "PROJ = \"My Drive/NormalizingFlow\" \n",
        "PROJECT_PATH = os.path.join(ROOT, PROJ)\n",
        "print(PROJECT_PATH)\n",
        "if not os.path.isdir(PROJECT_PATH):\n",
        "  os.makedirs(PROJECT_PATH)\n",
        "\n",
        "module_dir= os.path.join(PROJECT_PATH, 'module/')\n"
      ],
      "execution_count": 0,
      "outputs": [
        {
          "output_type": "error",
          "ename": "ValueError",
          "evalue": "ignored",
          "traceback": [
            "\u001b[0;31m---------------------------------------------------------------------------\u001b[0m",
            "\u001b[0;31mValueError\u001b[0m                                Traceback (most recent call last)",
            "\u001b[0;32m<ipython-input-191-a60b41d12e45>\u001b[0m in \u001b[0;36m<module>\u001b[0;34m()\u001b[0m\n\u001b[1;32m      4\u001b[0m \u001b[0;34m\u001b[0m\u001b[0m\n\u001b[1;32m      5\u001b[0m \u001b[0mROOT\u001b[0m \u001b[0;34m=\u001b[0m \u001b[0;34m\"/content/gdrive\"\u001b[0m\u001b[0;34m\u001b[0m\u001b[0;34m\u001b[0m\u001b[0m\n\u001b[0;32m----> 6\u001b[0;31m \u001b[0mdrive\u001b[0m\u001b[0;34m.\u001b[0m\u001b[0mmount\u001b[0m\u001b[0;34m(\u001b[0m\u001b[0mROOT\u001b[0m\u001b[0;34m,\u001b[0m \u001b[0mforce_remount\u001b[0m\u001b[0;34m=\u001b[0m\u001b[0;32mTrue\u001b[0m\u001b[0;34m)\u001b[0m\u001b[0;34m\u001b[0m\u001b[0;34m\u001b[0m\u001b[0m\n\u001b[0m\u001b[1;32m      7\u001b[0m \u001b[0;34m\u001b[0m\u001b[0m\n\u001b[1;32m      8\u001b[0m \u001b[0mPROJ\u001b[0m \u001b[0;34m=\u001b[0m \u001b[0;34m\"My Drive/NormalizingFlow\"\u001b[0m\u001b[0;34m\u001b[0m\u001b[0;34m\u001b[0m\u001b[0m\n",
            "\u001b[0;32m/usr/local/lib/python3.6/dist-packages/google/colab/drive.py\u001b[0m in \u001b[0;36mmount\u001b[0;34m(mountpoint, force_remount, timeout_ms)\u001b[0m\n\u001b[1;32m    145\u001b[0m       \u001b[0;32mraise\u001b[0m \u001b[0mValueError\u001b[0m\u001b[0;34m(\u001b[0m\u001b[0;34m'Mountpoint must not be a symlink'\u001b[0m\u001b[0;34m)\u001b[0m\u001b[0;34m\u001b[0m\u001b[0;34m\u001b[0m\u001b[0m\n\u001b[1;32m    146\u001b[0m     \u001b[0;32mif\u001b[0m \u001b[0m_os\u001b[0m\u001b[0;34m.\u001b[0m\u001b[0mpath\u001b[0m\u001b[0;34m.\u001b[0m\u001b[0misdir\u001b[0m\u001b[0;34m(\u001b[0m\u001b[0mmountpoint\u001b[0m\u001b[0;34m)\u001b[0m \u001b[0;32mand\u001b[0m \u001b[0m_os\u001b[0m\u001b[0;34m.\u001b[0m\u001b[0mlistdir\u001b[0m\u001b[0;34m(\u001b[0m\u001b[0mmountpoint\u001b[0m\u001b[0;34m)\u001b[0m\u001b[0;34m:\u001b[0m\u001b[0;34m\u001b[0m\u001b[0;34m\u001b[0m\u001b[0m\n\u001b[0;32m--> 147\u001b[0;31m       \u001b[0;32mraise\u001b[0m \u001b[0mValueError\u001b[0m\u001b[0;34m(\u001b[0m\u001b[0;34m'Mountpoint must not already contain files'\u001b[0m\u001b[0;34m)\u001b[0m\u001b[0;34m\u001b[0m\u001b[0;34m\u001b[0m\u001b[0m\n\u001b[0m\u001b[1;32m    148\u001b[0m     \u001b[0;32mif\u001b[0m \u001b[0;32mnot\u001b[0m \u001b[0m_os\u001b[0m\u001b[0;34m.\u001b[0m\u001b[0mpath\u001b[0m\u001b[0;34m.\u001b[0m\u001b[0misdir\u001b[0m\u001b[0;34m(\u001b[0m\u001b[0mmountpoint\u001b[0m\u001b[0;34m)\u001b[0m \u001b[0;32mand\u001b[0m \u001b[0m_os\u001b[0m\u001b[0;34m.\u001b[0m\u001b[0mpath\u001b[0m\u001b[0;34m.\u001b[0m\u001b[0mexists\u001b[0m\u001b[0;34m(\u001b[0m\u001b[0mmountpoint\u001b[0m\u001b[0;34m)\u001b[0m\u001b[0;34m:\u001b[0m\u001b[0;34m\u001b[0m\u001b[0;34m\u001b[0m\u001b[0m\n\u001b[1;32m    149\u001b[0m       \u001b[0;32mraise\u001b[0m \u001b[0mValueError\u001b[0m\u001b[0;34m(\u001b[0m\u001b[0;34m'Mountpoint must either be a directory or not exist'\u001b[0m\u001b[0;34m)\u001b[0m\u001b[0;34m\u001b[0m\u001b[0;34m\u001b[0m\u001b[0m\n",
            "\u001b[0;31mValueError\u001b[0m: Mountpoint must not already contain files"
          ]
        }
      ]
    },
    {
      "cell_type": "code",
      "metadata": {
        "id": "8puPFE90P0aD",
        "colab_type": "code",
        "colab": {}
      },
      "source": [
        ""
      ],
      "execution_count": 0,
      "outputs": []
    },
    {
      "cell_type": "code",
      "metadata": {
        "id": "nFzYYSxY1FTL",
        "colab_type": "code",
        "colab": {}
      },
      "source": [
        "#mnist = tf.keras.datasets.fashion_mnist\n",
        "mnist = tf.keras.datasets.mnist\n",
        "\n",
        "(x_train, y_train),(x_test, y_test) = mnist.load_data()\n",
        "x_train = (x_train/256.).reshape((-1,28*28))\n",
        "x_test  = (x_test/256.).reshape((-1,28*28))"
      ],
      "execution_count": 0,
      "outputs": []
    },
    {
      "cell_type": "code",
      "metadata": {
        "id": "VxW4haIn4Y9f",
        "colab_type": "code",
        "colab": {}
      },
      "source": [
        ""
      ],
      "execution_count": 0,
      "outputs": []
    },
    {
      "cell_type": "code",
      "metadata": {
        "id": "l2WctSLasG53",
        "colab_type": "code",
        "colab": {}
      },
      "source": [
        "_= hist(x_test.flatten(),bins=100)"
      ],
      "execution_count": 0,
      "outputs": []
    },
    {
      "cell_type": "code",
      "metadata": {
        "id": "rU81qVGapFWL",
        "colab_type": "code",
        "outputId": "98abe32a-f0a5-4c5c-c957-06c51d9c0e96",
        "colab": {
          "base_uri": "https://localhost:8080/",
          "height": 265
        }
      },
      "source": [
        "imshow(x_train[2].reshape((28,28)))\n",
        "axis('off')\n",
        "show()"
      ],
      "execution_count": 0,
      "outputs": [
        {
          "output_type": "display_data",
          "data": {
            "image/png": "[encoded data removed]",
            "text/plain": [
              "<Figure size 432x288 with 1 Axes>"
            ]
          },
          "metadata": {
            "tags": []
          }
        }
      ]
    },
    {
      "cell_type": "markdown",
      "metadata": {
        "id": "MfzXFgwW1Xko",
        "colab_type": "text"
      },
      "source": [
        "define different data transforms"
      ]
    },
    {
      "cell_type": "code",
      "metadata": {
        "id": "WKWek6AE0afY",
        "colab_type": "code",
        "colab": {}
      },
      "source": [
        "from scipy.ndimage import gaussian_filter\n",
        "from sklearn.decomposition import PCA\n",
        "\n",
        "class data_trafo():\n",
        "  \n",
        "  def __init__(self, types, params):\n",
        "    \n",
        "    self.types = types\n",
        "    self.params= params\n",
        "    \n",
        "  def __call__(self,x):\n",
        "    \n",
        "    if 'dequantize':\n",
        "      x = x + np.random.rand(*x.shape)/256.0\n",
        "    \n",
        "    if 'smooth' in self.types:\n",
        "      for ii in range(len(x)):\n",
        "        # overwrites, but that's ok, because we dont need the inverse\n",
        "        x[ii]=gaussian_filter(x[ii].reshape((-1,28,28)), sigma=self.params['sigma']).flatten()    \n",
        "    \n",
        "    if 'mask' in self.types:\n",
        "      try:\n",
        "         x=x[:,self.mask]\n",
        "      except:\n",
        "        x, mask   = self.mask_data(x)\n",
        "        self.mask = mask\n",
        "          \n",
        "    if 'shift_rescale' in self.types:\n",
        "      x-=0.5\n",
        "      x*=10\n",
        "  \n",
        "    if 'pca' in self.types:\n",
        "      try:\n",
        "        self.dec\n",
        "      except:\n",
        "        pca      = PCA(n_components=self.params['n_comp'])\n",
        "        self.dec = pca.fit(x)\n",
        "      x        = self.dec.transform(x)\n",
        "      \n",
        "      \n",
        "    if 'logit_transform' in self.types:\n",
        "      x = self.rescale(x,self.params['alpha'])\n",
        "    \n",
        "  \n",
        "    if 'box_cox' in self.types:\n",
        "      x, mean, mini = self.box_cox(x,self.params['lambda'])\n",
        "      try:\n",
        "        self.mini\n",
        "      except:\n",
        "        self.mini=mini\n",
        "      try:\n",
        "        self.mean\n",
        "      except:\n",
        "        self.mean=mean\n",
        "      \n",
        "    return x\n",
        "  \n",
        "  def inverse(self,y):\n",
        "    \n",
        "    if 'box_cox' in self.types:\n",
        "      y = self.inverse_box_cox(y,self.mean, self.mini, self.params['lambda'])\n",
        "    \n",
        "    if 'logit_transform' in self.types:\n",
        "      y = self.inverse_rescale(y,self.params['alpha'])\n",
        "    \n",
        "    if 'pca' in self.types:\n",
        "      y = self.dec.inverse_transform(y)\n",
        "      \n",
        "    if 'shift_rescale' in self.types:\n",
        "      y/=10\n",
        "      y+=0.5   \n",
        "    \n",
        "    if 'mask' in self.types:\n",
        "      y = self.inverse_mask(y)\n",
        "           \n",
        "    return y\n",
        "  \n",
        "  \n",
        "  def mask_data(self,x):\n",
        "    st_dev = x.std(axis=0)\n",
        "    mask   = np.where(st_dev>5e-2)[0]\n",
        "    y      = x[:,mask]\n",
        "    return y, mask\n",
        "  \n",
        "  def inverse_mask(self,y):\n",
        "    x = np.zeros((len(y),28*28))\n",
        "    x[:,self.mask] = y\n",
        "    return x\n",
        "  \n",
        "  \n",
        "  def logit(self,x):\n",
        "    return log(x/(1.-x))\n",
        "  \n",
        "  def inverse_logit(self,y):\n",
        "    #=sigmoid\n",
        "    return exp(y)/(exp(y)+1)\n",
        "    \n",
        "    \n",
        "  def rescale(self,x,alpha):\n",
        "    return self.logit((alpha+(1.-2.*alpha)*x))\n",
        "  \n",
        "  def inverse_rescale(self,y,alpha):\n",
        "    return (((self.inverse_logit(y)-alpha)/(1.-2.*alpha)))\n",
        "  \n",
        "  \n",
        "  def box_cox(self,x,l):\n",
        "    minimum = np.amin(x)\n",
        "    x = x-minimum*1.1\n",
        "    x = (x**l-1.)/l\n",
        "    mean = np.expand_dims(x.mean(),0)\n",
        "    x-=mean\n",
        "    return x, mean, minimum\n",
        "  \n",
        "  def inverse_box_cox(self,y,mean, minimum,l):\n",
        "    y+=mean\n",
        "    y = y*l+1.\n",
        "    y = y**(1/l)\n",
        "    y+=minimum*1.1\n",
        "    return y\n",
        "  "
      ],
      "execution_count": 0,
      "outputs": []
    },
    {
      "cell_type": "code",
      "metadata": {
        "id": "Poj3LnnhQMpA",
        "colab_type": "code",
        "colab": {}
      },
      "source": [
        "dt           = data_trafo(['dequantize','logit_transform'],{'sigma':1., 'lambda':1.4, 'n_comp':400, 'alpha':1e-6})\n",
        "x_train_prep = dt(x_train)"
      ],
      "execution_count": 0,
      "outputs": []
    },
    {
      "cell_type": "code",
      "metadata": {
        "id": "JQqf1ft-otcJ",
        "colab_type": "code",
        "colab": {}
      },
      "source": [
        "x_test_prep = dt(x_test)"
      ],
      "execution_count": 0,
      "outputs": []
    },
    {
      "cell_type": "code",
      "metadata": {
        "id": "wZJ0YafLjhbv",
        "colab_type": "code",
        "outputId": "1b137494-6f91-4da2-8caa-806243518e2a",
        "colab": {
          "base_uri": "https://localhost:8080/",
          "height": 269
        }
      },
      "source": [
        "_= hist(x_test_prep.flatten(),bins=100, log=True)"
      ],
      "execution_count": 0,
      "outputs": [
        {
          "output_type": "display_data",
          "data": {
            "image/png": "[encoded data removed]",
            "text/plain": [
              "<Figure size 432x288 with 1 Axes>"
            ]
          },
          "metadata": {
            "tags": []
          }
        }
      ]
    },
    {
      "cell_type": "code",
      "metadata": {
        "id": "v6Ab0mS5kojC",
        "colab_type": "code",
        "colab": {}
      },
      "source": [
        "import keras \n",
        "from keras.preprocessing.image import ImageDataGenerator"
      ],
      "execution_count": 0,
      "outputs": []
    },
    {
      "cell_type": "code",
      "metadata": {
        "id": "KXJVV0fxlLOa",
        "colab_type": "code",
        "colab": {}
      },
      "source": [
        "datagen = ImageDataGenerator(rotation_range=10.)\n",
        "datagen.fit(x_train_prep.reshape(-1,28,28,1))"
      ],
      "execution_count": 0,
      "outputs": []
    },
    {
      "cell_type": "code",
      "metadata": {
        "id": "W1ChabrJwt6b",
        "colab_type": "code",
        "outputId": "c746e74d-cf8f-418c-e243-3dfcef6ba665",
        "colab": {
          "base_uri": "https://localhost:8080/",
          "height": 34
        }
      },
      "source": [
        "data_dim    = x_train_prep.shape[-1]\n",
        "batch_size  = 128\n",
        "nvp_depth   = 4\n",
        "nvp_dim     = 100\n",
        "dim_red     = data_dim-nvp_dim\n",
        "print('chosen dimensionality reduction: %d -> %d, in percent %d'%(data_dim,dim_red, dim_red/data_dim*100))"
      ],
      "execution_count": 0,
      "outputs": [
        {
          "output_type": "stream",
          "text": [
            "chosen dimensionality reduction: 784 -> 684, in percent 87\n"
          ],
          "name": "stdout"
        }
      ]
    },
    {
      "cell_type": "code",
      "metadata": {
        "id": "Ug2-mAKuKAIi",
        "colab_type": "code",
        "outputId": "d67923a1-938a-47a2-d15f-2c1f721f93bc",
        "colab": {
          "base_uri": "https://localhost:8080/",
          "height": 34
        }
      },
      "source": [
        "plot_dir     = os.path.join(PROJECT_PATH, 'plots/')\n",
        "plot_path    = os.path.join(plot_dir, 'compression_nvp','latent_dim%d'%nvp_dim)\n",
        "print(plot_path)\n",
        "if not os.path.isdir(plot_path):\n",
        "  os.makedirs(plot_path)"
      ],
      "execution_count": 0,
      "outputs": [
        {
          "output_type": "stream",
          "text": [
            "/content/gdrive/My Drive/NormalizingFlow/plots/compression_nvp/latent_dim100\n"
          ],
          "name": "stdout"
        }
      ]
    },
    {
      "cell_type": "code",
      "metadata": {
        "id": "UOHf6lxTmtdx",
        "colab_type": "code",
        "colab": {}
      },
      "source": [
        "my_gen  = datagen.flow(x_train_prep.reshape(-1,28,28,1), batch_size=batch_size)"
      ],
      "execution_count": 0,
      "outputs": []
    },
    {
      "cell_type": "markdown",
      "metadata": {
        "id": "sEwJwJ-0EbFj",
        "colab_type": "text"
      },
      "source": [
        "getting checkerboard permutations"
      ]
    },
    {
      "cell_type": "code",
      "metadata": {
        "id": "ivQ2xb9PDvr2",
        "colab_type": "code",
        "outputId": "f5caa832-83b4-4600-dbd3-65db475ec440",
        "colab": {
          "base_uri": "https://localhost:8080/",
          "height": 50
        }
      },
      "source": [
        "#get checkerboard\n",
        "a = np.arange(0,data_dim,2)\n",
        "b = np.arange(1,data_dim+1,2)\n",
        "\n",
        "alternating_permutation = np.append(a,b)\n",
        "print(alternating_permutation.shape)\n",
        "\n",
        "#permute first and second half\n",
        "a = np.arange(0,data_dim//2)\n",
        "b = np.arange(data_dim//2,data_dim)\n",
        "swapping_permutation = np.append(b,a)\n",
        "print(swapping_permutation.shape)\n",
        "\n",
        "np.random.seed(10101)\n",
        "\n",
        "random_permutations = [np.random.permutation(np.arange(data_dim)) for ii in range(30)]\n",
        "\n",
        "permutations = []\n",
        "permutations.append(alternating_permutation)\n",
        "for ii in range(len(random_permutations)):\n",
        "  permutations.append(swapping_permutation)\n",
        "  #permutations.append(random_permutations[ii])"
      ],
      "execution_count": 0,
      "outputs": [
        {
          "output_type": "stream",
          "text": [
            "(784,)\n",
            "(784,)\n"
          ],
          "name": "stdout"
        }
      ]
    },
    {
      "cell_type": "code",
      "metadata": {
        "id": "PH5St-aUA7eI",
        "colab_type": "code",
        "colab": {}
      },
      "source": [
        "def get_prior():\n",
        "    return tfd.MultivariateNormalDiag(tf.zeros([nvp_dim]), scale_identity_multiplier=1.0, name ='prior')\n",
        "  \n",
        "  \n",
        "def init_once(x, name):\n",
        "  return tf.get_variable(name, initializer=x, trainable=False)\n",
        "  \n",
        "  \n",
        "class DimRed(tfb.Bijector):\n",
        "  def __init__(self, input_dim, output_dim, batch_size,validate_args=False, name=\"dim_red\"):\n",
        "    super(DimRed, self).__init__(\n",
        "        is_constant_jacobian=True,\n",
        "        validate_args=validate_args,\n",
        "        forward_min_event_ndims=output_dim,\n",
        "        inverse_min_event_ndims=output_dim,\n",
        "        name=name)\n",
        "    print(input_dim,output_dim)\n",
        "    self.is_injective = False\n",
        "    self.indices      = tf.constant(np.arange(input_dim),dtype=tf.int32)\n",
        "    self.shape        = tf.constant([output_dim,batch_size, 1])\n",
        "\n",
        "  def _forward(self, x):\n",
        "    return x\n",
        "\n",
        "  def _inverse(self, y):    \n",
        "    updates       = tf.gather(y,self.indices,axis=-1)\n",
        "    updates       = tf.expand_dims(tf.transpose(updates),-1)\n",
        "    y_comp        = tf.scatter_nd(tf.expand_dims(self.indices,-1), updates, self.shape)\n",
        "    y_comp        = tf.squeeze(tf.transpose(y_comp))\n",
        "    return y_comp\n",
        "\n",
        "  def _inverse_log_det_jacobian(self, y):\n",
        "    return tf.constant(0., y.dtype)\n",
        "\n",
        "  def _forward_log_det_jacobian(self, x):\n",
        "    return tf.constant(0., x.dtype)"
      ],
      "execution_count": 0,
      "outputs": []
    },
    {
      "cell_type": "code",
      "metadata": {
        "id": "CBH9M0HWDp3N",
        "colab_type": "code",
        "colab": {}
      },
      "source": [
        "\n",
        "class Orthogonal(tfb.Bijector):\n",
        "  \"\"\"Orthogonal matrix Bijector using optimization over the Stiefel manifold.\n",
        "  \"\"\"\n",
        "\n",
        "  def __init__(self,\n",
        "               input_dim,\n",
        "               output_dim,\n",
        "               validate_args=False,\n",
        "               name=None):\n",
        "    \"\"\"Creates the MatvecLU bijector.\n",
        "    Args:\n",
        "        Default value: `False`.\n",
        "      name: Python `str` name given to ops managed by this object.\n",
        "        Default value: `None` (i.e., \"MatvecLU\").\n",
        "    Raises:\n",
        "      ValueError: If both/neither `channels` and `lower_upper`/`permutation` are\n",
        "        specified.\n",
        "    \"\"\"\n",
        "    with tf.name_scope(name or 'Orthogonal') as name:\n",
        "      with tf.variable_scope('%s/orthogonal_stiefel'%name, reuse=tf.AUTO_REUSE,use_resource=False):\n",
        "        self._mat = tf.get_variable('A', [input_dim, output_dim], dtype=tf.float32,\n",
        "                            initializer=tf.orthogonal_initializer())\n",
        "\n",
        "    super(Orthogonal, self).__init__(\n",
        "        is_constant_jacobian=True,\n",
        "        forward_min_event_ndims=1,\n",
        "        validate_args=validate_args,\n",
        "        name=name)\n",
        "\n",
        "  @property\n",
        "  def matrix(self):\n",
        "    return self._mat\n",
        "\n",
        "  def _forward(self, x):\n",
        "    return tf.tensordot(x, tf.transpose(self._mat), axes=[[-1], [0]])\n",
        "\n",
        "  def _inverse(self, y):\n",
        "    return tf.tensordot(y, self._mat, axes=[[-1], [0]])\n",
        "\n",
        "  def _forward_log_det_jacobian(self, x):\n",
        "    return constant_op.constant(0., x.dtype.base_dtype)"
      ],
      "execution_count": 0,
      "outputs": []
    },
    {
      "cell_type": "code",
      "metadata": {
        "id": "mJrux_nyvXoC",
        "colab_type": "code",
        "colab": {}
      },
      "source": [
        "from tensorflow.python.ops import nn_ops\n",
        "from tensorflow.python.framework import ops\n",
        "from tensorflow.python.ops import template as template_ops\n",
        "from tensorflow.python.layers import core as layers\n",
        "from tensorflow.python.ops import array_ops\n",
        "import tensorflow.compat.v1 as tf1\n",
        "from tensorflow_probability.python.internal import tensorshape_util\n",
        "\n",
        "def my_real_nvp_default_template(\n",
        "    hidden_layers,\n",
        "    shift_only=False,\n",
        "    activation=nn_ops.relu,\n",
        "    name=None,\n",
        "    *args,\n",
        "    **kwargs):\n",
        "  \"\"\"Build a scale-and-shift function using a multi-layer neural network.\n",
        "  This will be wrapped in a make_template to ensure the variables are only\n",
        "  created once. It takes the `d`-dimensional input x[0:d] and returns the `D-d`\n",
        "  dimensional outputs `loc` (\"mu\") and `log_scale` (\"alpha\").\n",
        "  Arguments:\n",
        "    hidden_layers: Python `list`-like of non-negative integer, scalars\n",
        "      indicating the number of units in each hidden layer. Default: `[512, 512].\n",
        "    shift_only: Python `bool` indicating if only the `shift` term shall be\n",
        "      computed (i.e. NICE bijector). Default: `False`.\n",
        "    activation: Activation function (callable). Explicitly setting to `None`\n",
        "      implies a linear activation.\n",
        "    name: A name for ops managed by this function. Default:\n",
        "      \"real_nvp_default_template\".\n",
        "    *args: `tf.compat.v1.layers.dense` arguments.\n",
        "    **kwargs: `tf.compat.v1.layers.dense` keyword arguments.\n",
        "  Returns:\n",
        "    shift: `Float`-like `Tensor` of shift terms (\"mu\" in\n",
        "      [Papamakarios et al.  (2016)][1]).\n",
        "    log_scale: `Float`-like `Tensor` of log(scale) terms (\"alpha\" in\n",
        "      [Papamakarios et al. (2016)][1]).\n",
        "  Raises:\n",
        "    NotImplementedError: if rightmost dimension of `inputs` is unknown prior to\n",
        "      graph execution.\n",
        "  #### References\n",
        "  [1]: George Papamakarios, Theo Pavlakou, and Iain Murray. Masked\n",
        "       Autoregressive Flow for Density Estimation. In _Neural Information\n",
        "       Processing Systems_, 2017. https://arxiv.org/abs/1705.07057\n",
        "  \"\"\"\n",
        "\n",
        "\n",
        "  with tf.name_scope(name or 'real_nvp_default_template'):\n",
        "\n",
        "    def _fn(x, output_units, **condition_kwargs):\n",
        "      \"\"\"Fully connected MLP parameterized via `real_nvp_template`.\"\"\"\n",
        "      if condition_kwargs:\n",
        "        raise NotImplementedError(\n",
        "            'Conditioning not implemented in the default template.')\n",
        "\n",
        "      if tensorshape_util.rank(x.shape) == 1:\n",
        "        x = x[tf.newaxis, ...]\n",
        "        reshape_output = lambda x: x[0]\n",
        "      else:\n",
        "        reshape_output = lambda x: x\n",
        "        \n",
        "      with tf.variable_scope('%s/inner_layers'%name, reuse=tf.AUTO_REUSE,use_resource=False):\n",
        "        for units in hidden_layers:\n",
        "          x = tf1.layers.dense(\n",
        "              inputs=x,\n",
        "              units=units,\n",
        "              activation=activation,\n",
        "              *args,  # pylint: disable=keyword-arg-before-vararg\n",
        "              **kwargs)\n",
        "        x = tf1.layers.dense(\n",
        "            inputs=x,\n",
        "            units=(1 if shift_only else 2) * output_units,\n",
        "            activation=None,\n",
        "            *args,  # pylint: disable=keyword-arg-before-vararg\n",
        "            **kwargs)\n",
        "      if shift_only:\n",
        "        return reshape_output(x), None\n",
        "      shift, log_scale = tf.split(x, 2, axis=-1)\n",
        "      return reshape_output(shift), reshape_output(log_scale)\n",
        "\n",
        "    return tf1.make_template('real_nvp_default_template', _fn)\n"
      ],
      "execution_count": 0,
      "outputs": []
    },
    {
      "cell_type": "code",
      "metadata": {
        "id": "Qv7MJC5jBCIV",
        "colab_type": "code",
        "colab": {}
      },
      "source": [
        "\n",
        "# def get_nvp():\n",
        "#   chain         = []\n",
        "#   perms         = [tfb.Permute(permutation=init_once(permutations[ii],name=\"permutation%d\"%ii)) for ii in range(nvp_depth)]\n",
        "#   masked_frac   = 0.5\n",
        "#   factor        = np.ceil((data_dim/nvp_dim)**(1./len(nvp_size)))\n",
        "#   print(factor)\n",
        "  \n",
        "#   current_dim = nvp_dim\n",
        "#   for i,s in enumerate(nvp_size):\n",
        "#     #if i%2==0:\n",
        "#     new_dim     = min(factor*current_dim,data_dim)\n",
        "#     print(current_dim,new_dim)\n",
        "#     chain.append(Orthogonal(input_dim=current_dim, output_dim=new_dim,name='red_dim%d'%i))\n",
        "#     current_dim = new_dim\n",
        "    \n",
        "#     mask_part   = np.int32(np.floor(current_dim*masked_frac))\n",
        "\n",
        "      \n",
        "#     template = my_real_nvp_default_template(hidden_layers=s,name='nvp%d'%i,shift_only=True)\n",
        "\n",
        "#     chain.append(tfb.RealNVP(num_masked=mask_part,shift_and_log_scale_fn=template,name='nvp_layer%d'%i))\n",
        "#       #chain.append(perms[i])\n",
        "                 \n",
        "#   return tfb.Chain(chain,name='nvp_chain')\n",
        "\n",
        "\n",
        "\n",
        "def get_nvp():\n",
        "  chain         = []\n",
        "  masked_frac   = 0.5\n",
        "  factor        = np.ceil((data_dim/nvp_dim)**(1./len(nvp_size)))\n",
        "  print(factor)\n",
        "  \n",
        "  current_dim = nvp_dim\n",
        "  for i,s in enumerate(nvp_size):\n",
        "    if i==0:\n",
        "      new_dim     = data_dim #min(factor*current_dim,data_dim)      \n",
        "    if i==(nvp_depth-1):\n",
        "      new_dim     = data_dim\n",
        "    print(current_dim,new_dim)\n",
        "    chain.append(Orthogonal(input_dim=current_dim, output_dim=new_dim,name='red_dim%d'%i))\n",
        "    current_dim = new_dim\n",
        "    \n",
        "    mask_part   = np.int32(np.floor(current_dim*masked_frac))\n",
        "\n",
        "    if i>1:\n",
        "      template = my_real_nvp_default_template(hidden_layers=s,name='nvp%d'%i,shift_only=True)\n",
        "    else:\n",
        "      template = my_real_nvp_default_template(hidden_layers=s,name='nvp%d'%i,shift_only=True)\n",
        "\n",
        "    chain.append(tfb.RealNVP(num_masked=mask_part,shift_and_log_scale_fn=template,name='nvp_layer%d'%i))\n",
        "                 \n",
        "  return tfb.Chain(chain,name='nvp_chain')"
      ],
      "execution_count": 0,
      "outputs": []
    },
    {
      "cell_type": "code",
      "metadata": {
        "id": "jYe-FpaqBFEZ",
        "colab_type": "code",
        "colab": {}
      },
      "source": [
        "def nvp_module_spec():\n",
        "    x_sample     = tf.placeholder(tf.float32, shape=[None,data_dim])\n",
        "    u_sample     = tf.placeholder(tf.float32, shape=[None,nvp_dim])\n",
        "\n",
        "    nvp_         = get_nvp()\n",
        "   \n",
        "    bwd_pass     = nvp_.forward(x_sample)\n",
        "    fwd_pass     = nvp_.inverse(u_sample)\n",
        "    \n",
        "\n",
        "    hub.add_signature(inputs={'x_sample':x_sample,'u_sample':u_sample},outputs={'bwd_pass': bwd_pass, 'fwd_pass': fwd_pass})"
      ],
      "execution_count": 0,
      "outputs": []
    },
    {
      "cell_type": "code",
      "metadata": {
        "id": "Zc1iIHmqNMwO",
        "colab_type": "code",
        "colab": {}
      },
      "source": [
        "from tensorflow.python.training import training_ops\n",
        "\n",
        "class RMSpropNatGrad(tf.train.Optimizer):\n",
        "    \"\"\" RMSProp optimizer with the capability to do natural gradient steps.\n",
        "        Inspired by: https://github.com/stwisdom/urnn/blob/master/custom_optimizers.py\n",
        "        See also:\n",
        "        Full-Capacity Unitary Recurrent Neural Networks, Wisdom et al, at:\n",
        "        https://arxiv.org/abs/1611.00035\n",
        "    \"\"\"\n",
        "\n",
        "    def __init__(self, learning_rate, decay=0.9, momentum=0.0,\n",
        "                 epsilon=1e-10, global_step=None, nat_grad_normalization=False,\n",
        "                 qr_steps=-1, name='RMSpropNatGrad'):\n",
        "        \"\"\"\n",
        "            Create an RMSProp Stiefel-manifold hybrid optimizer.\n",
        "            learning_rate: Stes the global learning rate for all updates.\n",
        "            (Please note Wisdom uses seperate learning rates for the RMSProp\n",
        "            and Stiefel updates.)\n",
        "            decay:  Discounting factor for the history/coming gradient\n",
        "            momentum: A scalar tensor.\n",
        "            epsilon:  Small value to avoid zero denominator.\n",
        "            global_step: The global step, used to decide when to run\n",
        "                         the qr re-normalization.\n",
        "            nat_grad_normalization: If True, the Stiefel gradient will be\n",
        "                                    normalized as well.\n",
        "            qr_steps: When to run the qr re-normalization. -1 means never.\n",
        "            (Setting this value leads to a Stiefel manifold, projected\n",
        "            gradient descent hybrid approach. Not used in the paper.)\n",
        "            name: The name for your optimizer.\n",
        "        \"\"\"\n",
        "        if global_step is not None:\n",
        "            self._global_step_tensor = global_step\n",
        "        else:\n",
        "            raise ValueError(\"global_step tensor must be missing.\")\n",
        "\n",
        "        use_locking = False\n",
        "        super().__init__(use_locking, name)\n",
        "        self._learning_rate = learning_rate\n",
        "        self._decay = decay\n",
        "        self._momentum = momentum\n",
        "        self._epsilon = epsilon\n",
        "        self._nat_grad_normalization = nat_grad_normalization\n",
        "        self._debug = False\n",
        "        if qr_steps > 0:\n",
        "            self._qr_steps = int(qr_steps)\n",
        "        else:\n",
        "            self._qr_steps = None\n",
        "\n",
        "        # Tensors for learning rate and momentum.  Created in _prepare.\n",
        "        self._learning_rate_tensor = None\n",
        "        self._decay_tensor = None\n",
        "        self._momentum_tensor = None\n",
        "        self._epsilon_tensor = None\n",
        "\n",
        "        # print(\"training params:\", self._learning_rate, self._decay, self._momentum)\n",
        "\n",
        "    def _create_slots(self, var_list):\n",
        "        \"\"\" Set up rmsprop slots for all variables.\"\"\"\n",
        "        for v in var_list:\n",
        "            init_rms = tf.ones_initializer(dtype=v.dtype)\n",
        "            self._get_or_make_slot_with_initializer(v, init_rms, v.get_shape(),\n",
        "                                                    v.dtype, \"rms\", self._name)\n",
        "            self._zeros_slot(v, \"momentum\", self._name)\n",
        "            init_eps = tf.constant_initializer(self._epsilon)\n",
        "            self._get_or_make_slot_with_initializer(v, init_eps, v.get_shape(),\n",
        "                                                    v.dtype, \"eps\", self._name)\n",
        "\n",
        "    def _prepare(self):\n",
        "        \"\"\"Convert algorthm parameters to tensors. \"\"\"\n",
        "        self._learning_rate_tensor = tf.convert_to_tensor(self._learning_rate,\n",
        "                                                          name=\"learning_rate\")\n",
        "        self._decay_tensor = tf.convert_to_tensor(self._decay, name=\"decay\")\n",
        "        self._momentum_tensor = tf.convert_to_tensor(self._momentum,\n",
        "                                                     name=\"momentum\")\n",
        "        self._epsilon_tensor = tf.convert_to_tensor(self._epsilon,\n",
        "                                                    name=\"epsilon\")\n",
        "\n",
        "    def _summary_A(self, A):\n",
        "        # test A's skew symmetrie:\n",
        "        test_a = tf.transpose(tf.conj(A)) - (-A)\n",
        "        test_a_norm = tf.real(tf.norm(test_a))\n",
        "        tf.summary.scalar('A.H--A', test_a_norm)\n",
        "\n",
        "    def _summary_C(self, C):\n",
        "        # C must be unitary/orthogonal:\n",
        "        eye = tf.eye(*tf.Tensor.get_shape(C).as_list(), dtype=C.dtype)\n",
        "        test_c = eye - tf.matmul(tf.transpose(tf.conj(C)), C)\n",
        "        test_c_norm = tf.real(tf.norm(test_c))\n",
        "        tf.summary.scalar('I-C.HC', test_c_norm)\n",
        "\n",
        "    def _summary_W(self, W):\n",
        "        # W must also be unitary/orthogonal:\n",
        "        eye = tf.eye(*tf.Tensor.get_shape(W).as_list(), dtype=W.dtype)\n",
        "        test_w = eye - tf.matmul(tf.transpose(tf.conj(W)), W)\n",
        "        test_w_norm = tf.real(tf.norm(test_w))\n",
        "        tf.summary.scalar('I-W.HW', test_w_norm)\n",
        "\n",
        "    def re_unitarize(self, W):\n",
        "        # This should be a proper projection according to:\n",
        "        # A Projection Method for Optimization Problems on the Stiefel Manifold\n",
        "        s, u, v = tf.linalg.svd(W)\n",
        "        W = tf.matmul(u, v, adjoint_b=True)\n",
        "        W = tf.Print(W, [tf.constant(0)], 'step with qr.')\n",
        "        return W\n",
        "\n",
        "    def _apply_dense(self, grad, var):\n",
        "        rms = self.get_slot(var, \"rms\")\n",
        "        mom = self.get_slot(var, \"momentum\")\n",
        "        eps = self.get_slot(var, 'eps')\n",
        "        tf.summary.scalar('grad_norm', tf.norm(grad))\n",
        "        # debug_here()\n",
        "        if 'orthogonal_stiefel' in var.name and 'bias' not in var.name:\n",
        "            with tf.variable_scope(\"orthogonal_update\"):\n",
        "                print('Appling an orthogonality preserving step to', var.name)\n",
        "                # apply the rms update rule.\n",
        "                new_rms = self._decay_tensor * rms + (1. - self._decay_tensor) \\\n",
        "                    * tf.square(grad)\n",
        "                rms_assign_op = tf.assign(rms, new_rms)\n",
        "                # scale the gradient.\n",
        "                if self._nat_grad_normalization:\n",
        "                    grad = grad / (tf.sqrt(rms) + eps)\n",
        "                # the update should preserve orthogonality.\n",
        "                grad_shape = tf.Tensor.get_shape(grad).as_list()\n",
        "                # W_new_lst = []\n",
        "                eye = tf.eye(grad_shape[0], dtype=tf.float32)\n",
        "                G = grad\n",
        "                W = var\n",
        "                # A = tf.matmul(tf.transpose(G), W) - tf.matmul(tf.transpose(W), G)\n",
        "                A = tf.matmul(G, tf.transpose(W)) - tf.matmul(W, tf.transpose(G))\n",
        "                cayleyDenom = eye + (self._learning_rate_tensor/2.0) * A\n",
        "                cayleyNumer = eye - (self._learning_rate_tensor/2.0) * A\n",
        "                C = tf.matmul(tf.matrix_inverse(cayleyDenom), cayleyNumer)\n",
        "                W_new = tf.matmul(C, W)\n",
        "                if self._debug:\n",
        "                    # self._summary_A(A)\n",
        "                    self._summary_C(C)\n",
        "                    self._summary_W(W)\n",
        "\n",
        "                # Reunitarize after n steps.\n",
        "                if self._qr_steps is not None:\n",
        "                    W_new = tf.cond(tf.equal(tf.mod(self._global_step_tensor,\n",
        "                                         self._qr_steps), 0),\n",
        "                                lambda: self.re_unitarize(W_new), lambda: W_new)\n",
        "                var_update_op = tf.assign(var, W_new)\n",
        "                return tf.group(*[var_update_op, rms_assign_op])\n",
        "        elif 'unitary_stiefel' in var.name and 'bias' not in var.name:\n",
        "            with tf.variable_scope(\"unitary_update\"):\n",
        "                print('Appling an unitarity preserving step to', var.name)\n",
        "                # apply the rms update rule.\n",
        "                new_rms = self._decay_tensor * rms + (1. - self._decay_tensor) \\\n",
        "                    * tf.square(grad)\n",
        "                rms_assign_op = tf.assign(rms, new_rms)\n",
        "                # scale the gradient.\n",
        "                if self._nat_grad_normalization:\n",
        "                    grad = grad / (tf.sqrt(new_rms) + eps)\n",
        "                # do an update step, which preserves unitary structure.\n",
        "                # checking shapes.\n",
        "                grad_shape = tf.Tensor.get_shape(grad).as_list()\n",
        "                assert grad_shape[0] == grad_shape[1]\n",
        "                eye = tf.eye(grad_shape[0], dtype=tf.complex64)\n",
        "                G = tf.complex(grad[:, :, 0], grad[:, :, 1])\n",
        "                W = tf.complex(var[:, :, 0], var[:, :, 1])\n",
        "\n",
        "                # Reunitarize after n steps.\n",
        "                if self._qr_steps is not None:\n",
        "                    W = tf.cond(tf.equal(tf.mod(self._global_step_tensor,\n",
        "                                         self._qr_steps), 0),\n",
        "                                lambda: self.re_unitarize(W), lambda: W)\n",
        "\n",
        "                A = tf.matmul(G, tf.conj(tf.transpose(W))) \\\n",
        "                    - tf.matmul(W, tf.conj(tf.transpose(G)))\n",
        "                # A must be skew symmetric.\n",
        "                larning_rate_scale = tf.complex(self._learning_rate_tensor/2.0,\n",
        "                                                tf.zeros_like(self._learning_rate_tensor))\n",
        "                cayleyDenom = eye + larning_rate_scale * A\n",
        "                cayleyNumer = eye - larning_rate_scale * A\n",
        "                C = tf.matmul(tf.matrix_inverse(cayleyDenom), cayleyNumer)\n",
        "                W_new = tf.matmul(C, W)\n",
        "                if self._debug:\n",
        "                    # self._summary_A(A)\n",
        "                    self._summary_C(C)\n",
        "                    self._summary_W(W)\n",
        "                # debug_here()\n",
        "                W_new_re = tf.real(W_new)\n",
        "                W_new_img = tf.imag(W_new)\n",
        "                W_array = tf.stack([W_new_re, W_new_img], -1)\n",
        "                var_update_op = tf.assign(var, W_array)\n",
        "                return tf.group(*[var_update_op, rms_assign_op])\n",
        "        else:\n",
        "            # do the usual RMSprop update\n",
        "            if 1:\n",
        "                # tensorflow default.\n",
        "                print('Appling standard rmsprop to', var.name)\n",
        "                return training_ops.apply_rms_prop(\n",
        "                    var, rms, mom,\n",
        "                    tf.cast(self._learning_rate_tensor, var.dtype.base_dtype),\n",
        "                    tf.cast(self._decay_tensor, var.dtype.base_dtype),\n",
        "                    tf.cast(self._momentum_tensor, var.dtype.base_dtype),\n",
        "                    tf.cast(self._epsilon_tensor, var.dtype.base_dtype),\n",
        "                    grad, use_locking=False).op\n",
        "            else:\n",
        "                # My rmsprop implementation.\n",
        "                new_rms = self._decay_tensor * rms \\\n",
        "                    + (1. - self._decay_tensor) * tf.square(grad)\n",
        "                rms_assign_op = tf.assign(rms, new_rms)\n",
        "                W_new = var - self._learning_rate_tensor * grad / (tf.sqrt(new_rms) + eps)\n",
        "                var_update_op = tf.assign(var, W_new)\n",
        "                return tf.group(*[var_update_op, rms_assign_op])\n",
        "\n",
        "    def _apply_sparse(self, grad, var):\n",
        "        raise NotImplementedError(\"Sparse gradient updates are not supported.\")"
      ],
      "execution_count": 0,
      "outputs": []
    },
    {
      "cell_type": "code",
      "metadata": {
        "colab_type": "code",
        "id": "yvTEYw44O_5q",
        "outputId": "01d96131-bc67-436f-9702-8088c91bcda3",
        "colab": {
          "base_uri": "https://localhost:8080/",
          "height": 1000
        }
      },
      "source": [
        "\n",
        "tf.reset_default_graph()\n",
        "\n",
        "\n",
        "lr            = tf.placeholder_with_default(0.01,shape=[])\n",
        "\n",
        "\n",
        "sigma         = tf.placeholder_with_default(0.1,shape=[])\n",
        "\n",
        "\n",
        "prior         = get_prior()\n",
        "\n",
        "x_tr          = tf.placeholder(shape=[None,data_dim], dtype=tf.float32)\n",
        "\n",
        "\n",
        "\n",
        "### ----------- NVP ----------- ###|\n",
        "\n",
        "nvp_size      = [[1024, 1024] for ii in range(nvp_depth)]\n",
        "\n",
        "print(x_tr.shape)\n",
        "\n",
        "# print(fwd_pass)\n",
        "\n",
        "nvp_spec      = hub.create_module_spec(nvp_module_spec)\n",
        "\n",
        "nvp_funcs     = hub.Module(nvp_spec, name='nvp_funcs',trainable=True)\n",
        "\n",
        "bwd_pass      = nvp_funcs({'x_sample':x_tr,'u_sample':np.zeros((batch_size,nvp_dim))},as_dict=True)['bwd_pass']\n",
        "\n",
        "fwd_pass      = nvp_funcs({'x_sample':np.zeros((batch_size,data_dim)), 'u_sample':bwd_pass},as_dict=True)['fwd_pass']\n",
        "\n",
        "likelihood    = tfd.MultivariateNormalDiag(loc=fwd_pass, scale_identity_multiplier=sigma)\n",
        "\n",
        "loss          = - tf.reduce_mean(likelihood.log_prob(x_tr))\n",
        "\n",
        "global_step = tf.train.get_or_create_global_step()\n",
        "optimizer = RMSpropNatGrad(learning_rate=lr, global_step=global_step)\n",
        "opt_op = optimizer.minimize(loss)\n",
        "\n",
        "\n",
        "# # ---------------------------end train nvp ----------------- #\n",
        "\n",
        "#comment train nvp above section above and uncomment this for loading the trained module\n",
        "\n",
        "#nvp_funcs     = hub.Module(nvp_func_path, trainable=False)"
      ],
      "execution_count": 0,
      "outputs": [
        {
          "output_type": "stream",
          "text": [
            "(?, 784)\n",
            "2.0\n",
            "100 784\n",
            "784 784\n",
            "784 784\n",
            "784 784\n",
            "WARNING:tensorflow:Entity <bound method Dense.call of <tensorflow.python.layers.core.Dense object at 0x7f2e22cdb400>> could not be transformed and will be executed as-is. Please report this to the AutgoGraph team. When filing the bug, set the verbosity to 10 (on Linux, `export AUTOGRAPH_VERBOSITY=10`) and attach the full output. Cause: converting <bound method Dense.call of <tensorflow.python.layers.core.Dense object at 0x7f2e22cdb400>>: AssertionError: Bad argument number for Name: 3, expecting 4\n",
            "WARNING: Entity <bound method Dense.call of <tensorflow.python.layers.core.Dense object at 0x7f2e22cdb400>> could not be transformed and will be executed as-is. Please report this to the AutgoGraph team. When filing the bug, set the verbosity to 10 (on Linux, `export AUTOGRAPH_VERBOSITY=10`) and attach the full output. Cause: converting <bound method Dense.call of <tensorflow.python.layers.core.Dense object at 0x7f2e22cdb400>>: AssertionError: Bad argument number for Name: 3, expecting 4\n",
            "WARNING:tensorflow:Entity <bound method Dense.call of <tensorflow.python.layers.core.Dense object at 0x7f2e21a23630>> could not be transformed and will be executed as-is. Please report this to the AutgoGraph team. When filing the bug, set the verbosity to 10 (on Linux, `export AUTOGRAPH_VERBOSITY=10`) and attach the full output. Cause: converting <bound method Dense.call of <tensorflow.python.layers.core.Dense object at 0x7f2e21a23630>>: AssertionError: Bad argument number for Name: 3, expecting 4\n",
            "WARNING: Entity <bound method Dense.call of <tensorflow.python.layers.core.Dense object at 0x7f2e21a23630>> could not be transformed and will be executed as-is. Please report this to the AutgoGraph team. When filing the bug, set the verbosity to 10 (on Linux, `export AUTOGRAPH_VERBOSITY=10`) and attach the full output. Cause: converting <bound method Dense.call of <tensorflow.python.layers.core.Dense object at 0x7f2e21a23630>>: AssertionError: Bad argument number for Name: 3, expecting 4\n",
            "WARNING:tensorflow:Entity <bound method Dense.call of <tensorflow.python.layers.core.Dense object at 0x7f2e21a1fc50>> could not be transformed and will be executed as-is. Please report this to the AutgoGraph team. When filing the bug, set the verbosity to 10 (on Linux, `export AUTOGRAPH_VERBOSITY=10`) and attach the full output. Cause: converting <bound method Dense.call of <tensorflow.python.layers.core.Dense object at 0x7f2e21a1fc50>>: AssertionError: Bad argument number for Name: 3, expecting 4\n",
            "WARNING: Entity <bound method Dense.call of <tensorflow.python.layers.core.Dense object at 0x7f2e21a1fc50>> could not be transformed and will be executed as-is. Please report this to the AutgoGraph team. When filing the bug, set the verbosity to 10 (on Linux, `export AUTOGRAPH_VERBOSITY=10`) and attach the full output. Cause: converting <bound method Dense.call of <tensorflow.python.layers.core.Dense object at 0x7f2e21a1fc50>>: AssertionError: Bad argument number for Name: 3, expecting 4\n",
            "WARNING:tensorflow:Entity <bound method Dense.call of <tensorflow.python.layers.core.Dense object at 0x7f2e21a40320>> could not be transformed and will be executed as-is. Please report this to the AutgoGraph team. When filing the bug, set the verbosity to 10 (on Linux, `export AUTOGRAPH_VERBOSITY=10`) and attach the full output. Cause: converting <bound method Dense.call of <tensorflow.python.layers.core.Dense object at 0x7f2e21a40320>>: AssertionError: Bad argument number for Name: 3, expecting 4\n",
            "WARNING: Entity <bound method Dense.call of <tensorflow.python.layers.core.Dense object at 0x7f2e21a40320>> could not be transformed and will be executed as-is. Please report this to the AutgoGraph team. When filing the bug, set the verbosity to 10 (on Linux, `export AUTOGRAPH_VERBOSITY=10`) and attach the full output. Cause: converting <bound method Dense.call of <tensorflow.python.layers.core.Dense object at 0x7f2e21a40320>>: AssertionError: Bad argument number for Name: 3, expecting 4\n",
            "WARNING:tensorflow:Entity <bound method Dense.call of <tensorflow.python.layers.core.Dense object at 0x7f2e21a40320>> could not be transformed and will be executed as-is. Please report this to the AutgoGraph team. When filing the bug, set the verbosity to 10 (on Linux, `export AUTOGRAPH_VERBOSITY=10`) and attach the full output. Cause: converting <bound method Dense.call of <tensorflow.python.layers.core.Dense object at 0x7f2e21a40320>>: AssertionError: Bad argument number for Name: 3, expecting 4\n",
            "WARNING: Entity <bound method Dense.call of <tensorflow.python.layers.core.Dense object at 0x7f2e21a40320>> could not be transformed and will be executed as-is. Please report this to the AutgoGraph team. When filing the bug, set the verbosity to 10 (on Linux, `export AUTOGRAPH_VERBOSITY=10`) and attach the full output. Cause: converting <bound method Dense.call of <tensorflow.python.layers.core.Dense object at 0x7f2e21a40320>>: AssertionError: Bad argument number for Name: 3, expecting 4\n",
            "WARNING:tensorflow:Entity <bound method Dense.call of <tensorflow.python.layers.core.Dense object at 0x7f2e21a40160>> could not be transformed and will be executed as-is. Please report this to the AutgoGraph team. When filing the bug, set the verbosity to 10 (on Linux, `export AUTOGRAPH_VERBOSITY=10`) and attach the full output. Cause: converting <bound method Dense.call of <tensorflow.python.layers.core.Dense object at 0x7f2e21a40160>>: AssertionError: Bad argument number for Name: 3, expecting 4\n",
            "WARNING: Entity <bound method Dense.call of <tensorflow.python.layers.core.Dense object at 0x7f2e21a40160>> could not be transformed and will be executed as-is. Please report this to the AutgoGraph team. When filing the bug, set the verbosity to 10 (on Linux, `export AUTOGRAPH_VERBOSITY=10`) and attach the full output. Cause: converting <bound method Dense.call of <tensorflow.python.layers.core.Dense object at 0x7f2e21a40160>>: AssertionError: Bad argument number for Name: 3, expecting 4\n",
            "WARNING:tensorflow:Entity <bound method Dense.call of <tensorflow.python.layers.core.Dense object at 0x7f2e2383eb38>> could not be transformed and will be executed as-is. Please report this to the AutgoGraph team. When filing the bug, set the verbosity to 10 (on Linux, `export AUTOGRAPH_VERBOSITY=10`) and attach the full output. Cause: converting <bound method Dense.call of <tensorflow.python.layers.core.Dense object at 0x7f2e2383eb38>>: AssertionError: Bad argument number for Name: 3, expecting 4\n",
            "WARNING: Entity <bound method Dense.call of <tensorflow.python.layers.core.Dense object at 0x7f2e2383eb38>> could not be transformed and will be executed as-is. Please report this to the AutgoGraph team. When filing the bug, set the verbosity to 10 (on Linux, `export AUTOGRAPH_VERBOSITY=10`) and attach the full output. Cause: converting <bound method Dense.call of <tensorflow.python.layers.core.Dense object at 0x7f2e2383eb38>>: AssertionError: Bad argument number for Name: 3, expecting 4\n",
            "WARNING:tensorflow:Entity <bound method Dense.call of <tensorflow.python.layers.core.Dense object at 0x7f2e2383eb38>> could not be transformed and will be executed as-is. Please report this to the AutgoGraph team. When filing the bug, set the verbosity to 10 (on Linux, `export AUTOGRAPH_VERBOSITY=10`) and attach the full output. Cause: converting <bound method Dense.call of <tensorflow.python.layers.core.Dense object at 0x7f2e2383eb38>>: AssertionError: Bad argument number for Name: 3, expecting 4\n",
            "WARNING: Entity <bound method Dense.call of <tensorflow.python.layers.core.Dense object at 0x7f2e2383eb38>> could not be transformed and will be executed as-is. Please report this to the AutgoGraph team. When filing the bug, set the verbosity to 10 (on Linux, `export AUTOGRAPH_VERBOSITY=10`) and attach the full output. Cause: converting <bound method Dense.call of <tensorflow.python.layers.core.Dense object at 0x7f2e2383eb38>>: AssertionError: Bad argument number for Name: 3, expecting 4\n",
            "WARNING:tensorflow:Entity <bound method Dense.call of <tensorflow.python.layers.core.Dense object at 0x7f2e220461d0>> could not be transformed and will be executed as-is. Please report this to the AutgoGraph team. When filing the bug, set the verbosity to 10 (on Linux, `export AUTOGRAPH_VERBOSITY=10`) and attach the full output. Cause: converting <bound method Dense.call of <tensorflow.python.layers.core.Dense object at 0x7f2e220461d0>>: AssertionError: Bad argument number for Name: 3, expecting 4\n",
            "WARNING: Entity <bound method Dense.call of <tensorflow.python.layers.core.Dense object at 0x7f2e220461d0>> could not be transformed and will be executed as-is. Please report this to the AutgoGraph team. When filing the bug, set the verbosity to 10 (on Linux, `export AUTOGRAPH_VERBOSITY=10`) and attach the full output. Cause: converting <bound method Dense.call of <tensorflow.python.layers.core.Dense object at 0x7f2e220461d0>>: AssertionError: Bad argument number for Name: 3, expecting 4\n",
            "WARNING:tensorflow:Entity <bound method Dense.call of <tensorflow.python.layers.core.Dense object at 0x7f2e22da5358>> could not be transformed and will be executed as-is. Please report this to the AutgoGraph team. When filing the bug, set the verbosity to 10 (on Linux, `export AUTOGRAPH_VERBOSITY=10`) and attach the full output. Cause: converting <bound method Dense.call of <tensorflow.python.layers.core.Dense object at 0x7f2e22da5358>>: AssertionError: Bad argument number for Name: 3, expecting 4\n",
            "WARNING: Entity <bound method Dense.call of <tensorflow.python.layers.core.Dense object at 0x7f2e22da5358>> could not be transformed and will be executed as-is. Please report this to the AutgoGraph team. When filing the bug, set the verbosity to 10 (on Linux, `export AUTOGRAPH_VERBOSITY=10`) and attach the full output. Cause: converting <bound method Dense.call of <tensorflow.python.layers.core.Dense object at 0x7f2e22da5358>>: AssertionError: Bad argument number for Name: 3, expecting 4\n",
            "WARNING:tensorflow:Entity <bound method Dense.call of <tensorflow.python.layers.core.Dense object at 0x7f2e224c76d8>> could not be transformed and will be executed as-is. Please report this to the AutgoGraph team. When filing the bug, set the verbosity to 10 (on Linux, `export AUTOGRAPH_VERBOSITY=10`) and attach the full output. Cause: converting <bound method Dense.call of <tensorflow.python.layers.core.Dense object at 0x7f2e224c76d8>>: AssertionError: Bad argument number for Name: 3, expecting 4\n",
            "WARNING: Entity <bound method Dense.call of <tensorflow.python.layers.core.Dense object at 0x7f2e224c76d8>> could not be transformed and will be executed as-is. Please report this to the AutgoGraph team. When filing the bug, set the verbosity to 10 (on Linux, `export AUTOGRAPH_VERBOSITY=10`) and attach the full output. Cause: converting <bound method Dense.call of <tensorflow.python.layers.core.Dense object at 0x7f2e224c76d8>>: AssertionError: Bad argument number for Name: 3, expecting 4\n",
            "WARNING:tensorflow:Entity <bound method Dense.call of <tensorflow.python.layers.core.Dense object at 0x7f2e22da5208>> could not be transformed and will be executed as-is. Please report this to the AutgoGraph team. When filing the bug, set the verbosity to 10 (on Linux, `export AUTOGRAPH_VERBOSITY=10`) and attach the full output. Cause: converting <bound method Dense.call of <tensorflow.python.layers.core.Dense object at 0x7f2e22da5208>>: AssertionError: Bad argument number for Name: 3, expecting 4\n",
            "WARNING: Entity <bound method Dense.call of <tensorflow.python.layers.core.Dense object at 0x7f2e22da5208>> could not be transformed and will be executed as-is. Please report this to the AutgoGraph team. When filing the bug, set the verbosity to 10 (on Linux, `export AUTOGRAPH_VERBOSITY=10`) and attach the full output. Cause: converting <bound method Dense.call of <tensorflow.python.layers.core.Dense object at 0x7f2e22da5208>>: AssertionError: Bad argument number for Name: 3, expecting 4\n",
            "WARNING:tensorflow:Entity <bound method Dense.call of <tensorflow.python.layers.core.Dense object at 0x7f2e238e9278>> could not be transformed and will be executed as-is. Please report this to the AutgoGraph team. When filing the bug, set the verbosity to 10 (on Linux, `export AUTOGRAPH_VERBOSITY=10`) and attach the full output. Cause: converting <bound method Dense.call of <tensorflow.python.layers.core.Dense object at 0x7f2e238e9278>>: AssertionError: Bad argument number for Name: 3, expecting 4\n",
            "WARNING: Entity <bound method Dense.call of <tensorflow.python.layers.core.Dense object at 0x7f2e238e9278>> could not be transformed and will be executed as-is. Please report this to the AutgoGraph team. When filing the bug, set the verbosity to 10 (on Linux, `export AUTOGRAPH_VERBOSITY=10`) and attach the full output. Cause: converting <bound method Dense.call of <tensorflow.python.layers.core.Dense object at 0x7f2e238e9278>>: AssertionError: Bad argument number for Name: 3, expecting 4\n",
            "WARNING:tensorflow:Entity <bound method Dense.call of <tensorflow.python.layers.core.Dense object at 0x7f2e21f29048>> could not be transformed and will be executed as-is. Please report this to the AutgoGraph team. When filing the bug, set the verbosity to 10 (on Linux, `export AUTOGRAPH_VERBOSITY=10`) and attach the full output. Cause: converting <bound method Dense.call of <tensorflow.python.layers.core.Dense object at 0x7f2e21f29048>>: AssertionError: Bad argument number for Name: 3, expecting 4\n",
            "WARNING: Entity <bound method Dense.call of <tensorflow.python.layers.core.Dense object at 0x7f2e21f29048>> could not be transformed and will be executed as-is. Please report this to the AutgoGraph team. When filing the bug, set the verbosity to 10 (on Linux, `export AUTOGRAPH_VERBOSITY=10`) and attach the full output. Cause: converting <bound method Dense.call of <tensorflow.python.layers.core.Dense object at 0x7f2e21f29048>>: AssertionError: Bad argument number for Name: 3, expecting 4\n",
            "WARNING:tensorflow:Entity <bound method Dense.call of <tensorflow.python.layers.core.Dense object at 0x7f2e21f35668>> could not be transformed and will be executed as-is. Please report this to the AutgoGraph team. When filing the bug, set the verbosity to 10 (on Linux, `export AUTOGRAPH_VERBOSITY=10`) and attach the full output. Cause: converting <bound method Dense.call of <tensorflow.python.layers.core.Dense object at 0x7f2e21f35668>>: AssertionError: Bad argument number for Name: 3, expecting 4\n",
            "WARNING: Entity <bound method Dense.call of <tensorflow.python.layers.core.Dense object at 0x7f2e21f35668>> could not be transformed and will be executed as-is. Please report this to the AutgoGraph team. When filing the bug, set the verbosity to 10 (on Linux, `export AUTOGRAPH_VERBOSITY=10`) and attach the full output. Cause: converting <bound method Dense.call of <tensorflow.python.layers.core.Dense object at 0x7f2e21f35668>>: AssertionError: Bad argument number for Name: 3, expecting 4\n",
            "WARNING:tensorflow:Entity <bound method Dense.call of <tensorflow.python.layers.core.Dense object at 0x7f2e21f49d30>> could not be transformed and will be executed as-is. Please report this to the AutgoGraph team. When filing the bug, set the verbosity to 10 (on Linux, `export AUTOGRAPH_VERBOSITY=10`) and attach the full output. Cause: converting <bound method Dense.call of <tensorflow.python.layers.core.Dense object at 0x7f2e21f49d30>>: AssertionError: Bad argument number for Name: 3, expecting 4\n",
            "WARNING: Entity <bound method Dense.call of <tensorflow.python.layers.core.Dense object at 0x7f2e21f49d30>> could not be transformed and will be executed as-is. Please report this to the AutgoGraph team. When filing the bug, set the verbosity to 10 (on Linux, `export AUTOGRAPH_VERBOSITY=10`) and attach the full output. Cause: converting <bound method Dense.call of <tensorflow.python.layers.core.Dense object at 0x7f2e21f49d30>>: AssertionError: Bad argument number for Name: 3, expecting 4\n",
            "WARNING:tensorflow:Entity <bound method Dense.call of <tensorflow.python.layers.core.Dense object at 0x7f2e22da5828>> could not be transformed and will be executed as-is. Please report this to the AutgoGraph team. When filing the bug, set the verbosity to 10 (on Linux, `export AUTOGRAPH_VERBOSITY=10`) and attach the full output. Cause: converting <bound method Dense.call of <tensorflow.python.layers.core.Dense object at 0x7f2e22da5828>>: AssertionError: Bad argument number for Name: 3, expecting 4\n",
            "WARNING: Entity <bound method Dense.call of <tensorflow.python.layers.core.Dense object at 0x7f2e22da5828>> could not be transformed and will be executed as-is. Please report this to the AutgoGraph team. When filing the bug, set the verbosity to 10 (on Linux, `export AUTOGRAPH_VERBOSITY=10`) and attach the full output. Cause: converting <bound method Dense.call of <tensorflow.python.layers.core.Dense object at 0x7f2e22da5828>>: AssertionError: Bad argument number for Name: 3, expecting 4\n",
            "WARNING:tensorflow:Entity <bound method Dense.call of <tensorflow.python.layers.core.Dense object at 0x7f2e22da5828>> could not be transformed and will be executed as-is. Please report this to the AutgoGraph team. When filing the bug, set the verbosity to 10 (on Linux, `export AUTOGRAPH_VERBOSITY=10`) and attach the full output. Cause: converting <bound method Dense.call of <tensorflow.python.layers.core.Dense object at 0x7f2e22da5828>>: AssertionError: Bad argument number for Name: 3, expecting 4\n",
            "WARNING: Entity <bound method Dense.call of <tensorflow.python.layers.core.Dense object at 0x7f2e22da5828>> could not be transformed and will be executed as-is. Please report this to the AutgoGraph team. When filing the bug, set the verbosity to 10 (on Linux, `export AUTOGRAPH_VERBOSITY=10`) and attach the full output. Cause: converting <bound method Dense.call of <tensorflow.python.layers.core.Dense object at 0x7f2e22da5828>>: AssertionError: Bad argument number for Name: 3, expecting 4\n",
            "WARNING:tensorflow:Entity <bound method Dense.call of <tensorflow.python.layers.core.Dense object at 0x7f2e21f49080>> could not be transformed and will be executed as-is. Please report this to the AutgoGraph team. When filing the bug, set the verbosity to 10 (on Linux, `export AUTOGRAPH_VERBOSITY=10`) and attach the full output. Cause: converting <bound method Dense.call of <tensorflow.python.layers.core.Dense object at 0x7f2e21f49080>>: AssertionError: Bad argument number for Name: 3, expecting 4\n",
            "WARNING: Entity <bound method Dense.call of <tensorflow.python.layers.core.Dense object at 0x7f2e21f49080>> could not be transformed and will be executed as-is. Please report this to the AutgoGraph team. When filing the bug, set the verbosity to 10 (on Linux, `export AUTOGRAPH_VERBOSITY=10`) and attach the full output. Cause: converting <bound method Dense.call of <tensorflow.python.layers.core.Dense object at 0x7f2e21f49080>>: AssertionError: Bad argument number for Name: 3, expecting 4\n",
            "WARNING:tensorflow:Entity <bound method Dense.call of <tensorflow.python.layers.core.Dense object at 0x7f2e21f49080>> could not be transformed and will be executed as-is. Please report this to the AutgoGraph team. When filing the bug, set the verbosity to 10 (on Linux, `export AUTOGRAPH_VERBOSITY=10`) and attach the full output. Cause: converting <bound method Dense.call of <tensorflow.python.layers.core.Dense object at 0x7f2e21f49080>>: AssertionError: Bad argument number for Name: 3, expecting 4\n",
            "WARNING: Entity <bound method Dense.call of <tensorflow.python.layers.core.Dense object at 0x7f2e21f49080>> could not be transformed and will be executed as-is. Please report this to the AutgoGraph team. When filing the bug, set the verbosity to 10 (on Linux, `export AUTOGRAPH_VERBOSITY=10`) and attach the full output. Cause: converting <bound method Dense.call of <tensorflow.python.layers.core.Dense object at 0x7f2e21f49080>>: AssertionError: Bad argument number for Name: 3, expecting 4\n",
            "WARNING:tensorflow:Entity <bound method Dense.call of <tensorflow.python.layers.core.Dense object at 0x7f2e21f49668>> could not be transformed and will be executed as-is. Please report this to the AutgoGraph team. When filing the bug, set the verbosity to 10 (on Linux, `export AUTOGRAPH_VERBOSITY=10`) and attach the full output. Cause: converting <bound method Dense.call of <tensorflow.python.layers.core.Dense object at 0x7f2e21f49668>>: AssertionError: Bad argument number for Name: 3, expecting 4\n",
            "WARNING: Entity <bound method Dense.call of <tensorflow.python.layers.core.Dense object at 0x7f2e21f49668>> could not be transformed and will be executed as-is. Please report this to the AutgoGraph team. When filing the bug, set the verbosity to 10 (on Linux, `export AUTOGRAPH_VERBOSITY=10`) and attach the full output. Cause: converting <bound method Dense.call of <tensorflow.python.layers.core.Dense object at 0x7f2e21f49668>>: AssertionError: Bad argument number for Name: 3, expecting 4\n",
            "WARNING:tensorflow:Entity <bound method Dense.call of <tensorflow.python.layers.core.Dense object at 0x7f2e218ec0b8>> could not be transformed and will be executed as-is. Please report this to the AutgoGraph team. When filing the bug, set the verbosity to 10 (on Linux, `export AUTOGRAPH_VERBOSITY=10`) and attach the full output. Cause: converting <bound method Dense.call of <tensorflow.python.layers.core.Dense object at 0x7f2e218ec0b8>>: AssertionError: Bad argument number for Name: 3, expecting 4\n",
            "WARNING: Entity <bound method Dense.call of <tensorflow.python.layers.core.Dense object at 0x7f2e218ec0b8>> could not be transformed and will be executed as-is. Please report this to the AutgoGraph team. When filing the bug, set the verbosity to 10 (on Linux, `export AUTOGRAPH_VERBOSITY=10`) and attach the full output. Cause: converting <bound method Dense.call of <tensorflow.python.layers.core.Dense object at 0x7f2e218ec0b8>>: AssertionError: Bad argument number for Name: 3, expecting 4\n",
            "WARNING:tensorflow:Entity <bound method Dense.call of <tensorflow.python.layers.core.Dense object at 0x7f2e21f29198>> could not be transformed and will be executed as-is. Please report this to the AutgoGraph team. When filing the bug, set the verbosity to 10 (on Linux, `export AUTOGRAPH_VERBOSITY=10`) and attach the full output. Cause: converting <bound method Dense.call of <tensorflow.python.layers.core.Dense object at 0x7f2e21f29198>>: AssertionError: Bad argument number for Name: 3, expecting 4\n",
            "WARNING: Entity <bound method Dense.call of <tensorflow.python.layers.core.Dense object at 0x7f2e21f29198>> could not be transformed and will be executed as-is. Please report this to the AutgoGraph team. When filing the bug, set the verbosity to 10 (on Linux, `export AUTOGRAPH_VERBOSITY=10`) and attach the full output. Cause: converting <bound method Dense.call of <tensorflow.python.layers.core.Dense object at 0x7f2e21f29198>>: AssertionError: Bad argument number for Name: 3, expecting 4\n",
            "WARNING:tensorflow:Entity <bound method Dense.call of <tensorflow.python.layers.core.Dense object at 0x7f2e21f29198>> could not be transformed and will be executed as-is. Please report this to the AutgoGraph team. When filing the bug, set the verbosity to 10 (on Linux, `export AUTOGRAPH_VERBOSITY=10`) and attach the full output. Cause: converting <bound method Dense.call of <tensorflow.python.layers.core.Dense object at 0x7f2e21f29198>>: AssertionError: Bad argument number for Name: 3, expecting 4\n",
            "WARNING: Entity <bound method Dense.call of <tensorflow.python.layers.core.Dense object at 0x7f2e21f29198>> could not be transformed and will be executed as-is. Please report this to the AutgoGraph team. When filing the bug, set the verbosity to 10 (on Linux, `export AUTOGRAPH_VERBOSITY=10`) and attach the full output. Cause: converting <bound method Dense.call of <tensorflow.python.layers.core.Dense object at 0x7f2e21f29198>>: AssertionError: Bad argument number for Name: 3, expecting 4\n",
            "INFO:tensorflow:Saver not created because there are no variables in the graph to restore\n",
            "INFO:tensorflow:Saver not created because there are no variables in the graph to restore\n",
            "Appling an orthogonality preserving step to nvp_funcs/red_dim0//orthogonal_stiefel/A:0\n",
            "Appling an orthogonality preserving step to nvp_funcs/red_dim1//orthogonal_stiefel/A:0\n",
            "Appling an orthogonality preserving step to nvp_funcs/red_dim2//orthogonal_stiefel/A:0\n",
            "Appling an orthogonality preserving step to nvp_funcs/red_dim3//orthogonal_stiefel/A:0\n",
            "Appling standard rmsprop to nvp_funcs/real_nvp_default_template/nvp3/inner_layers/dense/kernel:0\n",
            "Appling standard rmsprop to nvp_funcs/real_nvp_default_template/nvp3/inner_layers/dense/bias:0\n",
            "Appling standard rmsprop to nvp_funcs/real_nvp_default_template/nvp3/inner_layers/dense_1/kernel:0\n",
            "Appling standard rmsprop to nvp_funcs/real_nvp_default_template/nvp3/inner_layers/dense_1/bias:0\n",
            "Appling standard rmsprop to nvp_funcs/real_nvp_default_template/nvp3/inner_layers/dense_2/kernel:0\n",
            "Appling standard rmsprop to nvp_funcs/real_nvp_default_template/nvp3/inner_layers/dense_2/bias:0\n",
            "Appling standard rmsprop to nvp_funcs/real_nvp_default_template_1/nvp2/inner_layers/dense/kernel:0\n",
            "Appling standard rmsprop to nvp_funcs/real_nvp_default_template_1/nvp2/inner_layers/dense/bias:0\n",
            "Appling standard rmsprop to nvp_funcs/real_nvp_default_template_1/nvp2/inner_layers/dense_1/kernel:0\n",
            "Appling standard rmsprop to nvp_funcs/real_nvp_default_template_1/nvp2/inner_layers/dense_1/bias:0\n",
            "Appling standard rmsprop to nvp_funcs/real_nvp_default_template_1/nvp2/inner_layers/dense_2/kernel:0\n",
            "Appling standard rmsprop to nvp_funcs/real_nvp_default_template_1/nvp2/inner_layers/dense_2/bias:0\n",
            "Appling standard rmsprop to nvp_funcs/real_nvp_default_template_2/nvp1/inner_layers/dense/kernel:0\n",
            "Appling standard rmsprop to nvp_funcs/real_nvp_default_template_2/nvp1/inner_layers/dense/bias:0\n",
            "Appling standard rmsprop to nvp_funcs/real_nvp_default_template_2/nvp1/inner_layers/dense_1/kernel:0\n",
            "Appling standard rmsprop to nvp_funcs/real_nvp_default_template_2/nvp1/inner_layers/dense_1/bias:0\n",
            "Appling standard rmsprop to nvp_funcs/real_nvp_default_template_2/nvp1/inner_layers/dense_2/kernel:0\n",
            "Appling standard rmsprop to nvp_funcs/real_nvp_default_template_2/nvp1/inner_layers/dense_2/bias:0\n",
            "Appling standard rmsprop to nvp_funcs/real_nvp_default_template_3/nvp0/inner_layers/dense/kernel:0\n",
            "Appling standard rmsprop to nvp_funcs/real_nvp_default_template_3/nvp0/inner_layers/dense/bias:0\n",
            "Appling standard rmsprop to nvp_funcs/real_nvp_default_template_3/nvp0/inner_layers/dense_1/kernel:0\n",
            "Appling standard rmsprop to nvp_funcs/real_nvp_default_template_3/nvp0/inner_layers/dense_1/bias:0\n",
            "Appling standard rmsprop to nvp_funcs/real_nvp_default_template_3/nvp0/inner_layers/dense_2/kernel:0\n",
            "Appling standard rmsprop to nvp_funcs/real_nvp_default_template_3/nvp0/inner_layers/dense_2/bias:0\n"
          ],
          "name": "stdout"
        }
      ]
    },
    {
      "cell_type": "markdown",
      "metadata": {
        "id": "NivRmo0_372C",
        "colab_type": "text"
      },
      "source": [
        ""
      ]
    },
    {
      "cell_type": "code",
      "metadata": {
        "id": "9qc3mdU7ZchJ",
        "colab_type": "code",
        "colab": {}
      },
      "source": [
        ""
      ],
      "execution_count": 0,
      "outputs": []
    },
    {
      "cell_type": "code",
      "metadata": {
        "id": "Soh1tnGH1FTW",
        "colab_type": "code",
        "colab": {}
      },
      "source": [
        "sess = tf.Session()\n",
        "sess.run(tf.global_variables_initializer())"
      ],
      "execution_count": 0,
      "outputs": []
    },
    {
      "cell_type": "markdown",
      "metadata": {
        "id": "U0xZ_4ActOw9",
        "colab_type": "text"
      },
      "source": [
        "**Training of the NVP**"
      ]
    },
    {
      "cell_type": "code",
      "metadata": {
        "id": "ggPmR0fs8qEM",
        "colab_type": "code",
        "colab": {}
      },
      "source": [
        "nvp_loss = []\n",
        "nvp_sigma= []\n",
        "nepoch = 0"
      ],
      "execution_count": 0,
      "outputs": []
    },
    {
      "cell_type": "code",
      "metadata": {
        "id": "ERmZCW6yBqUR",
        "colab_type": "code",
        "outputId": "3adf7586-2699-4a01-8404-fa4718f893cf",
        "colab": {
          "base_uri": "https://localhost:8080/",
          "height": 404
        }
      },
      "source": [
        "ii     = 0\n",
        "\n",
        "learning_rate = 1e-10\n",
        "\n",
        "#train the nvp\n",
        "while nepoch<400:\n",
        "  x = my_gen.next()\n",
        "  if len(x)==batch_size:\n",
        "    if (ii+1)*batch_size>len(x_train_prep): \n",
        "      ii=0\n",
        "      nepoch+=1\n",
        "      print('starting epoch', nepoch)\n",
        "    if nepoch>20:\n",
        "      learning_rate=1e-4\n",
        "    if nepoch>20:\n",
        "      learning_rate=1e-5\n",
        "    x_truth = x.reshape(-1,28*28)\n",
        "    _, ll,s = sess.run([opt_op,loss,sigma], feed_dict={x_tr: x_truth, lr: learning_rate})\n",
        "    nvp_loss+=[ll]\n",
        "    nvp_sigma+=[s]\n",
        "    if ii%100==0:\n",
        "      print(ll, s)\n",
        "  ii+=1"
      ],
      "execution_count": 0,
      "outputs": [
        {
          "output_type": "stream",
          "text": [
            "261630.84 0.1\n",
            "262125.66 0.1\n"
          ],
          "name": "stdout"
        },
        {
          "output_type": "error",
          "ename": "KeyboardInterrupt",
          "evalue": "ignored",
          "traceback": [
            "\u001b[0;31m---------------------------------------------------------------------------\u001b[0m",
            "\u001b[0;31mKeyboardInterrupt\u001b[0m                         Traceback (most recent call last)",
            "\u001b[0;32m<ipython-input-277-ccdca5d6d12d>\u001b[0m in \u001b[0;36m<module>\u001b[0;34m()\u001b[0m\n\u001b[1;32m     16\u001b[0m       \u001b[0mlearning_rate\u001b[0m\u001b[0;34m=\u001b[0m\u001b[0;36m1e-5\u001b[0m\u001b[0;34m\u001b[0m\u001b[0;34m\u001b[0m\u001b[0m\n\u001b[1;32m     17\u001b[0m     \u001b[0mx_truth\u001b[0m \u001b[0;34m=\u001b[0m \u001b[0mx\u001b[0m\u001b[0;34m.\u001b[0m\u001b[0mreshape\u001b[0m\u001b[0;34m(\u001b[0m\u001b[0;34m-\u001b[0m\u001b[0;36m1\u001b[0m\u001b[0;34m,\u001b[0m\u001b[0;36m28\u001b[0m\u001b[0;34m*\u001b[0m\u001b[0;36m28\u001b[0m\u001b[0;34m)\u001b[0m\u001b[0;34m\u001b[0m\u001b[0;34m\u001b[0m\u001b[0m\n\u001b[0;32m---> 18\u001b[0;31m     \u001b[0m_\u001b[0m\u001b[0;34m,\u001b[0m \u001b[0mll\u001b[0m\u001b[0;34m,\u001b[0m\u001b[0ms\u001b[0m \u001b[0;34m=\u001b[0m \u001b[0msess\u001b[0m\u001b[0;34m.\u001b[0m\u001b[0mrun\u001b[0m\u001b[0;34m(\u001b[0m\u001b[0;34m[\u001b[0m\u001b[0mopt_op\u001b[0m\u001b[0;34m,\u001b[0m\u001b[0mloss\u001b[0m\u001b[0;34m,\u001b[0m\u001b[0msigma\u001b[0m\u001b[0;34m]\u001b[0m\u001b[0;34m,\u001b[0m \u001b[0mfeed_dict\u001b[0m\u001b[0;34m=\u001b[0m\u001b[0;34m{\u001b[0m\u001b[0mx_tr\u001b[0m\u001b[0;34m:\u001b[0m \u001b[0mx_truth\u001b[0m\u001b[0;34m,\u001b[0m \u001b[0mlr\u001b[0m\u001b[0;34m:\u001b[0m \u001b[0mlearning_rate\u001b[0m\u001b[0;34m}\u001b[0m\u001b[0;34m)\u001b[0m\u001b[0;34m\u001b[0m\u001b[0;34m\u001b[0m\u001b[0m\n\u001b[0m\u001b[1;32m     19\u001b[0m     \u001b[0mnvp_loss\u001b[0m\u001b[0;34m+=\u001b[0m\u001b[0;34m[\u001b[0m\u001b[0mll\u001b[0m\u001b[0;34m]\u001b[0m\u001b[0;34m\u001b[0m\u001b[0;34m\u001b[0m\u001b[0m\n\u001b[1;32m     20\u001b[0m     \u001b[0mnvp_sigma\u001b[0m\u001b[0;34m+=\u001b[0m\u001b[0;34m[\u001b[0m\u001b[0ms\u001b[0m\u001b[0;34m]\u001b[0m\u001b[0;34m\u001b[0m\u001b[0;34m\u001b[0m\u001b[0m\n",
            "\u001b[0;32m/usr/local/lib/python3.6/dist-packages/tensorflow/python/client/session.py\u001b[0m in \u001b[0;36mrun\u001b[0;34m(self, fetches, feed_dict, options, run_metadata)\u001b[0m\n\u001b[1;32m    948\u001b[0m     \u001b[0;32mtry\u001b[0m\u001b[0;34m:\u001b[0m\u001b[0;34m\u001b[0m\u001b[0;34m\u001b[0m\u001b[0m\n\u001b[1;32m    949\u001b[0m       result = self._run(None, fetches, feed_dict, options_ptr,\n\u001b[0;32m--> 950\u001b[0;31m                          run_metadata_ptr)\n\u001b[0m\u001b[1;32m    951\u001b[0m       \u001b[0;32mif\u001b[0m \u001b[0mrun_metadata\u001b[0m\u001b[0;34m:\u001b[0m\u001b[0;34m\u001b[0m\u001b[0;34m\u001b[0m\u001b[0m\n\u001b[1;32m    952\u001b[0m         \u001b[0mproto_data\u001b[0m \u001b[0;34m=\u001b[0m \u001b[0mtf_session\u001b[0m\u001b[0;34m.\u001b[0m\u001b[0mTF_GetBuffer\u001b[0m\u001b[0;34m(\u001b[0m\u001b[0mrun_metadata_ptr\u001b[0m\u001b[0;34m)\u001b[0m\u001b[0;34m\u001b[0m\u001b[0;34m\u001b[0m\u001b[0m\n",
            "\u001b[0;32m/usr/local/lib/python3.6/dist-packages/tensorflow/python/client/session.py\u001b[0m in \u001b[0;36m_run\u001b[0;34m(self, handle, fetches, feed_dict, options, run_metadata)\u001b[0m\n\u001b[1;32m   1171\u001b[0m     \u001b[0;32mif\u001b[0m \u001b[0mfinal_fetches\u001b[0m \u001b[0;32mor\u001b[0m \u001b[0mfinal_targets\u001b[0m \u001b[0;32mor\u001b[0m \u001b[0;34m(\u001b[0m\u001b[0mhandle\u001b[0m \u001b[0;32mand\u001b[0m \u001b[0mfeed_dict_tensor\u001b[0m\u001b[0;34m)\u001b[0m\u001b[0;34m:\u001b[0m\u001b[0;34m\u001b[0m\u001b[0;34m\u001b[0m\u001b[0m\n\u001b[1;32m   1172\u001b[0m       results = self._do_run(handle, final_targets, final_fetches,\n\u001b[0;32m-> 1173\u001b[0;31m                              feed_dict_tensor, options, run_metadata)\n\u001b[0m\u001b[1;32m   1174\u001b[0m     \u001b[0;32melse\u001b[0m\u001b[0;34m:\u001b[0m\u001b[0;34m\u001b[0m\u001b[0;34m\u001b[0m\u001b[0m\n\u001b[1;32m   1175\u001b[0m       \u001b[0mresults\u001b[0m \u001b[0;34m=\u001b[0m \u001b[0;34m[\u001b[0m\u001b[0;34m]\u001b[0m\u001b[0;34m\u001b[0m\u001b[0;34m\u001b[0m\u001b[0m\n",
            "\u001b[0;32m/usr/local/lib/python3.6/dist-packages/tensorflow/python/client/session.py\u001b[0m in \u001b[0;36m_do_run\u001b[0;34m(self, handle, target_list, fetch_list, feed_dict, options, run_metadata)\u001b[0m\n\u001b[1;32m   1348\u001b[0m     \u001b[0;32mif\u001b[0m \u001b[0mhandle\u001b[0m \u001b[0;32mis\u001b[0m \u001b[0;32mNone\u001b[0m\u001b[0;34m:\u001b[0m\u001b[0;34m\u001b[0m\u001b[0;34m\u001b[0m\u001b[0m\n\u001b[1;32m   1349\u001b[0m       return self._do_call(_run_fn, feeds, fetches, targets, options,\n\u001b[0;32m-> 1350\u001b[0;31m                            run_metadata)\n\u001b[0m\u001b[1;32m   1351\u001b[0m     \u001b[0;32melse\u001b[0m\u001b[0;34m:\u001b[0m\u001b[0;34m\u001b[0m\u001b[0;34m\u001b[0m\u001b[0m\n\u001b[1;32m   1352\u001b[0m       \u001b[0;32mreturn\u001b[0m \u001b[0mself\u001b[0m\u001b[0;34m.\u001b[0m\u001b[0m_do_call\u001b[0m\u001b[0;34m(\u001b[0m\u001b[0m_prun_fn\u001b[0m\u001b[0;34m,\u001b[0m \u001b[0mhandle\u001b[0m\u001b[0;34m,\u001b[0m \u001b[0mfeeds\u001b[0m\u001b[0;34m,\u001b[0m \u001b[0mfetches\u001b[0m\u001b[0;34m)\u001b[0m\u001b[0;34m\u001b[0m\u001b[0;34m\u001b[0m\u001b[0m\n",
            "\u001b[0;32m/usr/local/lib/python3.6/dist-packages/tensorflow/python/client/session.py\u001b[0m in \u001b[0;36m_do_call\u001b[0;34m(self, fn, *args)\u001b[0m\n\u001b[1;32m   1354\u001b[0m   \u001b[0;32mdef\u001b[0m \u001b[0m_do_call\u001b[0m\u001b[0;34m(\u001b[0m\u001b[0mself\u001b[0m\u001b[0;34m,\u001b[0m \u001b[0mfn\u001b[0m\u001b[0;34m,\u001b[0m \u001b[0;34m*\u001b[0m\u001b[0margs\u001b[0m\u001b[0;34m)\u001b[0m\u001b[0;34m:\u001b[0m\u001b[0;34m\u001b[0m\u001b[0;34m\u001b[0m\u001b[0m\n\u001b[1;32m   1355\u001b[0m     \u001b[0;32mtry\u001b[0m\u001b[0;34m:\u001b[0m\u001b[0;34m\u001b[0m\u001b[0;34m\u001b[0m\u001b[0m\n\u001b[0;32m-> 1356\u001b[0;31m       \u001b[0;32mreturn\u001b[0m \u001b[0mfn\u001b[0m\u001b[0;34m(\u001b[0m\u001b[0;34m*\u001b[0m\u001b[0margs\u001b[0m\u001b[0;34m)\u001b[0m\u001b[0;34m\u001b[0m\u001b[0;34m\u001b[0m\u001b[0m\n\u001b[0m\u001b[1;32m   1357\u001b[0m     \u001b[0;32mexcept\u001b[0m \u001b[0merrors\u001b[0m\u001b[0;34m.\u001b[0m\u001b[0mOpError\u001b[0m \u001b[0;32mas\u001b[0m \u001b[0me\u001b[0m\u001b[0;34m:\u001b[0m\u001b[0;34m\u001b[0m\u001b[0;34m\u001b[0m\u001b[0m\n\u001b[1;32m   1358\u001b[0m       \u001b[0mmessage\u001b[0m \u001b[0;34m=\u001b[0m \u001b[0mcompat\u001b[0m\u001b[0;34m.\u001b[0m\u001b[0mas_text\u001b[0m\u001b[0;34m(\u001b[0m\u001b[0me\u001b[0m\u001b[0;34m.\u001b[0m\u001b[0mmessage\u001b[0m\u001b[0;34m)\u001b[0m\u001b[0;34m\u001b[0m\u001b[0;34m\u001b[0m\u001b[0m\n",
            "\u001b[0;32m/usr/local/lib/python3.6/dist-packages/tensorflow/python/client/session.py\u001b[0m in \u001b[0;36m_run_fn\u001b[0;34m(feed_dict, fetch_list, target_list, options, run_metadata)\u001b[0m\n\u001b[1;32m   1339\u001b[0m       \u001b[0mself\u001b[0m\u001b[0;34m.\u001b[0m\u001b[0m_extend_graph\u001b[0m\u001b[0;34m(\u001b[0m\u001b[0;34m)\u001b[0m\u001b[0;34m\u001b[0m\u001b[0;34m\u001b[0m\u001b[0m\n\u001b[1;32m   1340\u001b[0m       return self._call_tf_sessionrun(\n\u001b[0;32m-> 1341\u001b[0;31m           options, feed_dict, fetch_list, target_list, run_metadata)\n\u001b[0m\u001b[1;32m   1342\u001b[0m \u001b[0;34m\u001b[0m\u001b[0m\n\u001b[1;32m   1343\u001b[0m     \u001b[0;32mdef\u001b[0m \u001b[0m_prun_fn\u001b[0m\u001b[0;34m(\u001b[0m\u001b[0mhandle\u001b[0m\u001b[0;34m,\u001b[0m \u001b[0mfeed_dict\u001b[0m\u001b[0;34m,\u001b[0m \u001b[0mfetch_list\u001b[0m\u001b[0;34m)\u001b[0m\u001b[0;34m:\u001b[0m\u001b[0;34m\u001b[0m\u001b[0;34m\u001b[0m\u001b[0m\n",
            "\u001b[0;32m/usr/local/lib/python3.6/dist-packages/tensorflow/python/client/session.py\u001b[0m in \u001b[0;36m_call_tf_sessionrun\u001b[0;34m(self, options, feed_dict, fetch_list, target_list, run_metadata)\u001b[0m\n\u001b[1;32m   1427\u001b[0m     return tf_session.TF_SessionRun_wrapper(\n\u001b[1;32m   1428\u001b[0m         \u001b[0mself\u001b[0m\u001b[0;34m.\u001b[0m\u001b[0m_session\u001b[0m\u001b[0;34m,\u001b[0m \u001b[0moptions\u001b[0m\u001b[0;34m,\u001b[0m \u001b[0mfeed_dict\u001b[0m\u001b[0;34m,\u001b[0m \u001b[0mfetch_list\u001b[0m\u001b[0;34m,\u001b[0m \u001b[0mtarget_list\u001b[0m\u001b[0;34m,\u001b[0m\u001b[0;34m\u001b[0m\u001b[0;34m\u001b[0m\u001b[0m\n\u001b[0;32m-> 1429\u001b[0;31m         run_metadata)\n\u001b[0m\u001b[1;32m   1430\u001b[0m \u001b[0;34m\u001b[0m\u001b[0m\n\u001b[1;32m   1431\u001b[0m   \u001b[0;32mdef\u001b[0m \u001b[0m_call_tf_sessionprun\u001b[0m\u001b[0;34m(\u001b[0m\u001b[0mself\u001b[0m\u001b[0;34m,\u001b[0m \u001b[0mhandle\u001b[0m\u001b[0;34m,\u001b[0m \u001b[0mfeed_dict\u001b[0m\u001b[0;34m,\u001b[0m \u001b[0mfetch_list\u001b[0m\u001b[0;34m)\u001b[0m\u001b[0;34m:\u001b[0m\u001b[0;34m\u001b[0m\u001b[0;34m\u001b[0m\u001b[0m\n",
            "\u001b[0;31mKeyboardInterrupt\u001b[0m: "
          ]
        }
      ]
    },
    {
      "cell_type": "code",
      "metadata": {
        "id": "t_EkOiNsLlcr",
        "colab_type": "code",
        "outputId": "a619448b-dd80-4042-87a4-228c623a5f50",
        "colab": {
          "base_uri": "https://localhost:8080/",
          "height": 370
        }
      },
      "source": [
        "ll =[]\n",
        "for ii in range(len(x_test_prep)//batch_size):\n",
        "  ll.append(sess.run([loss], feed_dict={x_tr:x_test_prep[ii*batch_size:(ii+1)*batch_size]}))\n",
        "print(mean(ll))\n",
        "\n",
        "ll =[]\n",
        "for ii in range(len(x_train_prep)//batch_size):\n",
        "  ll.append(sess.run([loss], feed_dict={x_tr:x_train_prep[ii*batch_size:(ii+1)*batch_size]}))\n",
        "print(mean(ll))"
      ],
      "execution_count": 0,
      "outputs": [
        {
          "output_type": "stream",
          "text": [
            "837471.6\n"
          ],
          "name": "stdout"
        },
        {
          "output_type": "error",
          "ename": "KeyboardInterrupt",
          "evalue": "ignored",
          "traceback": [
            "\u001b[0;31m---------------------------------------------------------------------------\u001b[0m",
            "\u001b[0;31mKeyboardInterrupt\u001b[0m                         Traceback (most recent call last)",
            "\u001b[0;32m<ipython-input-32-f593e0e3a239>\u001b[0m in \u001b[0;36m<module>\u001b[0;34m()\u001b[0m\n\u001b[1;32m      6\u001b[0m \u001b[0mll\u001b[0m \u001b[0;34m=\u001b[0m\u001b[0;34m[\u001b[0m\u001b[0;34m]\u001b[0m\u001b[0;34m\u001b[0m\u001b[0;34m\u001b[0m\u001b[0m\n\u001b[1;32m      7\u001b[0m \u001b[0;32mfor\u001b[0m \u001b[0mii\u001b[0m \u001b[0;32min\u001b[0m \u001b[0mrange\u001b[0m\u001b[0;34m(\u001b[0m\u001b[0mlen\u001b[0m\u001b[0;34m(\u001b[0m\u001b[0mx_train_prep\u001b[0m\u001b[0;34m)\u001b[0m\u001b[0;34m//\u001b[0m\u001b[0mbatch_size\u001b[0m\u001b[0;34m)\u001b[0m\u001b[0;34m:\u001b[0m\u001b[0;34m\u001b[0m\u001b[0;34m\u001b[0m\u001b[0m\n\u001b[0;32m----> 8\u001b[0;31m   \u001b[0mll\u001b[0m\u001b[0;34m.\u001b[0m\u001b[0mappend\u001b[0m\u001b[0;34m(\u001b[0m\u001b[0msess\u001b[0m\u001b[0;34m.\u001b[0m\u001b[0mrun\u001b[0m\u001b[0;34m(\u001b[0m\u001b[0;34m[\u001b[0m\u001b[0mloss\u001b[0m\u001b[0;34m]\u001b[0m\u001b[0;34m,\u001b[0m \u001b[0mfeed_dict\u001b[0m\u001b[0;34m=\u001b[0m\u001b[0;34m{\u001b[0m\u001b[0mx_tr\u001b[0m\u001b[0;34m:\u001b[0m\u001b[0mx_train_prep\u001b[0m\u001b[0;34m[\u001b[0m\u001b[0mii\u001b[0m\u001b[0;34m*\u001b[0m\u001b[0mbatch_size\u001b[0m\u001b[0;34m:\u001b[0m\u001b[0;34m(\u001b[0m\u001b[0mii\u001b[0m\u001b[0;34m+\u001b[0m\u001b[0;36m1\u001b[0m\u001b[0;34m)\u001b[0m\u001b[0;34m*\u001b[0m\u001b[0mbatch_size\u001b[0m\u001b[0;34m]\u001b[0m\u001b[0;34m}\u001b[0m\u001b[0;34m)\u001b[0m\u001b[0;34m)\u001b[0m\u001b[0;34m\u001b[0m\u001b[0;34m\u001b[0m\u001b[0m\n\u001b[0m\u001b[1;32m      9\u001b[0m \u001b[0mprint\u001b[0m\u001b[0;34m(\u001b[0m\u001b[0mmean\u001b[0m\u001b[0;34m(\u001b[0m\u001b[0mll\u001b[0m\u001b[0;34m)\u001b[0m\u001b[0;34m)\u001b[0m\u001b[0;34m\u001b[0m\u001b[0;34m\u001b[0m\u001b[0m\n",
            "\u001b[0;32m/usr/local/lib/python3.6/dist-packages/tensorflow/python/client/session.py\u001b[0m in \u001b[0;36mrun\u001b[0;34m(self, fetches, feed_dict, options, run_metadata)\u001b[0m\n\u001b[1;32m    948\u001b[0m     \u001b[0;32mtry\u001b[0m\u001b[0;34m:\u001b[0m\u001b[0;34m\u001b[0m\u001b[0;34m\u001b[0m\u001b[0m\n\u001b[1;32m    949\u001b[0m       result = self._run(None, fetches, feed_dict, options_ptr,\n\u001b[0;32m--> 950\u001b[0;31m                          run_metadata_ptr)\n\u001b[0m\u001b[1;32m    951\u001b[0m       \u001b[0;32mif\u001b[0m \u001b[0mrun_metadata\u001b[0m\u001b[0;34m:\u001b[0m\u001b[0;34m\u001b[0m\u001b[0;34m\u001b[0m\u001b[0m\n\u001b[1;32m    952\u001b[0m         \u001b[0mproto_data\u001b[0m \u001b[0;34m=\u001b[0m \u001b[0mtf_session\u001b[0m\u001b[0;34m.\u001b[0m\u001b[0mTF_GetBuffer\u001b[0m\u001b[0;34m(\u001b[0m\u001b[0mrun_metadata_ptr\u001b[0m\u001b[0;34m)\u001b[0m\u001b[0;34m\u001b[0m\u001b[0;34m\u001b[0m\u001b[0m\n",
            "\u001b[0;32m/usr/local/lib/python3.6/dist-packages/tensorflow/python/client/session.py\u001b[0m in \u001b[0;36m_run\u001b[0;34m(self, handle, fetches, feed_dict, options, run_metadata)\u001b[0m\n\u001b[1;32m   1171\u001b[0m     \u001b[0;32mif\u001b[0m \u001b[0mfinal_fetches\u001b[0m \u001b[0;32mor\u001b[0m \u001b[0mfinal_targets\u001b[0m \u001b[0;32mor\u001b[0m \u001b[0;34m(\u001b[0m\u001b[0mhandle\u001b[0m \u001b[0;32mand\u001b[0m \u001b[0mfeed_dict_tensor\u001b[0m\u001b[0;34m)\u001b[0m\u001b[0;34m:\u001b[0m\u001b[0;34m\u001b[0m\u001b[0;34m\u001b[0m\u001b[0m\n\u001b[1;32m   1172\u001b[0m       results = self._do_run(handle, final_targets, final_fetches,\n\u001b[0;32m-> 1173\u001b[0;31m                              feed_dict_tensor, options, run_metadata)\n\u001b[0m\u001b[1;32m   1174\u001b[0m     \u001b[0;32melse\u001b[0m\u001b[0;34m:\u001b[0m\u001b[0;34m\u001b[0m\u001b[0;34m\u001b[0m\u001b[0m\n\u001b[1;32m   1175\u001b[0m       \u001b[0mresults\u001b[0m \u001b[0;34m=\u001b[0m \u001b[0;34m[\u001b[0m\u001b[0;34m]\u001b[0m\u001b[0;34m\u001b[0m\u001b[0;34m\u001b[0m\u001b[0m\n",
            "\u001b[0;32m/usr/local/lib/python3.6/dist-packages/tensorflow/python/client/session.py\u001b[0m in \u001b[0;36m_do_run\u001b[0;34m(self, handle, target_list, fetch_list, feed_dict, options, run_metadata)\u001b[0m\n\u001b[1;32m   1348\u001b[0m     \u001b[0;32mif\u001b[0m \u001b[0mhandle\u001b[0m \u001b[0;32mis\u001b[0m \u001b[0;32mNone\u001b[0m\u001b[0;34m:\u001b[0m\u001b[0;34m\u001b[0m\u001b[0;34m\u001b[0m\u001b[0m\n\u001b[1;32m   1349\u001b[0m       return self._do_call(_run_fn, feeds, fetches, targets, options,\n\u001b[0;32m-> 1350\u001b[0;31m                            run_metadata)\n\u001b[0m\u001b[1;32m   1351\u001b[0m     \u001b[0;32melse\u001b[0m\u001b[0;34m:\u001b[0m\u001b[0;34m\u001b[0m\u001b[0;34m\u001b[0m\u001b[0m\n\u001b[1;32m   1352\u001b[0m       \u001b[0;32mreturn\u001b[0m \u001b[0mself\u001b[0m\u001b[0;34m.\u001b[0m\u001b[0m_do_call\u001b[0m\u001b[0;34m(\u001b[0m\u001b[0m_prun_fn\u001b[0m\u001b[0;34m,\u001b[0m \u001b[0mhandle\u001b[0m\u001b[0;34m,\u001b[0m \u001b[0mfeeds\u001b[0m\u001b[0;34m,\u001b[0m \u001b[0mfetches\u001b[0m\u001b[0;34m)\u001b[0m\u001b[0;34m\u001b[0m\u001b[0;34m\u001b[0m\u001b[0m\n",
            "\u001b[0;32m/usr/local/lib/python3.6/dist-packages/tensorflow/python/client/session.py\u001b[0m in \u001b[0;36m_do_call\u001b[0;34m(self, fn, *args)\u001b[0m\n\u001b[1;32m   1354\u001b[0m   \u001b[0;32mdef\u001b[0m \u001b[0m_do_call\u001b[0m\u001b[0;34m(\u001b[0m\u001b[0mself\u001b[0m\u001b[0;34m,\u001b[0m \u001b[0mfn\u001b[0m\u001b[0;34m,\u001b[0m \u001b[0;34m*\u001b[0m\u001b[0margs\u001b[0m\u001b[0;34m)\u001b[0m\u001b[0;34m:\u001b[0m\u001b[0;34m\u001b[0m\u001b[0;34m\u001b[0m\u001b[0m\n\u001b[1;32m   1355\u001b[0m     \u001b[0;32mtry\u001b[0m\u001b[0;34m:\u001b[0m\u001b[0;34m\u001b[0m\u001b[0;34m\u001b[0m\u001b[0m\n\u001b[0;32m-> 1356\u001b[0;31m       \u001b[0;32mreturn\u001b[0m \u001b[0mfn\u001b[0m\u001b[0;34m(\u001b[0m\u001b[0;34m*\u001b[0m\u001b[0margs\u001b[0m\u001b[0;34m)\u001b[0m\u001b[0;34m\u001b[0m\u001b[0;34m\u001b[0m\u001b[0m\n\u001b[0m\u001b[1;32m   1357\u001b[0m     \u001b[0;32mexcept\u001b[0m \u001b[0merrors\u001b[0m\u001b[0;34m.\u001b[0m\u001b[0mOpError\u001b[0m \u001b[0;32mas\u001b[0m \u001b[0me\u001b[0m\u001b[0;34m:\u001b[0m\u001b[0;34m\u001b[0m\u001b[0;34m\u001b[0m\u001b[0m\n\u001b[1;32m   1358\u001b[0m       \u001b[0mmessage\u001b[0m \u001b[0;34m=\u001b[0m \u001b[0mcompat\u001b[0m\u001b[0;34m.\u001b[0m\u001b[0mas_text\u001b[0m\u001b[0;34m(\u001b[0m\u001b[0me\u001b[0m\u001b[0;34m.\u001b[0m\u001b[0mmessage\u001b[0m\u001b[0;34m)\u001b[0m\u001b[0;34m\u001b[0m\u001b[0;34m\u001b[0m\u001b[0m\n",
            "\u001b[0;32m/usr/local/lib/python3.6/dist-packages/tensorflow/python/client/session.py\u001b[0m in \u001b[0;36m_run_fn\u001b[0;34m(feed_dict, fetch_list, target_list, options, run_metadata)\u001b[0m\n\u001b[1;32m   1339\u001b[0m       \u001b[0mself\u001b[0m\u001b[0;34m.\u001b[0m\u001b[0m_extend_graph\u001b[0m\u001b[0;34m(\u001b[0m\u001b[0;34m)\u001b[0m\u001b[0;34m\u001b[0m\u001b[0;34m\u001b[0m\u001b[0m\n\u001b[1;32m   1340\u001b[0m       return self._call_tf_sessionrun(\n\u001b[0;32m-> 1341\u001b[0;31m           options, feed_dict, fetch_list, target_list, run_metadata)\n\u001b[0m\u001b[1;32m   1342\u001b[0m \u001b[0;34m\u001b[0m\u001b[0m\n\u001b[1;32m   1343\u001b[0m     \u001b[0;32mdef\u001b[0m \u001b[0m_prun_fn\u001b[0m\u001b[0;34m(\u001b[0m\u001b[0mhandle\u001b[0m\u001b[0;34m,\u001b[0m \u001b[0mfeed_dict\u001b[0m\u001b[0;34m,\u001b[0m \u001b[0mfetch_list\u001b[0m\u001b[0;34m)\u001b[0m\u001b[0;34m:\u001b[0m\u001b[0;34m\u001b[0m\u001b[0;34m\u001b[0m\u001b[0m\n",
            "\u001b[0;32m/usr/local/lib/python3.6/dist-packages/tensorflow/python/client/session.py\u001b[0m in \u001b[0;36m_call_tf_sessionrun\u001b[0;34m(self, options, feed_dict, fetch_list, target_list, run_metadata)\u001b[0m\n\u001b[1;32m   1427\u001b[0m     return tf_session.TF_SessionRun_wrapper(\n\u001b[1;32m   1428\u001b[0m         \u001b[0mself\u001b[0m\u001b[0;34m.\u001b[0m\u001b[0m_session\u001b[0m\u001b[0;34m,\u001b[0m \u001b[0moptions\u001b[0m\u001b[0;34m,\u001b[0m \u001b[0mfeed_dict\u001b[0m\u001b[0;34m,\u001b[0m \u001b[0mfetch_list\u001b[0m\u001b[0;34m,\u001b[0m \u001b[0mtarget_list\u001b[0m\u001b[0;34m,\u001b[0m\u001b[0;34m\u001b[0m\u001b[0;34m\u001b[0m\u001b[0m\n\u001b[0;32m-> 1429\u001b[0;31m         run_metadata)\n\u001b[0m\u001b[1;32m   1430\u001b[0m \u001b[0;34m\u001b[0m\u001b[0m\n\u001b[1;32m   1431\u001b[0m   \u001b[0;32mdef\u001b[0m \u001b[0m_call_tf_sessionprun\u001b[0m\u001b[0;34m(\u001b[0m\u001b[0mself\u001b[0m\u001b[0;34m,\u001b[0m \u001b[0mhandle\u001b[0m\u001b[0;34m,\u001b[0m \u001b[0mfeed_dict\u001b[0m\u001b[0;34m,\u001b[0m \u001b[0mfetch_list\u001b[0m\u001b[0;34m)\u001b[0m\u001b[0;34m:\u001b[0m\u001b[0;34m\u001b[0m\u001b[0;34m\u001b[0m\u001b[0m\n",
            "\u001b[0;31mKeyboardInterrupt\u001b[0m: "
          ]
        }
      ]
    },
    {
      "cell_type": "code",
      "metadata": {
        "id": "OfiG5_nbyTbV",
        "colab_type": "code",
        "outputId": "1eafd2c6-ca30-4791-8949-13608e49483c",
        "colab": {
          "base_uri": "https://localhost:8080/",
          "height": 286
        }
      },
      "source": [
        "plt.figure()\n",
        "semilogy(nvp_loss[::],label='nvp loss')\n",
        "legend()\n",
        "#plt.savefig(os.path.join(plot_path+'/loss.png'),bbox_inches='tight')"
      ],
      "execution_count": 0,
      "outputs": [
        {
          "output_type": "execute_result",
          "data": {
            "text/plain": [
              "<matplotlib.legend.Legend at 0x7f2e229e68d0>"
            ]
          },
          "metadata": {
            "tags": []
          },
          "execution_count": 278
        },
        {
          "output_type": "display_data",
          "data": {
            "image/png": "[encoded data removed]",
            "text/plain": [
              "<Figure size 432x288 with 1 Axes>"
            ]
          },
          "metadata": {
            "tags": []
          }
        }
      ]
    },
    {
      "cell_type": "code",
      "metadata": {
        "id": "kWl5SQOzp_Kd",
        "colab_type": "code",
        "outputId": "4455b460-98c1-4e21-9442-1f5a307b4091",
        "colab": {
          "base_uri": "https://localhost:8080/",
          "height": 594
        }
      },
      "source": [
        "x_input      = x_test_prep[:batch_size,:]\n",
        "\n",
        "decode       = sess.run(fwd_pass, feed_dict={x_tr: x_input})\n",
        "num_examples = 5\n",
        "\n",
        "x_input      = dt.inverse(x_input)\n",
        "decode       = dt.inverse(decode)\n",
        "diff         = x_input-decode\n",
        "\n",
        "i=1\n",
        "plt.figure(figsize=(3*2,num_examples*2))\n",
        "for index in range(num_examples):\n",
        "  plt.subplot(num_examples,3,i)\n",
        "  i+=1\n",
        "  imshow(x_input[index].reshape((28,28)),vmax=1,vmin=0,cmap='gray')\n",
        "  axis('off')\n",
        "  plt.subplot(num_examples,3,i)\n",
        "  i+=1  \n",
        "  plt.subplots\n",
        "  imshow(decode[index].reshape((28,28)),vmax=1,vmin=0,cmap='gray')\n",
        "  axis('off')\n",
        "  plt.subplot(num_examples,3,i)\n",
        "  i+=1\n",
        "  imshow(diff[index].reshape((28,28)),vmax=1,vmin=0,cmap='gray')\n",
        "  axis('off')\n",
        "#plt.savefig(os.path.join(plot_path+'/','recons.pdf'),bbox_inches='tight')"
      ],
      "execution_count": 0,
      "outputs": [
        {
          "output_type": "display_data",
          "data": {
            "image/png": "[encoded data removed]",
            "text/plain": [
              "<Figure size 432x720 with 15 Axes>"
            ]
          },
          "metadata": {
            "tags": []
          }
        }
      ]
    },
    {
      "cell_type": "code",
      "metadata": {
        "id": "YWmT0AjAeOKs",
        "colab_type": "code",
        "outputId": "a50dfe25-6193-41c7-a93f-1945b42c7411",
        "colab": {
          "base_uri": "https://localhost:8080/",
          "height": 406
        }
      },
      "source": [
        "\n",
        "prior_sample = sess.run(prior.sample(batch_size))\n",
        "samples_nvp  = sess.run(nvp_funcs({'x_sample':x_truth,'u_sample':prior_sample},as_dict=True)['fwd_pass'])\n",
        "\n",
        "data_space  = dt.inverse(samples_nvp)\n",
        "print(data_space.shape)\n",
        "\n",
        "figure(figsize=(5,5))\n",
        "suptitle('nvp samples')\n",
        "for i in range(16):\n",
        "    subplot(4,4,i+1)\n",
        "    imshow(np.reshape(data_space[i],(28,28)),cmap='gray',vmin=0,vmax=1); #colorbar()\n",
        "    axis('off')\n",
        "#plt.savefig(os.path.join(plot_path+'/','samples.pdf'),bbox_inches='tight')"
      ],
      "execution_count": 0,
      "outputs": [
        {
          "output_type": "stream",
          "text": [
            "INFO:tensorflow:Saver not created because there are no variables in the graph to restore\n"
          ],
          "name": "stdout"
        },
        {
          "output_type": "stream",
          "text": [
            "INFO:tensorflow:Saver not created because there are no variables in the graph to restore\n"
          ],
          "name": "stderr"
        },
        {
          "output_type": "stream",
          "text": [
            "(64, 784)\n"
          ],
          "name": "stdout"
        },
        {
          "output_type": "display_data",
          "data": {
            "image/png": "[encoded data removed]",
            "text/plain": [
              "<Figure size 360x360 with 16 Axes>"
            ]
          },
          "metadata": {
            "tags": []
          }
        }
      ]
    },
    {
      "cell_type": "code",
      "metadata": {
        "id": "Cz7H4D7wBysy",
        "colab_type": "code",
        "outputId": "4b75a9fd-2a06-47df-8dc3-cf9c6ffdbfc5",
        "colab": {
          "base_uri": "https://localhost:8080/",
          "height": 689
        }
      },
      "source": [
        "num = 20#len(x_test_prep)//batch_size\n",
        "latent_space = np.zeros((num*batch_size,data_dim))\n",
        "for ii in range(num):\n",
        "  latent_space[ii*batch_size:(ii+1)*batch_size,:]=sess.run(nvp_funcs({'x_sample':x_test_prep[ii*batch_size:(ii+1)*batch_size],'u_sample':np.zeros((batch_size,data_dim))},as_dict=True)['bwd_pass'])\n"
      ],
      "execution_count": 0,
      "outputs": [
        {
          "output_type": "stream",
          "text": [
            "INFO:tensorflow:Saver not created because there are no variables in the graph to restore\n"
          ],
          "name": "stdout"
        },
        {
          "output_type": "stream",
          "text": [
            "INFO:tensorflow:Saver not created because there are no variables in the graph to restore\n"
          ],
          "name": "stderr"
        },
        {
          "output_type": "stream",
          "text": [
            "INFO:tensorflow:Saver not created because there are no variables in the graph to restore\n"
          ],
          "name": "stdout"
        },
        {
          "output_type": "stream",
          "text": [
            "INFO:tensorflow:Saver not created because there are no variables in the graph to restore\n"
          ],
          "name": "stderr"
        },
        {
          "output_type": "stream",
          "text": [
            "INFO:tensorflow:Saver not created because there are no variables in the graph to restore\n"
          ],
          "name": "stdout"
        },
        {
          "output_type": "stream",
          "text": [
            "INFO:tensorflow:Saver not created because there are no variables in the graph to restore\n"
          ],
          "name": "stderr"
        },
        {
          "output_type": "stream",
          "text": [
            "INFO:tensorflow:Saver not created because there are no variables in the graph to restore\n"
          ],
          "name": "stdout"
        },
        {
          "output_type": "stream",
          "text": [
            "INFO:tensorflow:Saver not created because there are no variables in the graph to restore\n"
          ],
          "name": "stderr"
        },
        {
          "output_type": "stream",
          "text": [
            "INFO:tensorflow:Saver not created because there are no variables in the graph to restore\n"
          ],
          "name": "stdout"
        },
        {
          "output_type": "stream",
          "text": [
            "INFO:tensorflow:Saver not created because there are no variables in the graph to restore\n"
          ],
          "name": "stderr"
        },
        {
          "output_type": "stream",
          "text": [
            "INFO:tensorflow:Saver not created because there are no variables in the graph to restore\n"
          ],
          "name": "stdout"
        },
        {
          "output_type": "stream",
          "text": [
            "INFO:tensorflow:Saver not created because there are no variables in the graph to restore\n"
          ],
          "name": "stderr"
        },
        {
          "output_type": "stream",
          "text": [
            "INFO:tensorflow:Saver not created because there are no variables in the graph to restore\n"
          ],
          "name": "stdout"
        },
        {
          "output_type": "stream",
          "text": [
            "INFO:tensorflow:Saver not created because there are no variables in the graph to restore\n"
          ],
          "name": "stderr"
        },
        {
          "output_type": "stream",
          "text": [
            "INFO:tensorflow:Saver not created because there are no variables in the graph to restore\n"
          ],
          "name": "stdout"
        },
        {
          "output_type": "stream",
          "text": [
            "INFO:tensorflow:Saver not created because there are no variables in the graph to restore\n"
          ],
          "name": "stderr"
        },
        {
          "output_type": "stream",
          "text": [
            "INFO:tensorflow:Saver not created because there are no variables in the graph to restore\n"
          ],
          "name": "stdout"
        },
        {
          "output_type": "stream",
          "text": [
            "INFO:tensorflow:Saver not created because there are no variables in the graph to restore\n"
          ],
          "name": "stderr"
        },
        {
          "output_type": "stream",
          "text": [
            "INFO:tensorflow:Saver not created because there are no variables in the graph to restore\n"
          ],
          "name": "stdout"
        },
        {
          "output_type": "stream",
          "text": [
            "INFO:tensorflow:Saver not created because there are no variables in the graph to restore\n"
          ],
          "name": "stderr"
        },
        {
          "output_type": "stream",
          "text": [
            "INFO:tensorflow:Saver not created because there are no variables in the graph to restore\n"
          ],
          "name": "stdout"
        },
        {
          "output_type": "stream",
          "text": [
            "INFO:tensorflow:Saver not created because there are no variables in the graph to restore\n"
          ],
          "name": "stderr"
        },
        {
          "output_type": "stream",
          "text": [
            "INFO:tensorflow:Saver not created because there are no variables in the graph to restore\n"
          ],
          "name": "stdout"
        },
        {
          "output_type": "stream",
          "text": [
            "INFO:tensorflow:Saver not created because there are no variables in the graph to restore\n"
          ],
          "name": "stderr"
        },
        {
          "output_type": "stream",
          "text": [
            "INFO:tensorflow:Saver not created because there are no variables in the graph to restore\n"
          ],
          "name": "stdout"
        },
        {
          "output_type": "stream",
          "text": [
            "INFO:tensorflow:Saver not created because there are no variables in the graph to restore\n"
          ],
          "name": "stderr"
        },
        {
          "output_type": "stream",
          "text": [
            "INFO:tensorflow:Saver not created because there are no variables in the graph to restore\n"
          ],
          "name": "stdout"
        },
        {
          "output_type": "stream",
          "text": [
            "INFO:tensorflow:Saver not created because there are no variables in the graph to restore\n"
          ],
          "name": "stderr"
        },
        {
          "output_type": "stream",
          "text": [
            "INFO:tensorflow:Saver not created because there are no variables in the graph to restore\n"
          ],
          "name": "stdout"
        },
        {
          "output_type": "stream",
          "text": [
            "INFO:tensorflow:Saver not created because there are no variables in the graph to restore\n"
          ],
          "name": "stderr"
        },
        {
          "output_type": "stream",
          "text": [
            "INFO:tensorflow:Saver not created because there are no variables in the graph to restore\n"
          ],
          "name": "stdout"
        },
        {
          "output_type": "stream",
          "text": [
            "INFO:tensorflow:Saver not created because there are no variables in the graph to restore\n"
          ],
          "name": "stderr"
        },
        {
          "output_type": "stream",
          "text": [
            "INFO:tensorflow:Saver not created because there are no variables in the graph to restore\n"
          ],
          "name": "stdout"
        },
        {
          "output_type": "stream",
          "text": [
            "INFO:tensorflow:Saver not created because there are no variables in the graph to restore\n"
          ],
          "name": "stderr"
        },
        {
          "output_type": "stream",
          "text": [
            "INFO:tensorflow:Saver not created because there are no variables in the graph to restore\n"
          ],
          "name": "stdout"
        },
        {
          "output_type": "stream",
          "text": [
            "INFO:tensorflow:Saver not created because there are no variables in the graph to restore\n"
          ],
          "name": "stderr"
        },
        {
          "output_type": "stream",
          "text": [
            "INFO:tensorflow:Saver not created because there are no variables in the graph to restore\n"
          ],
          "name": "stdout"
        },
        {
          "output_type": "stream",
          "text": [
            "INFO:tensorflow:Saver not created because there are no variables in the graph to restore\n"
          ],
          "name": "stderr"
        },
        {
          "output_type": "stream",
          "text": [
            "INFO:tensorflow:Saver not created because there are no variables in the graph to restore\n"
          ],
          "name": "stdout"
        },
        {
          "output_type": "stream",
          "text": [
            "INFO:tensorflow:Saver not created because there are no variables in the graph to restore\n"
          ],
          "name": "stderr"
        }
      ]
    },
    {
      "cell_type": "code",
      "metadata": {
        "id": "ggbMpLNNBzid",
        "colab_type": "code",
        "outputId": "f3a75f7c-e4b4-468b-d56f-2236b2b6cd51",
        "colab": {
          "base_uri": "https://localhost:8080/",
          "height": 173
        }
      },
      "source": [
        "plt.figure(figsize=(2.2*(nvp_dim+2),2))\n",
        "for i in range(nvp_dim+2):\n",
        "  plt.subplot(1,nvp_dim+2,i+1)\n",
        "  plt.title('%d-%d'%(i,i+1))\n",
        "  plt.scatter(latent_space[:,i],latent_space[:,i+1])\n",
        "  plt.xlim(-50,50)\n",
        "  plt.ylim(-50,50)\n",
        "plt.savefig(os.path.join(plot_path+'/','latent_space_dis.pdf'),bbox_inches='tight')"
      ],
      "execution_count": 0,
      "outputs": [
        {
          "output_type": "display_data",
          "data": {
            "image/png": "[encoded data removed]",
            "text/plain": [
              "<Figure size 1584x144 with 10 Axes>"
            ]
          },
          "metadata": {
            "tags": []
          }
        }
      ]
    },
    {
      "cell_type": "code",
      "metadata": {
        "id": "zbF98-vcHVZ0",
        "colab_type": "code",
        "outputId": "cb2b2643-2188-40ab-d847-a4c69a56b89c",
        "colab": {
          "base_uri": "https://localhost:8080/",
          "height": 34
        }
      },
      "source": [
        "nvp_func_path    = os.path.join(module_dir, 'compression_nvp','latent_dim%d'%nvp_dim)\n",
        "print(nvp_func_path)\n",
        "if not os.path.isdir(nvp_func_path):\n",
        "  os.makedirs(nvp_func_path)"
      ],
      "execution_count": 0,
      "outputs": [
        {
          "output_type": "stream",
          "text": [
            "/content/gdrive/My Drive/NormalizingFlow/module/compression_nvp/latent_dim8\n"
          ],
          "name": "stdout"
        }
      ]
    },
    {
      "cell_type": "code",
      "metadata": {
        "id": "TYtuOw8uB-aO",
        "colab_type": "code",
        "outputId": "2f4390f1-3112-4ebb-c3de-acd50b2c531b",
        "colab": {
          "base_uri": "https://localhost:8080/",
          "height": 303
        }
      },
      "source": [
        "nvp_funcs.export(nvp_func_path,sess)"
      ],
      "execution_count": 0,
      "outputs": [
        {
          "output_type": "error",
          "ename": "AlreadyExistsError",
          "evalue": "ignored",
          "traceback": [
            "\u001b[0;31m---------------------------------------------------------------------------\u001b[0m",
            "\u001b[0;31mAlreadyExistsError\u001b[0m                        Traceback (most recent call last)",
            "\u001b[0;32m<ipython-input-126-76af1ea25957>\u001b[0m in \u001b[0;36m<module>\u001b[0;34m()\u001b[0m\n\u001b[0;32m----> 1\u001b[0;31m \u001b[0mnvp_funcs\u001b[0m\u001b[0;34m.\u001b[0m\u001b[0mexport\u001b[0m\u001b[0;34m(\u001b[0m\u001b[0mnvp_func_path\u001b[0m\u001b[0;34m,\u001b[0m\u001b[0msess\u001b[0m\u001b[0;34m)\u001b[0m\u001b[0;34m\u001b[0m\u001b[0;34m\u001b[0m\u001b[0m\n\u001b[0m",
            "\u001b[0;32m/usr/local/lib/python3.6/dist-packages/tensorflow_hub/module.py\u001b[0m in \u001b[0;36mexport\u001b[0;34m(self, path, session)\u001b[0m\n\u001b[1;32m    317\u001b[0m       raise RuntimeError(\"session graph differs from the graph where the \"\n\u001b[1;32m    318\u001b[0m                          \"module was instantiated.\")\n\u001b[0;32m--> 319\u001b[0;31m     \u001b[0mself\u001b[0m\u001b[0;34m.\u001b[0m\u001b[0m_impl\u001b[0m\u001b[0;34m.\u001b[0m\u001b[0mexport\u001b[0m\u001b[0;34m(\u001b[0m\u001b[0mpath\u001b[0m\u001b[0;34m,\u001b[0m \u001b[0msession\u001b[0m\u001b[0;34m)\u001b[0m\u001b[0;34m\u001b[0m\u001b[0;34m\u001b[0m\u001b[0m\n\u001b[0m\u001b[1;32m    320\u001b[0m \u001b[0;34m\u001b[0m\u001b[0m\n\u001b[1;32m    321\u001b[0m   \u001b[0;34m@\u001b[0m\u001b[0mproperty\u001b[0m\u001b[0;34m\u001b[0m\u001b[0;34m\u001b[0m\u001b[0m\n",
            "\u001b[0;32m/usr/local/lib/python3.6/dist-packages/tensorflow_hub/native_module.py\u001b[0m in \u001b[0;36mexport\u001b[0;34m(self, path, session)\u001b[0m\n\u001b[1;32m    584\u001b[0m             write_state=False)\n\u001b[1;32m    585\u001b[0m \u001b[0;34m\u001b[0m\u001b[0m\n\u001b[0;32m--> 586\u001b[0;31m     \u001b[0mself\u001b[0m\u001b[0;34m.\u001b[0m\u001b[0m_spec\u001b[0m\u001b[0;34m.\u001b[0m\u001b[0m_export\u001b[0m\u001b[0;34m(\u001b[0m\u001b[0mpath\u001b[0m\u001b[0;34m,\u001b[0m \u001b[0mvariables_saver\u001b[0m\u001b[0;34m)\u001b[0m  \u001b[0;31m# pylint: disable=protected-access\u001b[0m\u001b[0;34m\u001b[0m\u001b[0;34m\u001b[0m\u001b[0m\n\u001b[0m\u001b[1;32m    587\u001b[0m \u001b[0;34m\u001b[0m\u001b[0m\n\u001b[1;32m    588\u001b[0m   \u001b[0;34m@\u001b[0m\u001b[0mproperty\u001b[0m\u001b[0;34m\u001b[0m\u001b[0;34m\u001b[0m\u001b[0m\n",
            "\u001b[0;32m/usr/local/lib/python3.6/dist-packages/tensorflow_hub/native_module.py\u001b[0m in \u001b[0;36m_export\u001b[0;34m(self, path, variables_saver)\u001b[0m\n\u001b[1;32m    356\u001b[0m         \u001b[0mmodule_def_filename\u001b[0m\u001b[0;34m,\u001b[0m\u001b[0;34m\u001b[0m\u001b[0;34m\u001b[0m\u001b[0m\n\u001b[1;32m    357\u001b[0m         \u001b[0mmodule_def_proto\u001b[0m\u001b[0;34m.\u001b[0m\u001b[0mSerializeToString\u001b[0m\u001b[0;34m(\u001b[0m\u001b[0;34m)\u001b[0m\u001b[0;34m,\u001b[0m\u001b[0;34m\u001b[0m\u001b[0;34m\u001b[0m\u001b[0m\n\u001b[0;32m--> 358\u001b[0;31m         overwrite=False)\n\u001b[0m\u001b[1;32m    359\u001b[0m     \u001b[0mlogging\u001b[0m\u001b[0;34m.\u001b[0m\u001b[0minfo\u001b[0m\u001b[0;34m(\u001b[0m\u001b[0;34m\"Exported TF-Hub module to: %s\"\u001b[0m\u001b[0;34m,\u001b[0m \u001b[0mpath\u001b[0m\u001b[0;34m)\u001b[0m\u001b[0;34m\u001b[0m\u001b[0;34m\u001b[0m\u001b[0m\n\u001b[1;32m    360\u001b[0m \u001b[0;34m\u001b[0m\u001b[0m\n",
            "\u001b[0;32m/usr/local/lib/python3.6/dist-packages/tensorflow_hub/tf_utils.py\u001b[0m in \u001b[0;36matomic_write_string_to_file\u001b[0;34m(filename, contents, overwrite)\u001b[0m\n\u001b[1;32m     65\u001b[0m     \u001b[0mf\u001b[0m\u001b[0;34m.\u001b[0m\u001b[0mwrite\u001b[0m\u001b[0;34m(\u001b[0m\u001b[0mcontents\u001b[0m\u001b[0;34m)\u001b[0m\u001b[0;34m\u001b[0m\u001b[0;34m\u001b[0m\u001b[0m\n\u001b[1;32m     66\u001b[0m   \u001b[0;32mtry\u001b[0m\u001b[0;34m:\u001b[0m\u001b[0;34m\u001b[0m\u001b[0;34m\u001b[0m\u001b[0m\n\u001b[0;32m---> 67\u001b[0;31m     \u001b[0mtf_v1\u001b[0m\u001b[0;34m.\u001b[0m\u001b[0mgfile\u001b[0m\u001b[0;34m.\u001b[0m\u001b[0mRename\u001b[0m\u001b[0;34m(\u001b[0m\u001b[0mtemp_pathname\u001b[0m\u001b[0;34m,\u001b[0m \u001b[0mfilename\u001b[0m\u001b[0;34m,\u001b[0m \u001b[0moverwrite\u001b[0m\u001b[0;34m)\u001b[0m\u001b[0;34m\u001b[0m\u001b[0;34m\u001b[0m\u001b[0m\n\u001b[0m\u001b[1;32m     68\u001b[0m   \u001b[0;32mexcept\u001b[0m \u001b[0mtf\u001b[0m\u001b[0;34m.\u001b[0m\u001b[0merrors\u001b[0m\u001b[0;34m.\u001b[0m\u001b[0mOpError\u001b[0m\u001b[0;34m:\u001b[0m\u001b[0;34m\u001b[0m\u001b[0;34m\u001b[0m\u001b[0m\n\u001b[1;32m     69\u001b[0m     \u001b[0mtf_v1\u001b[0m\u001b[0;34m.\u001b[0m\u001b[0mgfile\u001b[0m\u001b[0;34m.\u001b[0m\u001b[0mRemove\u001b[0m\u001b[0;34m(\u001b[0m\u001b[0mtemp_pathname\u001b[0m\u001b[0;34m)\u001b[0m\u001b[0;34m\u001b[0m\u001b[0;34m\u001b[0m\u001b[0m\n",
            "\u001b[0;32m/usr/local/lib/python3.6/dist-packages/tensorflow/python/lib/io/file_io.py\u001b[0m in \u001b[0;36mrename\u001b[0;34m(oldname, newname, overwrite)\u001b[0m\n\u001b[1;32m    500\u001b[0m     \u001b[0merrors\u001b[0m\u001b[0;34m.\u001b[0m\u001b[0mOpError\u001b[0m\u001b[0;34m:\u001b[0m \u001b[0mIf\u001b[0m \u001b[0mthe\u001b[0m \u001b[0moperation\u001b[0m \u001b[0mfails\u001b[0m\u001b[0;34m.\u001b[0m\u001b[0;34m\u001b[0m\u001b[0;34m\u001b[0m\u001b[0m\n\u001b[1;32m    501\u001b[0m   \"\"\"\n\u001b[0;32m--> 502\u001b[0;31m   \u001b[0mrename_v2\u001b[0m\u001b[0;34m(\u001b[0m\u001b[0moldname\u001b[0m\u001b[0;34m,\u001b[0m \u001b[0mnewname\u001b[0m\u001b[0;34m,\u001b[0m \u001b[0moverwrite\u001b[0m\u001b[0;34m)\u001b[0m\u001b[0;34m\u001b[0m\u001b[0;34m\u001b[0m\u001b[0m\n\u001b[0m\u001b[1;32m    503\u001b[0m \u001b[0;34m\u001b[0m\u001b[0m\n\u001b[1;32m    504\u001b[0m \u001b[0;34m\u001b[0m\u001b[0m\n",
            "\u001b[0;32m/usr/local/lib/python3.6/dist-packages/tensorflow/python/lib/io/file_io.py\u001b[0m in \u001b[0;36mrename_v2\u001b[0;34m(src, dst, overwrite)\u001b[0m\n\u001b[1;32m    517\u001b[0m   \"\"\"\n\u001b[1;32m    518\u001b[0m   pywrap_tensorflow.RenameFile(\n\u001b[0;32m--> 519\u001b[0;31m       compat.as_bytes(src), compat.as_bytes(dst), overwrite)\n\u001b[0m\u001b[1;32m    520\u001b[0m \u001b[0;34m\u001b[0m\u001b[0m\n\u001b[1;32m    521\u001b[0m \u001b[0;34m\u001b[0m\u001b[0m\n",
            "\u001b[0;31mAlreadyExistsError\u001b[0m: file already exists"
          ]
        }
      ]
    },
    {
      "cell_type": "code",
      "metadata": {
        "id": "jUTx75tBHmMh",
        "colab_type": "code",
        "colab": {}
      },
      "source": [
        ""
      ],
      "execution_count": 0,
      "outputs": []
    }
  ]
}